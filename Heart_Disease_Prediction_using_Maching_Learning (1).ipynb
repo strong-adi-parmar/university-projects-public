{
  "cells": [
    {
      "cell_type": "code",
      "source": [
        "from googleapiclient.discovery import build\n",
        "from google.colab import auth\n",
        "\n",
        "auth.authenticate_user()\n",
        "\n",
        "drive_service = build('drive', 'v3')\n",
        "\n",
        "file_metadata = {'name': 'heart.csv'}\n",
        "media = MediaFileUpload(r'C:\\Users\\adity\\Downloads\\HEART\\heart.csv', mimetype='text/plain')\n",
        "\n",
        "uploaded_file = drive_service.files().create(body=file_metadata, media_body=media, fields='id').execute()\n",
        "\n"
      ],
      "metadata": {
        "colab": {
          "base_uri": "https://localhost:8080/",
          "height": 211
        },
        "id": "pT0ey32GriVr",
        "outputId": "cbe850a0-cce3-48a5-fc44-e978a9968c15"
      },
      "id": "pT0ey32GriVr",
      "execution_count": null,
      "outputs": [
        {
          "output_type": "error",
          "ename": "NameError",
          "evalue": "name 'MediaFileUpload' is not defined",
          "traceback": [
            "\u001b[0;31m---------------------------------------------------------------------------\u001b[0m",
            "\u001b[0;31mNameError\u001b[0m                                 Traceback (most recent call last)",
            "\u001b[0;32m<ipython-input-1-71ae9e7f3cc6>\u001b[0m in \u001b[0;36m<cell line: 9>\u001b[0;34m()\u001b[0m\n\u001b[1;32m      7\u001b[0m \u001b[0;34m\u001b[0m\u001b[0m\n\u001b[1;32m      8\u001b[0m \u001b[0mfile_metadata\u001b[0m \u001b[0;34m=\u001b[0m \u001b[0;34m{\u001b[0m\u001b[0;34m'name'\u001b[0m\u001b[0;34m:\u001b[0m \u001b[0;34m'heart.csv'\u001b[0m\u001b[0;34m}\u001b[0m\u001b[0;34m\u001b[0m\u001b[0;34m\u001b[0m\u001b[0m\n\u001b[0;32m----> 9\u001b[0;31m \u001b[0mmedia\u001b[0m \u001b[0;34m=\u001b[0m \u001b[0mMediaFileUpload\u001b[0m\u001b[0;34m(\u001b[0m\u001b[0;34mr'C:\\Users\\adity\\Downloads\\HEART\\heart.csv'\u001b[0m\u001b[0;34m,\u001b[0m \u001b[0mmimetype\u001b[0m\u001b[0;34m=\u001b[0m\u001b[0;34m'text/plain'\u001b[0m\u001b[0;34m)\u001b[0m\u001b[0;34m\u001b[0m\u001b[0;34m\u001b[0m\u001b[0m\n\u001b[0m\u001b[1;32m     10\u001b[0m \u001b[0;34m\u001b[0m\u001b[0m\n\u001b[1;32m     11\u001b[0m \u001b[0muploaded_file\u001b[0m \u001b[0;34m=\u001b[0m \u001b[0mdrive_service\u001b[0m\u001b[0;34m.\u001b[0m\u001b[0mfiles\u001b[0m\u001b[0;34m(\u001b[0m\u001b[0;34m)\u001b[0m\u001b[0;34m.\u001b[0m\u001b[0mcreate\u001b[0m\u001b[0;34m(\u001b[0m\u001b[0mbody\u001b[0m\u001b[0;34m=\u001b[0m\u001b[0mfile_metadata\u001b[0m\u001b[0;34m,\u001b[0m \u001b[0mmedia_body\u001b[0m\u001b[0;34m=\u001b[0m\u001b[0mmedia\u001b[0m\u001b[0;34m,\u001b[0m \u001b[0mfields\u001b[0m\u001b[0;34m=\u001b[0m\u001b[0;34m'id'\u001b[0m\u001b[0;34m)\u001b[0m\u001b[0;34m.\u001b[0m\u001b[0mexecute\u001b[0m\u001b[0;34m(\u001b[0m\u001b[0;34m)\u001b[0m\u001b[0;34m\u001b[0m\u001b[0;34m\u001b[0m\u001b[0m\n",
            "\u001b[0;31mNameError\u001b[0m: name 'MediaFileUpload' is not defined"
          ]
        }
      ]
    },
    {
      "cell_type": "code",
      "source": [
        "from google.colab import drive\n",
        "drive.mount('/content/drive')"
      ],
      "metadata": {
        "colab": {
          "base_uri": "https://localhost:8080/"
        },
        "id": "QKxFjEcNwWxB",
        "outputId": "28cb6170-395e-4ace-9e1d-0761b11fe68d"
      },
      "id": "QKxFjEcNwWxB",
      "execution_count": null,
      "outputs": [
        {
          "output_type": "stream",
          "name": "stdout",
          "text": [
            "Drive already mounted at /content/drive; to attempt to forcibly remount, call drive.mount(\"/content/drive\", force_remount=True).\n"
          ]
        }
      ]
    },
    {
      "cell_type": "code",
      "execution_count": null,
      "id": "6715625b",
      "metadata": {
        "id": "6715625b"
      },
      "outputs": [],
      "source": [
        "import plotly.express as px\n",
        "import pandas as pd\n",
        "import numpy as np\n",
        "import seaborn as sns\n",
        "import matplotlib.pyplot as plt\n",
        "from sklearn.preprocessing import LabelEncoder\n",
        "from sklearn.preprocessing import RobustScaler,MinMaxScaler,StandardScaler\n",
        "from sklearn.model_selection import train_test_split\n",
        "encoder=LabelEncoder()"
      ]
    },
    {
      "cell_type": "code",
      "execution_count": null,
      "id": "fe4b029e",
      "metadata": {
        "id": "fe4b029e"
      },
      "outputs": [],
      "source": [
        "from sklearn.metrics import roc_curve\n",
        "from sklearn.metrics import roc_auc_score"
      ]
    },
    {
      "cell_type": "code",
      "execution_count": null,
      "id": "39b4f0a7",
      "metadata": {
        "id": "39b4f0a7",
        "colab": {
          "base_uri": "https://localhost:8080/",
          "height": 304
        },
        "outputId": "717935a1-1699-454d-fa8b-2bca4ff4b97f"
      },
      "outputs": [
        {
          "output_type": "error",
          "ename": "FileNotFoundError",
          "evalue": "[Errno 2] No such file or directory: 'heart.csv'",
          "traceback": [
            "\u001b[0;31m---------------------------------------------------------------------------\u001b[0m",
            "\u001b[0;31mFileNotFoundError\u001b[0m                         Traceback (most recent call last)",
            "\u001b[0;32m<ipython-input-6-556bf79747e6>\u001b[0m in \u001b[0;36m<cell line: 1>\u001b[0;34m()\u001b[0m\n\u001b[0;32m----> 1\u001b[0;31m \u001b[0mdf\u001b[0m \u001b[0;34m=\u001b[0m \u001b[0mpd\u001b[0m\u001b[0;34m.\u001b[0m\u001b[0mread_csv\u001b[0m\u001b[0;34m(\u001b[0m\u001b[0;34m\"heart.csv\"\u001b[0m\u001b[0;34m)\u001b[0m\u001b[0;34m\u001b[0m\u001b[0;34m\u001b[0m\u001b[0m\n\u001b[0m",
            "\u001b[0;32m/usr/local/lib/python3.10/dist-packages/pandas/io/parsers/readers.py\u001b[0m in \u001b[0;36mread_csv\u001b[0;34m(filepath_or_buffer, sep, delimiter, header, names, index_col, usecols, dtype, engine, converters, true_values, false_values, skipinitialspace, skiprows, skipfooter, nrows, na_values, keep_default_na, na_filter, verbose, skip_blank_lines, parse_dates, infer_datetime_format, keep_date_col, date_parser, date_format, dayfirst, cache_dates, iterator, chunksize, compression, thousands, decimal, lineterminator, quotechar, quoting, doublequote, escapechar, comment, encoding, encoding_errors, dialect, on_bad_lines, delim_whitespace, low_memory, memory_map, float_precision, storage_options, dtype_backend)\u001b[0m\n\u001b[1;32m    910\u001b[0m     \u001b[0mkwds\u001b[0m\u001b[0;34m.\u001b[0m\u001b[0mupdate\u001b[0m\u001b[0;34m(\u001b[0m\u001b[0mkwds_defaults\u001b[0m\u001b[0;34m)\u001b[0m\u001b[0;34m\u001b[0m\u001b[0;34m\u001b[0m\u001b[0m\n\u001b[1;32m    911\u001b[0m \u001b[0;34m\u001b[0m\u001b[0m\n\u001b[0;32m--> 912\u001b[0;31m     \u001b[0;32mreturn\u001b[0m \u001b[0m_read\u001b[0m\u001b[0;34m(\u001b[0m\u001b[0mfilepath_or_buffer\u001b[0m\u001b[0;34m,\u001b[0m \u001b[0mkwds\u001b[0m\u001b[0;34m)\u001b[0m\u001b[0;34m\u001b[0m\u001b[0;34m\u001b[0m\u001b[0m\n\u001b[0m\u001b[1;32m    913\u001b[0m \u001b[0;34m\u001b[0m\u001b[0m\n\u001b[1;32m    914\u001b[0m \u001b[0;34m\u001b[0m\u001b[0m\n",
            "\u001b[0;32m/usr/local/lib/python3.10/dist-packages/pandas/io/parsers/readers.py\u001b[0m in \u001b[0;36m_read\u001b[0;34m(filepath_or_buffer, kwds)\u001b[0m\n\u001b[1;32m    575\u001b[0m \u001b[0;34m\u001b[0m\u001b[0m\n\u001b[1;32m    576\u001b[0m     \u001b[0;31m# Create the parser.\u001b[0m\u001b[0;34m\u001b[0m\u001b[0;34m\u001b[0m\u001b[0m\n\u001b[0;32m--> 577\u001b[0;31m     \u001b[0mparser\u001b[0m \u001b[0;34m=\u001b[0m \u001b[0mTextFileReader\u001b[0m\u001b[0;34m(\u001b[0m\u001b[0mfilepath_or_buffer\u001b[0m\u001b[0;34m,\u001b[0m \u001b[0;34m**\u001b[0m\u001b[0mkwds\u001b[0m\u001b[0;34m)\u001b[0m\u001b[0;34m\u001b[0m\u001b[0;34m\u001b[0m\u001b[0m\n\u001b[0m\u001b[1;32m    578\u001b[0m \u001b[0;34m\u001b[0m\u001b[0m\n\u001b[1;32m    579\u001b[0m     \u001b[0;32mif\u001b[0m \u001b[0mchunksize\u001b[0m \u001b[0;32mor\u001b[0m \u001b[0miterator\u001b[0m\u001b[0;34m:\u001b[0m\u001b[0;34m\u001b[0m\u001b[0;34m\u001b[0m\u001b[0m\n",
            "\u001b[0;32m/usr/local/lib/python3.10/dist-packages/pandas/io/parsers/readers.py\u001b[0m in \u001b[0;36m__init__\u001b[0;34m(self, f, engine, **kwds)\u001b[0m\n\u001b[1;32m   1405\u001b[0m \u001b[0;34m\u001b[0m\u001b[0m\n\u001b[1;32m   1406\u001b[0m         \u001b[0mself\u001b[0m\u001b[0;34m.\u001b[0m\u001b[0mhandles\u001b[0m\u001b[0;34m:\u001b[0m \u001b[0mIOHandles\u001b[0m \u001b[0;34m|\u001b[0m \u001b[0;32mNone\u001b[0m \u001b[0;34m=\u001b[0m \u001b[0;32mNone\u001b[0m\u001b[0;34m\u001b[0m\u001b[0;34m\u001b[0m\u001b[0m\n\u001b[0;32m-> 1407\u001b[0;31m         \u001b[0mself\u001b[0m\u001b[0;34m.\u001b[0m\u001b[0m_engine\u001b[0m \u001b[0;34m=\u001b[0m \u001b[0mself\u001b[0m\u001b[0;34m.\u001b[0m\u001b[0m_make_engine\u001b[0m\u001b[0;34m(\u001b[0m\u001b[0mf\u001b[0m\u001b[0;34m,\u001b[0m \u001b[0mself\u001b[0m\u001b[0;34m.\u001b[0m\u001b[0mengine\u001b[0m\u001b[0;34m)\u001b[0m\u001b[0;34m\u001b[0m\u001b[0;34m\u001b[0m\u001b[0m\n\u001b[0m\u001b[1;32m   1408\u001b[0m \u001b[0;34m\u001b[0m\u001b[0m\n\u001b[1;32m   1409\u001b[0m     \u001b[0;32mdef\u001b[0m \u001b[0mclose\u001b[0m\u001b[0;34m(\u001b[0m\u001b[0mself\u001b[0m\u001b[0;34m)\u001b[0m \u001b[0;34m->\u001b[0m \u001b[0;32mNone\u001b[0m\u001b[0;34m:\u001b[0m\u001b[0;34m\u001b[0m\u001b[0;34m\u001b[0m\u001b[0m\n",
            "\u001b[0;32m/usr/local/lib/python3.10/dist-packages/pandas/io/parsers/readers.py\u001b[0m in \u001b[0;36m_make_engine\u001b[0;34m(self, f, engine)\u001b[0m\n\u001b[1;32m   1659\u001b[0m                 \u001b[0;32mif\u001b[0m \u001b[0;34m\"b\"\u001b[0m \u001b[0;32mnot\u001b[0m \u001b[0;32min\u001b[0m \u001b[0mmode\u001b[0m\u001b[0;34m:\u001b[0m\u001b[0;34m\u001b[0m\u001b[0;34m\u001b[0m\u001b[0m\n\u001b[1;32m   1660\u001b[0m                     \u001b[0mmode\u001b[0m \u001b[0;34m+=\u001b[0m \u001b[0;34m\"b\"\u001b[0m\u001b[0;34m\u001b[0m\u001b[0;34m\u001b[0m\u001b[0m\n\u001b[0;32m-> 1661\u001b[0;31m             self.handles = get_handle(\n\u001b[0m\u001b[1;32m   1662\u001b[0m                 \u001b[0mf\u001b[0m\u001b[0;34m,\u001b[0m\u001b[0;34m\u001b[0m\u001b[0;34m\u001b[0m\u001b[0m\n\u001b[1;32m   1663\u001b[0m                 \u001b[0mmode\u001b[0m\u001b[0;34m,\u001b[0m\u001b[0;34m\u001b[0m\u001b[0;34m\u001b[0m\u001b[0m\n",
            "\u001b[0;32m/usr/local/lib/python3.10/dist-packages/pandas/io/common.py\u001b[0m in \u001b[0;36mget_handle\u001b[0;34m(path_or_buf, mode, encoding, compression, memory_map, is_text, errors, storage_options)\u001b[0m\n\u001b[1;32m    857\u001b[0m         \u001b[0;32mif\u001b[0m \u001b[0mioargs\u001b[0m\u001b[0;34m.\u001b[0m\u001b[0mencoding\u001b[0m \u001b[0;32mand\u001b[0m \u001b[0;34m\"b\"\u001b[0m \u001b[0;32mnot\u001b[0m \u001b[0;32min\u001b[0m \u001b[0mioargs\u001b[0m\u001b[0;34m.\u001b[0m\u001b[0mmode\u001b[0m\u001b[0;34m:\u001b[0m\u001b[0;34m\u001b[0m\u001b[0;34m\u001b[0m\u001b[0m\n\u001b[1;32m    858\u001b[0m             \u001b[0;31m# Encoding\u001b[0m\u001b[0;34m\u001b[0m\u001b[0;34m\u001b[0m\u001b[0m\n\u001b[0;32m--> 859\u001b[0;31m             handle = open(\n\u001b[0m\u001b[1;32m    860\u001b[0m                 \u001b[0mhandle\u001b[0m\u001b[0;34m,\u001b[0m\u001b[0;34m\u001b[0m\u001b[0;34m\u001b[0m\u001b[0m\n\u001b[1;32m    861\u001b[0m                 \u001b[0mioargs\u001b[0m\u001b[0;34m.\u001b[0m\u001b[0mmode\u001b[0m\u001b[0;34m,\u001b[0m\u001b[0;34m\u001b[0m\u001b[0;34m\u001b[0m\u001b[0m\n",
            "\u001b[0;31mFileNotFoundError\u001b[0m: [Errno 2] No such file or directory: 'heart.csv'"
          ]
        }
      ],
      "source": [
        "df = pd.read_csv(\"heart.csv\")"
      ]
    },
    {
      "cell_type": "markdown",
      "id": "fca26622",
      "metadata": {
        "id": "fca26622"
      },
      "source": [
        "#  Data pre processing, getting to know the data, what to expect from it, etc."
      ]
    },
    {
      "cell_type": "code",
      "execution_count": null,
      "id": "e9e4348a",
      "metadata": {
        "id": "e9e4348a"
      },
      "outputs": [],
      "source": [
        "df.head(10)\n",
        "# show the first 10 rows of the data, of all the features"
      ]
    },
    {
      "cell_type": "code",
      "execution_count": null,
      "id": "4a3cfbeb",
      "metadata": {
        "id": "4a3cfbeb"
      },
      "outputs": [],
      "source": [
        "df.shape\n",
        "# shows the shape by (row, column)"
      ]
    },
    {
      "cell_type": "code",
      "execution_count": null,
      "id": "a8c31432",
      "metadata": {
        "id": "a8c31432"
      },
      "outputs": [],
      "source": [
        "df.info()\n",
        "# shows information about data in detail"
      ]
    },
    {
      "cell_type": "code",
      "execution_count": null,
      "id": "fc8f81e0",
      "metadata": {
        "id": "fc8f81e0"
      },
      "outputs": [],
      "source": [
        "df.describe()\n",
        "# it is used for getting description related to the data columns"
      ]
    },
    {
      "cell_type": "code",
      "execution_count": null,
      "id": "15330198",
      "metadata": {
        "id": "15330198"
      },
      "outputs": [],
      "source": [
        "# Check Nan Values\n",
        "np.round(df.isna().sum() / len(df) * 100, 3)"
      ]
    },
    {
      "cell_type": "code",
      "execution_count": null,
      "id": "bcf3a44a",
      "metadata": {
        "id": "bcf3a44a"
      },
      "outputs": [],
      "source": [
        "# Check Duplicates Records\n"
      ]
    },
    {
      "cell_type": "code",
      "execution_count": null,
      "id": "c66ef68f",
      "metadata": {
        "id": "c66ef68f"
      },
      "outputs": [],
      "source": []
    },
    {
      "cell_type": "markdown",
      "id": "e1d908cf",
      "metadata": {
        "id": "e1d908cf"
      },
      "source": [
        "# # Exploratry Data Analysis"
      ]
    },
    {
      "cell_type": "markdown",
      "id": "2f1dae94",
      "metadata": {
        "id": "2f1dae94"
      },
      "source": [
        "Correlation matrix is necessary to remove correlated variables in order to improve our model. It can be done by using \"corr()\" function and can visualise using plots."
      ]
    },
    {
      "cell_type": "code",
      "execution_count": null,
      "id": "100135bc",
      "metadata": {
        "id": "100135bc"
      },
      "outputs": [],
      "source": []
    },
    {
      "cell_type": "markdown",
      "id": "1b141310",
      "metadata": {
        "id": "1b141310"
      },
      "source": [
        "Converting the Data columns into floats from Strings and Objects"
      ]
    },
    {
      "cell_type": "code",
      "execution_count": null,
      "id": "587d8ade",
      "metadata": {
        "id": "587d8ade"
      },
      "outputs": [],
      "source": [
        "df['ChestPainType']=encoder.fit_transform(df[ 'ChestPainType'])\n",
        "df['Sex']=encoder.fit_transform(df[ 'Sex'])\n",
        "df['ExerciseAngina']=encoder.fit_transform(df[ 'ExerciseAngina'])\n",
        "df['RestingECG']=encoder.fit_transform(df[ 'RestingECG'])\n",
        "df['ST_Slope']=encoder.fit_transform(df[ 'ST_Slope'])"
      ]
    },
    {
      "cell_type": "code",
      "execution_count": null,
      "id": "723fe685",
      "metadata": {
        "id": "723fe685"
      },
      "outputs": [],
      "source": [
        "df.head(10)"
      ]
    },
    {
      "cell_type": "code",
      "execution_count": null,
      "id": "71bfed34",
      "metadata": {
        "id": "71bfed34"
      },
      "outputs": [],
      "source": [
        "plt.figure(figsize=(12, 7))\n",
        "sns.heatmap(df.corr(), cmap='RdYlGn', annot=True)\n",
        "plt.show()"
      ]
    },
    {
      "cell_type": "markdown",
      "id": "812c1bd2",
      "metadata": {
        "id": "812c1bd2"
      },
      "source": [
        "Here we can see that Heart Disease has a negative corrleation with \"MaxHR\" and with \"Cholesterol\", whereas positive correlation with \"Oldpeak\", \"FastingBS\" and \"RestingBP\"."
      ]
    },
    {
      "cell_type": "code",
      "execution_count": null,
      "id": "9cf0bc35",
      "metadata": {
        "id": "9cf0bc35"
      },
      "outputs": [],
      "source": [
        "print(df[\"HeartDisease\"].value_counts())\n",
        "df[\"HeartDisease\"].value_counts().plot(kind=\"pie\", autopct='%1.1f%%', figsize=(6, 6));"
      ]
    },
    {
      "cell_type": "code",
      "execution_count": null,
      "id": "36f7d45f",
      "metadata": {
        "scrolled": true,
        "id": "36f7d45f"
      },
      "outputs": [],
      "source": [
        "sns.set(style=\"whitegrid\")\n",
        "\n",
        "\n",
        "plt.figure(figsize=(8, 5))\n",
        "sns.histplot(data=df, x=\"HeartDisease\", hue=\"Sex\", multiple=\"dodge\")\n",
        "plt.title(\"Distribution of Heart Diseases\")\n",
        "plt.xlabel(\"Heart Disease\")\n",
        "plt.ylabel(\"Count\")\n",
        "plt.show()"
      ]
    },
    {
      "cell_type": "code",
      "execution_count": null,
      "id": "4539722f",
      "metadata": {
        "id": "4539722f"
      },
      "outputs": [],
      "source": [
        "# Set style\n",
        "sns.set(style=\"whitegrid\")\n",
        "\n",
        "# Create the histogram\n",
        "plt.figure(figsize=(10, 6))\n",
        "sns.histplot(data=df, x=\"ChestPainType\", hue=\"Sex\", multiple=\"dodge\")\n",
        "plt.title(\"Types of Chest Pain\")\n",
        "plt.xlabel(\"Chest Pain Type\")\n",
        "plt.ylabel(\"Count\")\n",
        "plt.show()"
      ]
    },
    {
      "cell_type": "code",
      "execution_count": null,
      "id": "e3f1ba60",
      "metadata": {
        "id": "e3f1ba60"
      },
      "outputs": [],
      "source": [
        "sns.set(style=\"whitegrid\")\n",
        "\n",
        "# Plotting the Sex ratio using seaborn\n",
        "plt.figure(figsize=(8, 6))\n",
        "sns.countplot(data=df, x=\"Sex\")\n",
        "plt.title(\"Sex Ratio in the Data\")\n",
        "plt.xlabel(\"Sex\")\n",
        "plt.ylabel(\"Count\")\n",
        "plt.show()"
      ]
    },
    {
      "cell_type": "code",
      "execution_count": null,
      "id": "bb2c52a6",
      "metadata": {
        "id": "bb2c52a6"
      },
      "outputs": [],
      "source": [
        "sns.set(style=\"whitegrid\")\n",
        "\n",
        "# Creating the histogram using Seaborn\n",
        "sns.histplot(data=df, x=\"RestingECG\")\n",
        "plt.title(\"Distribution of Resting ECG\")\n",
        "plt.show()\n"
      ]
    },
    {
      "cell_type": "markdown",
      "id": "4616c863",
      "metadata": {
        "id": "4616c863"
      },
      "source": [
        "Use the pairplot() method to plot several paired bivariate distributions inside a dataset. This displays the association between a set of (n, 2) variables in a DataFrame as a matrix of plots, with the univariate plots being the diagonal plots."
      ]
    },
    {
      "cell_type": "code",
      "execution_count": null,
      "id": "5930d8a0",
      "metadata": {
        "id": "5930d8a0"
      },
      "outputs": [],
      "source": [
        "plt.figure(figsize=(15,10))\n",
        "sns.pairplot(df,hue=\"HeartDisease\")\n",
        "plt.title(\"Looking for Insites in Data\")\n",
        "plt.legend(\"HeartDisease\")\n",
        "plt.tight_layout()\n",
        "plt.plot()\n",
        "# MIGHT REMOVE THIS"
      ]
    },
    {
      "cell_type": "code",
      "execution_count": null,
      "id": "b8f66a3f",
      "metadata": {
        "id": "b8f66a3f"
      },
      "outputs": [],
      "source": []
    },
    {
      "cell_type": "code",
      "execution_count": null,
      "id": "ef5a27c4",
      "metadata": {
        "id": "ef5a27c4"
      },
      "outputs": [],
      "source": [
        "plt.figure(figsize=(15,10))\n",
        "# Creating a subplot\n",
        "for i,col in enumerate(df.columns,1):\n",
        "    plt.subplot(4,3,i)\n",
        "    plt.title(f\"Distribution of {col} Data\")\n",
        "    sns.histplot(df[col],kde=True)\n",
        "    plt.tight_layout()\n",
        "    plt.plot()\n"
      ]
    },
    {
      "cell_type": "code",
      "execution_count": null,
      "id": "bf5a0ece",
      "metadata": {
        "id": "bf5a0ece"
      },
      "outputs": [],
      "source": [
        "plt.figure(figsize=(10, 6))\n",
        "\n",
        "# Creating a boxplot using Seaborn\n",
        "sns.boxplot(x=\"HeartDisease\", y=\"Age\", data=df)\n",
        "plt.title(\"Distribution of Patients Age\")\n",
        "plt.show()"
      ]
    },
    {
      "cell_type": "code",
      "execution_count": null,
      "id": "31d99036",
      "metadata": {
        "id": "31d99036"
      },
      "outputs": [],
      "source": [
        "plt.figure(figsize=(10, 6))\n",
        "\n",
        "# Creating a boxplot using Seaborn\n",
        "sns.boxplot(x=\"HeartDisease\", y=\"RestingBP\", hue=\"Sex\", data=df)\n",
        "plt.title(\"Distribution of RestingBP\")\n",
        "plt.show()"
      ]
    },
    {
      "cell_type": "markdown",
      "id": "02616ef7",
      "metadata": {
        "id": "02616ef7"
      },
      "source": [
        "the dots indicataes outliers"
      ]
    },
    {
      "cell_type": "code",
      "execution_count": null,
      "id": "246aae40",
      "metadata": {
        "id": "246aae40"
      },
      "outputs": [],
      "source": [
        "plt.figure(figsize=(10, 6))\n",
        "\n",
        "# Creating a boxplot using Seaborn\n",
        "sns.boxplot(x=\"HeartDisease\", y=\"Cholesterol\", data=df)\n",
        "plt.title(\"Distribution of Cholesterol\")\n",
        "plt.show()"
      ]
    },
    {
      "cell_type": "markdown",
      "id": "f2360aa1",
      "metadata": {
        "id": "f2360aa1"
      },
      "source": [
        "Normalization is a scaling technique in which values are shifted and rescaled so that they end up ranging between 0 and 1. It is also known as Min-Max scaling"
      ]
    },
    {
      "cell_type": "raw",
      "id": "e498a43d",
      "metadata": {
        "id": "e498a43d"
      },
      "source": [
        "\n",
        "Here, Xmax and Xmin are the maximum and the minimum values of the feature respectively.\n",
        "\n",
        "When the value of X is the minimum value in the column, the numerator will be 0, and hence X’ is 0 On the other hand, when the value of X is the maximum value in the column, the numerator is equal to the denominator and thus the value of X’ is 1 If the value of X is between the minimum and the maximum value, then the value of X’ is between 0 and 1"
      ]
    },
    {
      "cell_type": "code",
      "execution_count": null,
      "id": "dbb697f8",
      "metadata": {
        "id": "dbb697f8"
      },
      "outputs": [],
      "source": [
        "X = df.drop(\"HeartDisease\", axis = 1)\n",
        "y = df[\"HeartDisease\"]"
      ]
    },
    {
      "cell_type": "code",
      "execution_count": null,
      "id": "a622971e",
      "metadata": {
        "id": "a622971e"
      },
      "outputs": [],
      "source": [
        "y"
      ]
    },
    {
      "cell_type": "code",
      "execution_count": null,
      "id": "7d580eb4",
      "metadata": {
        "id": "7d580eb4"
      },
      "outputs": [],
      "source": [
        "scaler = RobustScaler()\n",
        "scaledX = scaler.fit_transform(X)"
      ]
    },
    {
      "cell_type": "code",
      "execution_count": null,
      "id": "c0a7173e",
      "metadata": {
        "id": "c0a7173e"
      },
      "outputs": [],
      "source": [
        "scaledX"
      ]
    },
    {
      "cell_type": "code",
      "execution_count": null,
      "id": "180438d4",
      "metadata": {
        "id": "180438d4"
      },
      "outputs": [],
      "source": [
        "feature_names = ['Age', 'Sex', 'ChestPainType', 'RestingBP', 'Cholesterol', 'FastingBS', 'RestingECG', 'MaxHR', 'ExerciseAngina', 'Oldpeak', 'ST_Slope']\n",
        "scaledX = pd.DataFrame(scaledX, columns=feature_names)"
      ]
    },
    {
      "cell_type": "code",
      "execution_count": null,
      "id": "4a9439ac",
      "metadata": {
        "id": "4a9439ac"
      },
      "outputs": [],
      "source": [
        "scaledX"
      ]
    },
    {
      "cell_type": "code",
      "execution_count": null,
      "id": "dfd7ac96",
      "metadata": {
        "id": "dfd7ac96"
      },
      "outputs": [],
      "source": [
        "X_train, X_test, y_train, y_test = train_test_split(\n",
        "     scaledX, y, test_size=0.2, random_state=0\n",
        " )"
      ]
    },
    {
      "cell_type": "code",
      "execution_count": null,
      "id": "1b0a5d76",
      "metadata": {
        "scrolled": false,
        "id": "1b0a5d76"
      },
      "outputs": [],
      "source": [
        "X_train"
      ]
    },
    {
      "cell_type": "code",
      "execution_count": null,
      "id": "12f6c852",
      "metadata": {
        "id": "12f6c852"
      },
      "outputs": [],
      "source": []
    },
    {
      "cell_type": "code",
      "execution_count": null,
      "id": "81aa88ef",
      "metadata": {
        "id": "81aa88ef"
      },
      "outputs": [],
      "source": [
        "from sklearn.linear_model import LogisticRegression\n",
        "from sklearn.model_selection import train_test_split\n",
        "from sklearn.metrics import confusion_matrix\n",
        "from sklearn.metrics import roc_auc_score\n",
        "\n",
        "from sklearn.model_selection import cross_val_score\n",
        "from sklearn.model_selection import GridSearchCV\n",
        "from sklearn.metrics import classification_report\n",
        "from sklearn.metrics import accuracy_score\n",
        "from sklearn.model_selection import RepeatedStratifiedKFold\n",
        "from sklearn.metrics import precision_recall_curve"
      ]
    },
    {
      "cell_type": "code",
      "execution_count": null,
      "id": "af3a1bf5",
      "metadata": {
        "id": "af3a1bf5"
      },
      "outputs": [],
      "source": [
        "def model(classifier):\n",
        "\n",
        "    classifier.fit(X_train,y_train)\n",
        "    prediction = classifier.predict(X_test)\n",
        "    cv = RepeatedStratifiedKFold(n_splits = 10,n_repeats = 3,random_state = 1)\n",
        "    print(\"Accuracy : \",'{0:.2%}'.format(accuracy_score(y_test,prediction)))\n",
        "    print(\"Cross Validation Score : \",'{0:.2%}'.format(cross_val_score(classifier,X_train,y_train,cv = cv,scoring = 'roc_auc').mean()))\n",
        "    print(\"ROC_AUC Score : \",'{0:.2%}'.format(roc_auc_score(y_test,prediction)))\n",
        "    plot_roc_curve(classifier, X_test,y_test)\n",
        "    plt.title('ROC_AUC_Plot')\n",
        "    plt.show()\n",
        "\n",
        "def model_evaluation(classifier):\n",
        "\n",
        "    # Confusion Matrix\n",
        "    cm = confusion_matrix(y_test,classifier.predict(X_test))\n",
        "    names = ['True Neg','False Pos','False Neg','True Pos']\n",
        "    counts = [value for value in cm.flatten()]\n",
        "    percentages = ['{0:.2%}'.format(value) for value in cm.flatten()/np.sum(cm)]\n",
        "    labels = [f'{v1}\\n{v2}\\n{v3}' for v1, v2, v3 in zip(names,counts,percentages)]\n",
        "    labels = np.asarray(labels).reshape(2,2)\n",
        "    sns.heatmap(cm,annot = labels,fmt ='')\n",
        "\n",
        "    # Classification Report\n",
        "    print(classification_report(y_test,classifier.predict(X_test)))"
      ]
    },
    {
      "cell_type": "code",
      "execution_count": null,
      "id": "794cc198",
      "metadata": {
        "id": "794cc198"
      },
      "outputs": [],
      "source": [
        "classifier_lr = LogisticRegression(random_state = 0,C=10,penalty= 'l2')"
      ]
    },
    {
      "cell_type": "code",
      "execution_count": null,
      "id": "3dbc12f8",
      "metadata": {
        "id": "3dbc12f8"
      },
      "outputs": [],
      "source": []
    },
    {
      "cell_type": "code",
      "execution_count": null,
      "id": "42bead43",
      "metadata": {
        "id": "42bead43"
      },
      "outputs": [],
      "source": [
        "pip install -U scikit-learn"
      ]
    },
    {
      "cell_type": "code",
      "execution_count": null,
      "id": "5249904c",
      "metadata": {
        "id": "5249904c"
      },
      "outputs": [],
      "source": [
        "#model_evaluation(classifier_lr)"
      ]
    },
    {
      "cell_type": "markdown",
      "id": "ad2ec605",
      "metadata": {
        "id": "ad2ec605"
      },
      "source": [
        "##  1. Logistic Regression:"
      ]
    },
    {
      "cell_type": "code",
      "execution_count": null,
      "id": "b614e477",
      "metadata": {
        "id": "b614e477"
      },
      "outputs": [],
      "source": [
        "from sklearn.linear_model import LogisticRegression"
      ]
    },
    {
      "cell_type": "markdown",
      "id": "1cc47e2e",
      "metadata": {
        "id": "1cc47e2e"
      },
      "source": [
        "#### Training and fitting the model"
      ]
    },
    {
      "cell_type": "code",
      "execution_count": null,
      "id": "4c426bc0",
      "metadata": {
        "id": "4c426bc0"
      },
      "outputs": [],
      "source": [
        "lr_model = LogisticRegression()\n",
        "lr_model.fit(X_train, y_train)"
      ]
    },
    {
      "cell_type": "code",
      "execution_count": null,
      "id": "641c7885",
      "metadata": {
        "id": "641c7885"
      },
      "outputs": [],
      "source": [
        "y_pred = lr_model.predict(X_test)\n",
        "\n",
        "print(\"Prediction on training set:\", y_pred)"
      ]
    },
    {
      "cell_type": "markdown",
      "id": "dca53c9d",
      "metadata": {
        "id": "dca53c9d"
      },
      "source": [
        "####  Accuracy Scores ✅%"
      ]
    },
    {
      "cell_type": "code",
      "execution_count": null,
      "id": "22c4ac77",
      "metadata": {
        "id": "22c4ac77"
      },
      "outputs": [],
      "source": [
        "print(\"Accuracy on training set:\", lr_model.score(X_train, y_train))"
      ]
    },
    {
      "cell_type": "markdown",
      "id": "314ef0f0",
      "metadata": {
        "id": "314ef0f0"
      },
      "source": [
        "## performing GridSearchCV"
      ]
    },
    {
      "cell_type": "code",
      "execution_count": null,
      "id": "fb1a86d5",
      "metadata": {
        "id": "fb1a86d5"
      },
      "outputs": [],
      "source": [
        "lr_classifier = LogisticRegression(random_state=42)\n",
        "param_grid = {\n",
        "    'C': [0.001, 0.01, 0.1, 1, 10, 100],\n",
        "    'penalty': ['l1', 'l2']\n",
        "}"
      ]
    },
    {
      "cell_type": "code",
      "execution_count": null,
      "id": "67b24618",
      "metadata": {
        "id": "67b24618"
      },
      "outputs": [],
      "source": [
        "grid_search = GridSearchCV(estimator=lr_classifier, param_grid=param_grid, cv=5, scoring='accuracy', n_jobs=1)\n",
        "grid_search.fit(X_train, y_train)\n",
        "\n",
        "# Get the best parameters and best score\n",
        "best_params = grid_search.best_params_\n",
        "best_score = grid_search.best_score_\n",
        "\n",
        "print(\"Best Parameters:\", best_params)\n",
        "print(\"Best Score:\", best_score)\n",
        "\n",
        "# Use the best estimator to make predictions\n",
        "best_classifier = grid_search.best_estimator_\n",
        "y_pred = best_classifier.predict(X_test)\n",
        "\n",
        "# Calculate accuracy on the test set\n",
        "accuracy = accuracy_score(y_test, y_pred)\n",
        "print(\"Accuracy on Test Set:\", accuracy)"
      ]
    },
    {
      "cell_type": "markdown",
      "id": "ae004787",
      "metadata": {
        "id": "ae004787"
      },
      "source": [
        "#### Accuracy Scores ✅% with GridSearchCV, StratifiedKFold"
      ]
    },
    {
      "cell_type": "code",
      "execution_count": null,
      "id": "2c06b13c",
      "metadata": {
        "id": "2c06b13c"
      },
      "outputs": [],
      "source": [
        "cv = RepeatedStratifiedKFold(n_splits = 10,n_repeats = 3,random_state = 1)"
      ]
    },
    {
      "cell_type": "code",
      "execution_count": null,
      "id": "6df8ca70",
      "metadata": {
        "id": "6df8ca70"
      },
      "outputs": [],
      "source": [
        "    print(\"Cross Validation Score : \",'{0:.4%}'.format(cross_val_score(lr_classifier,X_train,y_train,cv = cv,scoring = 'roc_auc').mean()))"
      ]
    },
    {
      "cell_type": "code",
      "execution_count": null,
      "id": "b82c9fed",
      "metadata": {
        "id": "b82c9fed"
      },
      "outputs": [],
      "source": [
        "roc_auc_score = roc_auc_score(y_test,y_pred)"
      ]
    },
    {
      "cell_type": "code",
      "execution_count": null,
      "id": "5200b5fe",
      "metadata": {
        "id": "5200b5fe"
      },
      "outputs": [],
      "source": [
        "roc_auc_score"
      ]
    },
    {
      "cell_type": "code",
      "execution_count": null,
      "id": "66b2435c",
      "metadata": {
        "id": "66b2435c"
      },
      "outputs": [],
      "source": [
        "model_evaluation(lr_model)"
      ]
    },
    {
      "cell_type": "code",
      "execution_count": null,
      "id": "dbb9e596",
      "metadata": {
        "scrolled": true,
        "id": "dbb9e596"
      },
      "outputs": [],
      "source": [
        "\n",
        "from sklearn.metrics import roc_curve, RocCurveDisplay\n",
        "# Make predictions on the test set\n",
        "y_pred_proba_lr = lr_model.predict_proba(X_test)[:, 1]\n",
        "\n",
        "# Compute ROC curve\n",
        "fpr_lr, tpr_lr, _ = roc_curve(y_test, y_pred_proba_lr)\n",
        "\n",
        "# Compute AUC CHAMP\n",
        "roc_auc_lr = roc_auc_score(y_test, y_pred_proba_lr)\n",
        "\n",
        "# Plot ROC curve with AUC\n",
        "roc_display_lr = RocCurveDisplay(fpr=fpr_lr, tpr=tpr_lr, roc_auc=roc_auc_lr)\n",
        "roc_display_lr.plot(color='blue')  # Plot the ROC curve\n",
        "\n",
        "# Plot the additional black line from top right to bottom left\n",
        "plt.plot([1, 0], [1, 0], color='black', linestyle='--')\n",
        "\n",
        "plt.title('ROC Curve - LR (AUC = {:.2f})'.format(roc_auc_lr))\n",
        "plt.xlabel('False Positive Rate')\n",
        "plt.ylabel('True Positive Rate')\n",
        "plt.show()"
      ]
    },
    {
      "cell_type": "code",
      "execution_count": null,
      "id": "1effbda5",
      "metadata": {
        "id": "1effbda5"
      },
      "outputs": [],
      "source": [
        "from sklearn.metrics import roc_curve, auc\n",
        "import matplotlib.pyplot as plt\n",
        "\n",
        "# Compute ROC curve and ROC area\n",
        "fpr, tpr, _ = roc_curve(y_test, y_pred)\n",
        "roc_auc = auc(fpr, tpr)\n",
        "\n",
        "# Plot ROC curve\n",
        "plt.figure()\n",
        "plt.plot(fpr, tpr, color='darkorange', lw=2, label='ROC curve (area = %0.2f)' % roc_auc)\n",
        "plt.plot([0, 1], [0, 1], color='navy', lw=2, linestyle='--')\n",
        "plt.xlim([0.0, 1.0])\n",
        "plt.ylim([0.0, 1.05])\n",
        "plt.xlabel('False Positive Rate')\n",
        "plt.ylabel('True Positive Rate')\n",
        "plt.title('Receiver Operating Characteristic (ROC) Curve')\n",
        "plt.legend(loc=\"lower right\")\n",
        "plt.show()"
      ]
    },
    {
      "cell_type": "markdown",
      "id": "5ab52266",
      "metadata": {
        "id": "5ab52266"
      },
      "source": [
        "###   Method 1: Logistic Regression\n",
        "####   - overall scores and accuracies\n",
        "#### Best Score: 0.85  |  ROC Score: 0.8223  |  Cross Validation Score :  91.4255%"
      ]
    },
    {
      "cell_type": "code",
      "execution_count": null,
      "id": "cb0cbacd",
      "metadata": {
        "id": "cb0cbacd"
      },
      "outputs": [],
      "source": [
        "pip install --upgrade scikit-learn"
      ]
    },
    {
      "cell_type": "markdown",
      "id": "9382394b",
      "metadata": {
        "id": "9382394b"
      },
      "source": [
        "# 2. Decision Trees/Random Forest/XG Boost"
      ]
    },
    {
      "cell_type": "code",
      "execution_count": null,
      "id": "92988337",
      "metadata": {
        "id": "92988337"
      },
      "outputs": [],
      "source": [
        "from sklearn.tree import DecisionTreeClassifier\n",
        "from sklearn import tree\n"
      ]
    },
    {
      "cell_type": "markdown",
      "id": "a9c94537",
      "metadata": {
        "id": "a9c94537"
      },
      "source": [
        "#### Training and fitting the model:"
      ]
    },
    {
      "cell_type": "code",
      "execution_count": null,
      "id": "bb23105f",
      "metadata": {
        "id": "bb23105f"
      },
      "outputs": [],
      "source": [
        "#scikit learn decision tree model training\n",
        "DT = tree.DecisionTreeClassifier()\n",
        "DT = DT.fit(X_train, y_train)"
      ]
    },
    {
      "cell_type": "code",
      "execution_count": null,
      "id": "399a501d",
      "metadata": {
        "id": "399a501d"
      },
      "outputs": [],
      "source": [
        "DT.predict(X_train)\n",
        "prediction = DT.predict(X_test)"
      ]
    },
    {
      "cell_type": "code",
      "execution_count": null,
      "id": "c6e133e3",
      "metadata": {
        "id": "c6e133e3"
      },
      "outputs": [],
      "source": [
        "# evaluation for multi class classification\n",
        "print(classification_report(y_test, prediction))"
      ]
    },
    {
      "cell_type": "code",
      "execution_count": null,
      "id": "37b5450e",
      "metadata": {
        "id": "37b5450e"
      },
      "outputs": [],
      "source": [
        "#Let's check accuracy of the model build\n",
        "DT.score(X_test, y_test)"
      ]
    },
    {
      "cell_type": "code",
      "execution_count": null,
      "id": "6daab7fb",
      "metadata": {
        "id": "6daab7fb"
      },
      "outputs": [],
      "source": [
        "#Accuracy\n",
        "from sklearn import metrics\n",
        "print('Accuracy Score:', metrics.accuracy_score(y_test, y_pred))"
      ]
    },
    {
      "cell_type": "markdown",
      "id": "4238cdd2",
      "metadata": {
        "id": "4238cdd2"
      },
      "source": [
        "#### Applying GridSearchCV, KFold and Confusion matrix"
      ]
    },
    {
      "cell_type": "code",
      "execution_count": null,
      "id": "775ab673",
      "metadata": {
        "id": "775ab673"
      },
      "outputs": [],
      "source": [
        "param_grid = {\n",
        "   'max_depth': [3, 5, 7],\n",
        "    'min_samples_split': [2, 5, 10],\n",
        "    'min_samples_leaf': [1, 2, 4]\n",
        "}"
      ]
    },
    {
      "cell_type": "code",
      "execution_count": null,
      "id": "55584266",
      "metadata": {
        "id": "55584266"
      },
      "outputs": [],
      "source": [
        "# Create a RandomForestClassifier\n",
        "dt_classifier = DecisionTreeClassifier(random_state=42)\n",
        "\n",
        "# Instantiate GridSearchCV\n",
        "grid_search = GridSearchCV(estimator=dt_classifier, param_grid=param_grid, cv=5, scoring='accuracy', n_jobs=-1)\n",
        "\n",
        "# Fit the grid search to the data\n",
        "grid_search.fit(X_train, y_train)\n",
        "\n",
        "# Get the best parameters and best score\n",
        "best_params = grid_search.best_params_\n",
        "best_score = grid_search.best_score_\n",
        "\n",
        "print(\"Best Parameters:\", best_params)\n",
        "print(\"Best Score:\", best_score)\n",
        "\n",
        "# Use the best estimator to make predictions\n",
        "best_classifier = grid_search.best_estimator_\n",
        "y_pred = best_classifier.predict(X_test)\n",
        "\n",
        "# Calculate accuracy on the test set\n",
        "accuracy = accuracy_score(y_test, y_pred)"
      ]
    },
    {
      "cell_type": "code",
      "execution_count": null,
      "id": "b25a1b2b",
      "metadata": {
        "id": "b25a1b2b"
      },
      "outputs": [],
      "source": [
        "from sklearn.model_selection import StratifiedKFold\n",
        "from sklearn.tree import DecisionTreeClassifier\n",
        "from sklearn.metrics import classification_report, roc_auc_score\n",
        "\n",
        "# Define the number of folds\n",
        "n_splits = 5\n",
        "\n",
        "# Initialize StratifiedKFold with the number of splits\n",
        "kf = StratifiedKFold(n_splits=n_splits)\n",
        "\n",
        "# Initialize an empty list to store accuracy scores for each fold\n",
        "acc_Dtree_dt = []\n",
        "\n",
        "# Loop through each fold\n",
        "for fold, (train_index, valid_index) in enumerate(kf.split(X_train, y_train)):\n",
        "    print(f\"Fold {fold + 1}\")\n",
        "\n",
        "    # Split the training data into training and validation sets for this fold\n",
        "    X_train_fold_dt, X_valid_fold_dt = X_train.iloc[train_index], X_train.iloc[valid_index]\n",
        "    y_train_fold_dt, y_valid_fold_dt = y_train.iloc[train_index], y_train.iloc[valid_index]\n",
        "\n",
        "    # Initialize and fit the Decision Tree classifier\n",
        "    clf_dt = DecisionTreeClassifier(criterion=\"entropy\")\n",
        "    clf_dt.fit(X_train_fold_dt, y_train_fold_dt)\n",
        "\n",
        "    # Make predictions on the validation set\n",
        "    y_pred_fold_dt = clf_dt.predict(X_valid_fold_dt)\n",
        "\n",
        "    # Calculate and print the classification report for this fold\n",
        "    print(classification_report(y_valid_fold_dt, y_pred_fold_dt))\n",
        "\n",
        "    # Calculate the accuracy for this fold and append it to the list\n",
        "    acc_fold_dt = roc_auc_score(y_valid_fold_dt, y_pred_fold_dt)\n",
        "    acc_Dtree_dt.append(acc_fold_dt)\n",
        "\n",
        "    print(f\"Accuracy for Fold {fold + 1}: {acc_fold_dt}\")\n",
        "\n",
        "# After all folds are completed, print the average accuracy across all folds\n",
        "print(f\"Average Accuracy across all Folds: {sum(acc_Dtree_dt) / n_splits}\")\n"
      ]
    },
    {
      "cell_type": "code",
      "execution_count": null,
      "id": "bb628c7b",
      "metadata": {
        "id": "bb628c7b"
      },
      "outputs": [],
      "source": [
        "import sklearn\n",
        "print(sklearn.__version__)"
      ]
    },
    {
      "cell_type": "code",
      "execution_count": null,
      "id": "890cc06f",
      "metadata": {
        "id": "890cc06f"
      },
      "outputs": [],
      "source": [
        "model_evaluation(clf_dt)"
      ]
    },
    {
      "cell_type": "markdown",
      "id": "9539d63b",
      "metadata": {
        "id": "9539d63b"
      },
      "source": [
        "#### ROC Curve:"
      ]
    },
    {
      "cell_type": "code",
      "execution_count": null,
      "id": "731a8f0d",
      "metadata": {
        "id": "731a8f0d"
      },
      "outputs": [],
      "source": [
        "\n",
        "from sklearn.metrics import roc_curve, RocCurveDisplay\n",
        "# Make predictions on the test set\n",
        "y_pred_proba_dt = clf_dt.predict_proba(X_test)[:, 1]\n",
        "\n",
        "# Compute ROC curve\n",
        "fpr_dt, tpr_dt, _ = roc_curve(y_test, y_pred_proba_dt)\n",
        "\n",
        "# Compute AUC\n",
        "roc_auc_dt = roc_auc_score(y_test, y_pred_proba_dt)\n",
        "\n",
        "# Plot ROC curve with AUC\n",
        "roc_display_dt = RocCurveDisplay(fpr=fpr_dt, tpr=tpr_dt, roc_auc=roc_auc_dt)\n",
        "roc_display_dt.plot(color='blue')  # Plot the ROC curve\n",
        "\n",
        "# Plot the additional black line from top right to bottom left\n",
        "plt.plot([1, 0], [1, 0], color='black', linestyle='--')\n",
        "\n",
        "plt.title('ROC Curve - Decision Tree (AUC = {:.2f})'.format(roc_auc_dt))\n",
        "plt.xlabel('False Positive Rate')\n",
        "plt.ylabel('True Positive Rate')\n",
        "plt.show()"
      ]
    },
    {
      "cell_type": "markdown",
      "id": "509ae519",
      "metadata": {
        "id": "509ae519"
      },
      "source": [
        "#    Random Forest\n"
      ]
    },
    {
      "cell_type": "code",
      "execution_count": null,
      "id": "43d7849d",
      "metadata": {
        "id": "43d7849d"
      },
      "outputs": [],
      "source": [
        "from sklearn.model_selection import StratifiedKFold\n",
        "from sklearn.ensemble import RandomForestClassifier\n",
        "from sklearn.metrics import classification_report, roc_auc_score\n",
        "\n",
        "# Define the number of folds\n",
        "n_splits = 5\n",
        "\n",
        "# Initialize StratifiedKFold with the number of splits\n",
        "kf = StratifiedKFold(n_splits=n_splits)\n",
        "\n",
        "# Initialize an empty list to store accuracy scores for each fold\n",
        "acc_Dtree_rf = []\n",
        "\n",
        "# Loop through each fold\n",
        "for fold, (train_index, valid_index) in enumerate(kf.split(X_train, y_train)):\n",
        "    print(f\"Fold {fold + 1}\")\n",
        "\n",
        "    # Split the training data into training and validation sets for this fold\n",
        "    X_train_fold_rf, X_valid_fold_rf = X_train.iloc[train_index], X_train.iloc[valid_index]\n",
        "    y_train_fold_rf, y_valid_fold_rf = y_train.iloc[train_index], y_train.iloc[valid_index]\n",
        "\n",
        "    # Initialize and fit the Decision Tree classifier\n",
        "    clf_rf = RandomForestClassifier(criterion=\"entropy\")\n",
        "    clf_rf.fit(X_train_fold_rf, y_train_fold_rf)\n",
        "\n",
        "    # Make predictions on the validation set\n",
        "    y_pred_fold_rf = clf_rf.predict(X_valid_fold_rf)\n",
        "\n",
        "    # Calculate and print the classification report for this fold\n",
        "    print(classification_report(y_valid_fold_rf, y_pred_fold_rf))\n",
        "\n",
        "    # Calculate the accuracy for this fold and append it to the list\n",
        "    acc_fold_rf = roc_auc_score(y_valid_fold_rf, y_pred_fold_rf)\n",
        "    acc_Dtree_rf.append(acc_fold_rf)\n",
        "\n",
        "    print(f\"Accuracy for Fold {fold + 1}: {acc_fold_rf}\")\n",
        "\n",
        "# After all folds are completed, print the average accuracy across all folds\n",
        "print(f\"Average Accuracy across all Folds: {sum(acc_Dtree_rf) / n_splits}\")\n"
      ]
    },
    {
      "cell_type": "code",
      "execution_count": null,
      "id": "438c4de8",
      "metadata": {
        "id": "438c4de8"
      },
      "outputs": [],
      "source": [
        "\n",
        "model_evaluation(clf_rf)"
      ]
    },
    {
      "cell_type": "code",
      "execution_count": null,
      "id": "7a2a07bb",
      "metadata": {
        "id": "7a2a07bb"
      },
      "outputs": [],
      "source": [
        "y_pred_proba_rf = clf_rf.predict_proba(X_test)[:, 1]\n",
        "\n",
        "# Compute ROC curve\n",
        "fpr_rf, tpr_rf, _ = roc_curve(y_test, y_pred_proba_rf)\n",
        "\n",
        "# Compute AUC\n",
        "roc_auc_rf = roc_auc_score(y_test, y_pred_proba_rf)\n",
        "\n",
        "# Plot ROC curve with AUC\n",
        "roc_display_rf = RocCurveDisplay(fpr=fpr_rf, tpr=tpr_rf, roc_auc=roc_auc_rf)\n",
        "roc_display_rf.plot()\n",
        "plt.plot([1, 0], [1, 0], color='black', linestyle='--')\n",
        "plt.title('ROC Curve - Random Forest (AUC = {:.2f})'.format(roc_auc_rf))\n",
        "plt.xlabel('False Positive Rate')\n",
        "plt.ylabel('True Positive Rate')\n",
        "plt.show()"
      ]
    },
    {
      "cell_type": "code",
      "execution_count": null,
      "id": "07459eae",
      "metadata": {
        "id": "07459eae"
      },
      "outputs": [],
      "source": []
    },
    {
      "cell_type": "markdown",
      "id": "ba49c261",
      "metadata": {
        "id": "ba49c261"
      },
      "source": [
        "## XGBOOST"
      ]
    },
    {
      "cell_type": "code",
      "execution_count": null,
      "id": "f30b680d",
      "metadata": {
        "id": "f30b680d"
      },
      "outputs": [],
      "source": [
        "pip install xgboost"
      ]
    },
    {
      "cell_type": "code",
      "execution_count": null,
      "id": "dbe419d6",
      "metadata": {
        "id": "dbe419d6"
      },
      "outputs": [],
      "source": [
        "from xgboost import XGBClassifier\n",
        "import xgboost as xgb\n"
      ]
    },
    {
      "cell_type": "code",
      "execution_count": null,
      "id": "07c9c2a7",
      "metadata": {
        "id": "07c9c2a7"
      },
      "outputs": [],
      "source": [
        "import xgboost as xgb\n",
        "from sklearn.model_selection import StratifiedKFold\n",
        "from sklearn.metrics import roc_auc_score, classification_report\n",
        "\n",
        "# Define the number of folds\n",
        "n_splits = 5\n",
        "\n",
        "# Initialize StratifiedKFold with the number of splits\n",
        "kf = StratifiedKFold(n_splits=n_splits)\n",
        "\n",
        "# Initialize an empty list to store AUC scores for each fold\n",
        "auc_scores_xg = []\n",
        "\n",
        "# Loop through each fold\n",
        "for fold, (train_index, valid_index) in enumerate(kf.split(X_train, y_train)):\n",
        "    print(f\"Fold {fold + 1}\")\n",
        "\n",
        "    # Split the training data into training and validation sets for this fold\n",
        "    X_train_fold_xg, X_valid_fold_xg = X_train.iloc[train_index], X_train.iloc[valid_index]\n",
        "    y_train_fold_xg, y_valid_fold_xg = y_train.iloc[train_index], y_train.iloc[valid_index]\n",
        "\n",
        "    # Initialize XGBoost classifier\n",
        "    clf_xg = xgb.XGBClassifier()\n",
        "\n",
        "    # Fit the classifier to the training data\n",
        "    clf_xg.fit(X_train_fold_xg, y_train_fold_xg)\n",
        "\n",
        "    # Make predictions on the validation set\n",
        "    y_pred_fold_xg = clf_xg.predict_proba(X_valid_fold_xg)[:, 1]\n",
        "\n",
        "    # Calculate and print the classification report for this fold\n",
        "    print(classification_report(y_valid_fold_xg, (y_pred_fold_xg > 0.5).astype(int)))\n",
        "\n",
        "    # Calculate the AUC for this fold and append it to the list\n",
        "    auc_fold_xg = roc_auc_score(y_valid_fold_xg, y_pred_fold_xg)\n",
        "    auc_scores_xg.append(auc_fold_xg)\n",
        "\n",
        "    print(f\"AUC for Fold {fold + 1}: {auc_fold_xg}\")\n",
        "\n",
        "# After all folds are completed, print the average AUC across all folds\n",
        "print(f\"Average AUC across all Folds: {sum(auc_scores_xg) / n_splits}\")\n"
      ]
    },
    {
      "cell_type": "code",
      "execution_count": null,
      "id": "61d0aa47",
      "metadata": {
        "id": "61d0aa47"
      },
      "outputs": [],
      "source": [
        "model_evaluation(clf_xg)"
      ]
    },
    {
      "cell_type": "code",
      "execution_count": null,
      "id": "2a8fb502",
      "metadata": {
        "id": "2a8fb502"
      },
      "outputs": [],
      "source": [
        "from sklearn.linear_model import LogisticRegression\n",
        "from sklearn.metrics import roc_curve, RocCurveDisplay, auc\n",
        "\n",
        "# Make predictions on the test set\n",
        "y_pred_proba_xg = clf_xg.predict_proba(X_test)[:, 1]\n",
        "\n",
        "# Compute ROC curve\n",
        "fpr_xg, tpr_xg, _ = roc_curve(y_test, y_pred_proba_xg)\n",
        "\n",
        "# Compute AUC\n",
        "roc_auc_xg = roc_auc_score(y_test, y_pred_proba_xg)\n",
        "\n",
        "# Plot ROC curve with AUC\n",
        "roc_display_xg = RocCurveDisplay(fpr=fpr_xg, tpr=tpr_xg, roc_auc=roc_auc_xg)\n",
        "roc_display_xg.plot()\n",
        "plt.plot([1, 0], [1, 0], color='black', linestyle='--')\n",
        "plt.title('ROC Curve - XG Boost (AUC = {:.2f})'.format(roc_auc_xg))\n",
        "plt.xlabel('False Positive Rate')\n",
        "plt.ylabel('True Positive Rate')\n",
        "plt.show()"
      ]
    },
    {
      "cell_type": "markdown",
      "id": "960545a9",
      "metadata": {
        "id": "960545a9"
      },
      "source": [
        "# 3. KNN"
      ]
    },
    {
      "cell_type": "markdown",
      "id": "2f53e7e1",
      "metadata": {
        "id": "2f53e7e1"
      },
      "source": [
        "#### Training and fitting"
      ]
    },
    {
      "cell_type": "code",
      "execution_count": null,
      "id": "82d8e415",
      "metadata": {
        "id": "82d8e415"
      },
      "outputs": [],
      "source": [
        "from sklearn.neighbors import KNeighborsClassifier\n",
        "from sklearn.metrics import RocCurveDisplay\n",
        "from sklearn.model_selection import GridSearchCV, KFold\n",
        "classifier_knn = KNeighborsClassifier(n_neighbors=11,p=2,metric='euclidean')\n",
        "#model(classifier_knn)\n"
      ]
    },
    {
      "cell_type": "code",
      "execution_count": null,
      "id": "613b9916",
      "metadata": {
        "id": "613b9916"
      },
      "outputs": [],
      "source": [
        "classifier_knn.fit(X_train, y_train)\n",
        "y_pred = classifier_knn.predict(X_train)\n",
        "print(classifier_knn.score(X_train, y_train))"
      ]
    },
    {
      "cell_type": "markdown",
      "id": "099d18db",
      "metadata": {
        "id": "099d18db"
      },
      "source": [
        "#### Using GridSearchCV, KFold and Confusion matrix"
      ]
    },
    {
      "cell_type": "code",
      "execution_count": null,
      "id": "29911911",
      "metadata": {
        "id": "29911911"
      },
      "outputs": [],
      "source": [
        "knn = KNeighborsClassifier()\n",
        "param_grid = {'n_neighbors': [3, 5, 7], 'weights': ['uniform', 'distance']}\n",
        "rs_kfold = RepeatedStratifiedKFold(n_splits=5, n_repeats=3, random_state=42)\n"
      ]
    },
    {
      "cell_type": "code",
      "execution_count": null,
      "id": "a29645bc",
      "metadata": {
        "id": "a29645bc"
      },
      "outputs": [],
      "source": [
        "grid_search = GridSearchCV(estimator=knn, param_grid=param_grid, cv=rs_kfold, scoring='accuracy')\n",
        "grid_search.fit(X_train, y_train)\n"
      ]
    },
    {
      "cell_type": "code",
      "execution_count": null,
      "id": "7e427f23",
      "metadata": {
        "id": "7e427f23"
      },
      "outputs": [],
      "source": [
        "print(\"Best parameters found:\", grid_search.best_params_)\n",
        "print(\"Best accuracy score:\", grid_search.best_score_)\n"
      ]
    },
    {
      "cell_type": "code",
      "execution_count": null,
      "id": "6086a450",
      "metadata": {
        "scrolled": false,
        "id": "6086a450"
      },
      "outputs": [],
      "source": [
        "#model_evaluation(classifier_knn)"
      ]
    },
    {
      "cell_type": "markdown",
      "id": "fe798d45",
      "metadata": {
        "id": "fe798d45"
      },
      "source": [
        "### ROC curve:"
      ]
    },
    {
      "cell_type": "code",
      "execution_count": null,
      "id": "c8116c4b",
      "metadata": {
        "id": "c8116c4b"
      },
      "outputs": [],
      "source": [
        "y_pred_proba_knn = classifier_knn.predict_proba(X_test)[:, 1]\n",
        "\n",
        "# Compute ROC curve\n",
        "fpr_knn, tpr_knn, _ = roc_curve(y_test, y_pred_proba_knn)\n",
        "\n",
        "# Compute AUC\n",
        "roc_auc_knn = roc_auc_score(y_test, y_pred_proba_knn)\n",
        "\n",
        "# Plot ROC curve with AUC\n",
        "roc_display_knn = RocCurveDisplay(fpr=fpr_knn, tpr=tpr_knn, roc_auc=roc_auc_knn)\n",
        "roc_display_knn.plot()\n",
        "plt.plot([1, 0], [1, 0], color='black', linestyle='--')\n",
        "plt.title('ROC Curve - KNN (AUC = {:.2f})'.format(roc_auc_knn))\n",
        "plt.xlabel('False Positive Rate')\n",
        "plt.ylabel('True Positive Rate')\n",
        "plt.show()"
      ]
    },
    {
      "cell_type": "code",
      "execution_count": null,
      "id": "928007c3",
      "metadata": {
        "id": "928007c3"
      },
      "outputs": [],
      "source": [
        "model_evaluation(classifier_knn)"
      ]
    },
    {
      "cell_type": "markdown",
      "id": "d4e4be21",
      "metadata": {
        "id": "d4e4be21"
      },
      "source": [
        "##### Accuracy of LR: 91.42\n",
        "##### Accuray of Decision Trees: 0.85\n",
        "##### Accuray of Random Forest: 0.87\n",
        "##### Accuray of XGBoost: 0.9225\n",
        "##### KNN: 0.82"
      ]
    },
    {
      "cell_type": "code",
      "execution_count": null,
      "id": "fe406deb",
      "metadata": {
        "id": "fe406deb"
      },
      "outputs": [],
      "source": [
        "\n",
        "#     classifier.fit(X_train,y_train)\n",
        "#     prediction = classifier.predict(X_test)\n",
        "#     cv = RepeatedStratifiedKFold(n_splits = 10,n_repeats = 3,random_state = 1)\n",
        "#     print(\"Accuracy : \",'{0:.2%}'.format(accuracy_score(y_test,prediction)))\n",
        "#     print(\"Cross Validation Score : \",'{0:.2%}'.format(cross_val_score(classifier,X_train,y_train,cv = cv,scoring = 'roc_auc').mean()))\n",
        "#     print(\"ROC_AUC Score : \",'{0:.2%}'.format(roc_auc_score(y_test,prediction)))\n",
        "#     plot_roc_curve(classifier, X_test,y_test)\n",
        "#     plt.title('ROC_AUC_Plot')\n",
        "#     plt.show()"
      ]
    },
    {
      "cell_type": "code",
      "execution_count": null,
      "id": "d9bffbc1",
      "metadata": {
        "id": "d9bffbc1"
      },
      "outputs": [],
      "source": []
    },
    {
      "cell_type": "code",
      "execution_count": null,
      "id": "c2e22920",
      "metadata": {
        "id": "c2e22920"
      },
      "outputs": [],
      "source": []
    },
    {
      "cell_type": "code",
      "execution_count": null,
      "id": "36992675",
      "metadata": {
        "id": "36992675"
      },
      "outputs": [],
      "source": []
    },
    {
      "cell_type": "code",
      "execution_count": null,
      "id": "7e836976",
      "metadata": {
        "id": "7e836976"
      },
      "outputs": [],
      "source": []
    },
    {
      "cell_type": "code",
      "execution_count": null,
      "id": "0a29f6bf",
      "metadata": {
        "id": "0a29f6bf"
      },
      "outputs": [],
      "source": []
    }
  ],
  "metadata": {
    "kernelspec": {
      "display_name": "Python 3",
      "name": "python3"
    },
    "language_info": {
      "codemirror_mode": {
        "name": "ipython",
        "version": 3
      },
      "file_extension": ".py",
      "mimetype": "text/x-python",
      "name": "python",
      "nbconvert_exporter": "python",
      "pygments_lexer": "ipython3",
      "version": "3.11.5"
    },
    "colab": {
      "provenance": [],
      "gpuType": "T4"
    }
  },
  "nbformat": 4,
  "nbformat_minor": 5
}