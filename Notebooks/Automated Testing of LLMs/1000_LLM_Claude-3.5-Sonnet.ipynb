{
  "cells": [
    {
      "cell_type": "markdown",
      "metadata": {
        "id": "06hroofPAdvE"
      },
      "source": [
        "****\n",
        "\n",
        " > Installing Google Cloud Vision APIs & Installing Selenium Drivers and Libraries\n",
        "\n",
        "\n",
        "\n"
      ]
    },
    {
      "cell_type": "code",
      "execution_count": null,
      "metadata": {
        "colab": {
          "base_uri": "https://localhost:8080/",
          "height": 35
        },
        "id": "EMX8D5H46UkU",
        "outputId": "57562c69-1eef-42b3-9bf0-f019baed0ce0"
      },
      "outputs": [
        {
          "data": {
            "application/vnd.google.colaboratory.intrinsic+json": {
              "type": "string"
            },
            "text/plain": [
              "''"
            ]
          },
          "execution_count": 1,
          "metadata": {},
          "output_type": "execute_result"
        }
      ],
      "source": [
        "import tensorflow as tf\n",
        "tf.test.gpu_device_name()"
      ]
    },
    {
      "cell_type": "code",
      "execution_count": null,
      "metadata": {
        "colab": {
          "base_uri": "https://localhost:8080/"
        },
        "id": "0-uDXTii6rjV",
        "outputId": "f5a3d41d-7541-4e72-db8b-98df1c6f2e84"
      },
      "outputs": [
        {
          "name": "stderr",
          "output_type": "stream",
          "text": [
            "WARNING:tensorflow:From <ipython-input-2-fd6ebcee0a81>:2: is_gpu_available (from tensorflow.python.framework.test_util) is deprecated and will be removed in a future version.\n",
            "Instructions for updating:\n",
            "Use `tf.config.list_physical_devices('GPU')` instead.\n"
          ]
        },
        {
          "name": "stdout",
          "output_type": "stream",
          "text": [
            "<module 'tensorflow._api.v2.version' from '/usr/local/lib/python3.10/dist-packages/tensorflow/_api/v2/version/__init__.py'>\n",
            "GPU Available:  False\n"
          ]
        }
      ],
      "source": [
        "print(tf.version)\n",
        "print(\"GPU Available: \", tf.test.is_gpu_available())"
      ]
    },
    {
      "cell_type": "code",
      "execution_count": null,
      "metadata": {
        "colab": {
          "base_uri": "https://localhost:8080/"
        },
        "collapsed": true,
        "id": "OgoKcB0nDuY5",
        "outputId": "2012aece-795a-46e6-cfee-1585cd948798"
      },
      "outputs": [
        {
          "name": "stdout",
          "output_type": "stream",
          "text": [
            "Requirement already satisfied: selenium in /usr/local/lib/python3.10/dist-packages (4.24.0)\n",
            "Requirement already satisfied: urllib3<3,>=1.26 in /usr/local/lib/python3.10/dist-packages (from urllib3[socks]<3,>=1.26->selenium) (2.0.7)\n",
            "Requirement already satisfied: trio~=0.17 in /usr/local/lib/python3.10/dist-packages (from selenium) (0.26.2)\n",
            "Requirement already satisfied: trio-websocket~=0.9 in /usr/local/lib/python3.10/dist-packages (from selenium) (0.11.1)\n",
            "Requirement already satisfied: certifi>=2021.10.8 in /usr/local/lib/python3.10/dist-packages (from selenium) (2024.8.30)\n",
            "Requirement already satisfied: typing_extensions~=4.9 in /usr/local/lib/python3.10/dist-packages (from selenium) (4.12.2)\n",
            "Requirement already satisfied: websocket-client~=1.8 in /usr/local/lib/python3.10/dist-packages (from selenium) (1.8.0)\n",
            "Requirement already satisfied: attrs>=23.2.0 in /usr/local/lib/python3.10/dist-packages (from trio~=0.17->selenium) (24.2.0)\n",
            "Requirement already satisfied: sortedcontainers in /usr/local/lib/python3.10/dist-packages (from trio~=0.17->selenium) (2.4.0)\n",
            "Requirement already satisfied: idna in /usr/local/lib/python3.10/dist-packages (from trio~=0.17->selenium) (3.8)\n",
            "Requirement already satisfied: outcome in /usr/local/lib/python3.10/dist-packages (from trio~=0.17->selenium) (1.3.0.post0)\n",
            "Requirement already satisfied: sniffio>=1.3.0 in /usr/local/lib/python3.10/dist-packages (from trio~=0.17->selenium) (1.3.1)\n",
            "Requirement already satisfied: exceptiongroup in /usr/local/lib/python3.10/dist-packages (from trio~=0.17->selenium) (1.2.2)\n",
            "Requirement already satisfied: wsproto>=0.14 in /usr/local/lib/python3.10/dist-packages (from trio-websocket~=0.9->selenium) (1.2.0)\n",
            "Requirement already satisfied: pysocks!=1.5.7,<2.0,>=1.5.6 in /usr/local/lib/python3.10/dist-packages (from urllib3[socks]<3,>=1.26->selenium) (1.7.1)\n",
            "Requirement already satisfied: h11<1,>=0.9.0 in /usr/local/lib/python3.10/dist-packages (from wsproto>=0.14->trio-websocket~=0.9->selenium) (0.14.0)\n",
            "Hit:1 http://security.ubuntu.com/ubuntu jammy-security InRelease\n",
            "Hit:2 https://developer.download.nvidia.com/compute/cuda/repos/ubuntu2204/x86_64  InRelease\n",
            "Ign:3 https://r2u.stat.illinois.edu/ubuntu jammy InRelease\n",
            "Hit:4 https://r2u.stat.illinois.edu/ubuntu jammy Release\n",
            "Hit:5 http://archive.ubuntu.com/ubuntu jammy InRelease\n",
            "Hit:6 http://archive.ubuntu.com/ubuntu jammy-updates InRelease\n",
            "Hit:8 https://ppa.launchpadcontent.net/deadsnakes/ppa/ubuntu jammy InRelease\n",
            "Hit:9 http://archive.ubuntu.com/ubuntu jammy-backports InRelease\n",
            "Hit:10 https://cloud.r-project.org/bin/linux/ubuntu jammy-cran40/ InRelease\n",
            "Hit:11 https://ppa.launchpadcontent.net/graphics-drivers/ppa/ubuntu jammy InRelease\n",
            "Hit:12 https://ppa.launchpadcontent.net/ubuntugis/ppa/ubuntu jammy InRelease\n",
            "Reading package lists... Done\n",
            "W: Skipping acquire of configured file 'main/source/Sources' as repository 'https://r2u.stat.illinois.edu/ubuntu jammy InRelease' does not seem to provide it (sources.list entry misspelt?)\n",
            "Reading package lists... Done\n",
            "Building dependency tree... Done\n",
            "Reading state information... Done\n",
            "chromium-chromedriver is already the newest version (1:85.0.4183.83-0ubuntu2.22.04.1).\n",
            "0 upgraded, 0 newly installed, 0 to remove and 50 not upgraded.\n",
            "Requirement already satisfied: html5lib in /usr/local/lib/python3.10/dist-packages (1.1)\n",
            "Requirement already satisfied: requests in /usr/local/lib/python3.10/dist-packages (2.32.3)\n",
            "Requirement already satisfied: six>=1.9 in /usr/local/lib/python3.10/dist-packages (from html5lib) (1.16.0)\n",
            "Requirement already satisfied: webencodings in /usr/local/lib/python3.10/dist-packages (from html5lib) (0.5.1)\n",
            "Requirement already satisfied: charset-normalizer<4,>=2 in /usr/local/lib/python3.10/dist-packages (from requests) (3.3.2)\n",
            "Requirement already satisfied: idna<4,>=2.5 in /usr/local/lib/python3.10/dist-packages (from requests) (3.8)\n",
            "Requirement already satisfied: urllib3<3,>=1.21.1 in /usr/local/lib/python3.10/dist-packages (from requests) (2.0.7)\n",
            "Requirement already satisfied: certifi>=2017.4.17 in /usr/local/lib/python3.10/dist-packages (from requests) (2024.8.30)\n",
            "\u001b[31mERROR: Could not find a version that satisfies the requirement pypixelmatch (from versions: none)\u001b[0m\u001b[31m\n",
            "\u001b[0m\u001b[31mERROR: No matching distribution found for pypixelmatch\u001b[0m\u001b[31m\n",
            "\u001b[0mRequirement already satisfied: torch in /usr/local/lib/python3.10/dist-packages (2.4.0+cu121)\n",
            "Requirement already satisfied: torchvision in /usr/local/lib/python3.10/dist-packages (0.19.0+cu121)\n",
            "Requirement already satisfied: transformers in /usr/local/lib/python3.10/dist-packages (4.44.2)\n",
            "Requirement already satisfied: pillow in /usr/local/lib/python3.10/dist-packages (9.4.0)\n",
            "Requirement already satisfied: filelock in /usr/local/lib/python3.10/dist-packages (from torch) (3.15.4)\n",
            "Requirement already satisfied: typing-extensions>=4.8.0 in /usr/local/lib/python3.10/dist-packages (from torch) (4.12.2)\n",
            "Requirement already satisfied: sympy in /usr/local/lib/python3.10/dist-packages (from torch) (1.13.2)\n",
            "Requirement already satisfied: networkx in /usr/local/lib/python3.10/dist-packages (from torch) (3.3)\n",
            "Requirement already satisfied: jinja2 in /usr/local/lib/python3.10/dist-packages (from torch) (3.1.4)\n",
            "Requirement already satisfied: fsspec in /usr/local/lib/python3.10/dist-packages (from torch) (2024.6.1)\n",
            "Requirement already satisfied: numpy in /usr/local/lib/python3.10/dist-packages (from torchvision) (1.26.4)\n",
            "Requirement already satisfied: huggingface-hub<1.0,>=0.23.2 in /usr/local/lib/python3.10/dist-packages (from transformers) (0.24.6)\n",
            "Requirement already satisfied: packaging>=20.0 in /usr/local/lib/python3.10/dist-packages (from transformers) (24.1)\n",
            "Requirement already satisfied: pyyaml>=5.1 in /usr/local/lib/python3.10/dist-packages (from transformers) (6.0.2)\n",
            "Requirement already satisfied: regex!=2019.12.17 in /usr/local/lib/python3.10/dist-packages (from transformers) (2024.5.15)\n",
            "Requirement already satisfied: requests in /usr/local/lib/python3.10/dist-packages (from transformers) (2.32.3)\n",
            "Requirement already satisfied: safetensors>=0.4.1 in /usr/local/lib/python3.10/dist-packages (from transformers) (0.4.4)\n",
            "Requirement already satisfied: tokenizers<0.20,>=0.19 in /usr/local/lib/python3.10/dist-packages (from transformers) (0.19.1)\n",
            "Requirement already satisfied: tqdm>=4.27 in /usr/local/lib/python3.10/dist-packages (from transformers) (4.66.5)\n",
            "Requirement already satisfied: MarkupSafe>=2.0 in /usr/local/lib/python3.10/dist-packages (from jinja2->torch) (2.1.5)\n",
            "Requirement already satisfied: charset-normalizer<4,>=2 in /usr/local/lib/python3.10/dist-packages (from requests->transformers) (3.3.2)\n",
            "Requirement already satisfied: idna<4,>=2.5 in /usr/local/lib/python3.10/dist-packages (from requests->transformers) (3.8)\n",
            "Requirement already satisfied: urllib3<3,>=1.21.1 in /usr/local/lib/python3.10/dist-packages (from requests->transformers) (2.0.7)\n",
            "Requirement already satisfied: certifi>=2017.4.17 in /usr/local/lib/python3.10/dist-packages (from requests->transformers) (2024.8.30)\n",
            "Requirement already satisfied: mpmath<1.4,>=1.1.0 in /usr/local/lib/python3.10/dist-packages (from sympy->torch) (1.3.0)\n",
            "Requirement already satisfied: google-cloud-vision in /usr/local/lib/python3.10/dist-packages (3.7.4)\n",
            "Requirement already satisfied: openai in /usr/local/lib/python3.10/dist-packages (1.44.1)\n",
            "Requirement already satisfied: requests in /usr/local/lib/python3.10/dist-packages (2.32.3)\n",
            "Requirement already satisfied: pillow in /usr/local/lib/python3.10/dist-packages (9.4.0)\n",
            "Requirement already satisfied: google-api-core!=2.0.*,!=2.1.*,!=2.10.*,!=2.2.*,!=2.3.*,!=2.4.*,!=2.5.*,!=2.6.*,!=2.7.*,!=2.8.*,!=2.9.*,<3.0.0dev,>=1.34.1 in /usr/local/lib/python3.10/dist-packages (from google-api-core[grpc]!=2.0.*,!=2.1.*,!=2.10.*,!=2.2.*,!=2.3.*,!=2.4.*,!=2.5.*,!=2.6.*,!=2.7.*,!=2.8.*,!=2.9.*,<3.0.0dev,>=1.34.1->google-cloud-vision) (2.19.2)\n",
            "Requirement already satisfied: google-auth!=2.24.0,!=2.25.0,<3.0.0dev,>=2.14.1 in /usr/local/lib/python3.10/dist-packages (from google-cloud-vision) (2.27.0)\n",
            "Requirement already satisfied: proto-plus<2.0.0dev,>=1.22.3 in /usr/local/lib/python3.10/dist-packages (from google-cloud-vision) (1.24.0)\n",
            "Requirement already satisfied: protobuf!=4.21.0,!=4.21.1,!=4.21.2,!=4.21.3,!=4.21.4,!=4.21.5,<6.0.0dev,>=3.20.2 in /usr/local/lib/python3.10/dist-packages (from google-cloud-vision) (3.20.3)\n",
            "Requirement already satisfied: anyio<5,>=3.5.0 in /usr/local/lib/python3.10/dist-packages (from openai) (3.7.1)\n",
            "Requirement already satisfied: distro<2,>=1.7.0 in /usr/lib/python3/dist-packages (from openai) (1.7.0)\n",
            "Requirement already satisfied: httpx<1,>=0.23.0 in /usr/local/lib/python3.10/dist-packages (from openai) (0.27.2)\n",
            "Requirement already satisfied: jiter<1,>=0.4.0 in /usr/local/lib/python3.10/dist-packages (from openai) (0.5.0)\n",
            "Requirement already satisfied: pydantic<3,>=1.9.0 in /usr/local/lib/python3.10/dist-packages (from openai) (2.8.2)\n",
            "Requirement already satisfied: sniffio in /usr/local/lib/python3.10/dist-packages (from openai) (1.3.1)\n",
            "Requirement already satisfied: tqdm>4 in /usr/local/lib/python3.10/dist-packages (from openai) (4.66.5)\n",
            "Requirement already satisfied: typing-extensions<5,>=4.11 in /usr/local/lib/python3.10/dist-packages (from openai) (4.12.2)\n",
            "Requirement already satisfied: charset-normalizer<4,>=2 in /usr/local/lib/python3.10/dist-packages (from requests) (3.3.2)\n",
            "Requirement already satisfied: idna<4,>=2.5 in /usr/local/lib/python3.10/dist-packages (from requests) (3.8)\n",
            "Requirement already satisfied: urllib3<3,>=1.21.1 in /usr/local/lib/python3.10/dist-packages (from requests) (2.0.7)\n",
            "Requirement already satisfied: certifi>=2017.4.17 in /usr/local/lib/python3.10/dist-packages (from requests) (2024.8.30)\n",
            "Requirement already satisfied: exceptiongroup in /usr/local/lib/python3.10/dist-packages (from anyio<5,>=3.5.0->openai) (1.2.2)\n",
            "Requirement already satisfied: googleapis-common-protos<2.0.dev0,>=1.56.2 in /usr/local/lib/python3.10/dist-packages (from google-api-core!=2.0.*,!=2.1.*,!=2.10.*,!=2.2.*,!=2.3.*,!=2.4.*,!=2.5.*,!=2.6.*,!=2.7.*,!=2.8.*,!=2.9.*,<3.0.0dev,>=1.34.1->google-api-core[grpc]!=2.0.*,!=2.1.*,!=2.10.*,!=2.2.*,!=2.3.*,!=2.4.*,!=2.5.*,!=2.6.*,!=2.7.*,!=2.8.*,!=2.9.*,<3.0.0dev,>=1.34.1->google-cloud-vision) (1.65.0)\n",
            "Requirement already satisfied: grpcio<2.0dev,>=1.33.2 in /usr/local/lib/python3.10/dist-packages (from google-api-core[grpc]!=2.0.*,!=2.1.*,!=2.10.*,!=2.2.*,!=2.3.*,!=2.4.*,!=2.5.*,!=2.6.*,!=2.7.*,!=2.8.*,!=2.9.*,<3.0.0dev,>=1.34.1->google-cloud-vision) (1.64.1)\n",
            "Requirement already satisfied: grpcio-status<2.0.dev0,>=1.33.2 in /usr/local/lib/python3.10/dist-packages (from google-api-core[grpc]!=2.0.*,!=2.1.*,!=2.10.*,!=2.2.*,!=2.3.*,!=2.4.*,!=2.5.*,!=2.6.*,!=2.7.*,!=2.8.*,!=2.9.*,<3.0.0dev,>=1.34.1->google-cloud-vision) (1.48.2)\n",
            "Requirement already satisfied: cachetools<6.0,>=2.0.0 in /usr/local/lib/python3.10/dist-packages (from google-auth!=2.24.0,!=2.25.0,<3.0.0dev,>=2.14.1->google-cloud-vision) (5.5.0)\n",
            "Requirement already satisfied: pyasn1-modules>=0.2.1 in /usr/local/lib/python3.10/dist-packages (from google-auth!=2.24.0,!=2.25.0,<3.0.0dev,>=2.14.1->google-cloud-vision) (0.4.0)\n",
            "Requirement already satisfied: rsa<5,>=3.1.4 in /usr/local/lib/python3.10/dist-packages (from google-auth!=2.24.0,!=2.25.0,<3.0.0dev,>=2.14.1->google-cloud-vision) (4.9)\n",
            "Requirement already satisfied: httpcore==1.* in /usr/local/lib/python3.10/dist-packages (from httpx<1,>=0.23.0->openai) (1.0.5)\n",
            "Requirement already satisfied: h11<0.15,>=0.13 in /usr/local/lib/python3.10/dist-packages (from httpcore==1.*->httpx<1,>=0.23.0->openai) (0.14.0)\n",
            "Requirement already satisfied: annotated-types>=0.4.0 in /usr/local/lib/python3.10/dist-packages (from pydantic<3,>=1.9.0->openai) (0.7.0)\n",
            "Requirement already satisfied: pydantic-core==2.20.1 in /usr/local/lib/python3.10/dist-packages (from pydantic<3,>=1.9.0->openai) (2.20.1)\n",
            "Requirement already satisfied: pyasn1<0.7.0,>=0.4.6 in /usr/local/lib/python3.10/dist-packages (from pyasn1-modules>=0.2.1->google-auth!=2.24.0,!=2.25.0,<3.0.0dev,>=2.14.1->google-cloud-vision) (0.6.0)\n",
            "Requirement already satisfied: requests in /usr/local/lib/python3.10/dist-packages (2.32.3)\n",
            "Requirement already satisfied: charset-normalizer<4,>=2 in /usr/local/lib/python3.10/dist-packages (from requests) (3.3.2)\n",
            "Requirement already satisfied: idna<4,>=2.5 in /usr/local/lib/python3.10/dist-packages (from requests) (3.8)\n",
            "Requirement already satisfied: urllib3<3,>=1.21.1 in /usr/local/lib/python3.10/dist-packages (from requests) (2.0.7)\n",
            "Requirement already satisfied: certifi>=2017.4.17 in /usr/local/lib/python3.10/dist-packages (from requests) (2024.8.30)\n",
            "Requirement already satisfied: anthropic in /usr/local/lib/python3.10/dist-packages (0.34.2)\n",
            "Requirement already satisfied: anyio<5,>=3.5.0 in /usr/local/lib/python3.10/dist-packages (from anthropic) (3.7.1)\n",
            "Requirement already satisfied: distro<2,>=1.7.0 in /usr/lib/python3/dist-packages (from anthropic) (1.7.0)\n",
            "Requirement already satisfied: httpx<1,>=0.23.0 in /usr/local/lib/python3.10/dist-packages (from anthropic) (0.27.2)\n",
            "Requirement already satisfied: jiter<1,>=0.4.0 in /usr/local/lib/python3.10/dist-packages (from anthropic) (0.5.0)\n",
            "Requirement already satisfied: pydantic<3,>=1.9.0 in /usr/local/lib/python3.10/dist-packages (from anthropic) (2.8.2)\n",
            "Requirement already satisfied: sniffio in /usr/local/lib/python3.10/dist-packages (from anthropic) (1.3.1)\n",
            "Requirement already satisfied: tokenizers>=0.13.0 in /usr/local/lib/python3.10/dist-packages (from anthropic) (0.19.1)\n",
            "Requirement already satisfied: typing-extensions<5,>=4.7 in /usr/local/lib/python3.10/dist-packages (from anthropic) (4.12.2)\n",
            "Requirement already satisfied: idna>=2.8 in /usr/local/lib/python3.10/dist-packages (from anyio<5,>=3.5.0->anthropic) (3.8)\n",
            "Requirement already satisfied: exceptiongroup in /usr/local/lib/python3.10/dist-packages (from anyio<5,>=3.5.0->anthropic) (1.2.2)\n",
            "Requirement already satisfied: certifi in /usr/local/lib/python3.10/dist-packages (from httpx<1,>=0.23.0->anthropic) (2024.8.30)\n",
            "Requirement already satisfied: httpcore==1.* in /usr/local/lib/python3.10/dist-packages (from httpx<1,>=0.23.0->anthropic) (1.0.5)\n",
            "Requirement already satisfied: h11<0.15,>=0.13 in /usr/local/lib/python3.10/dist-packages (from httpcore==1.*->httpx<1,>=0.23.0->anthropic) (0.14.0)\n",
            "Requirement already satisfied: annotated-types>=0.4.0 in /usr/local/lib/python3.10/dist-packages (from pydantic<3,>=1.9.0->anthropic) (0.7.0)\n",
            "Requirement already satisfied: pydantic-core==2.20.1 in /usr/local/lib/python3.10/dist-packages (from pydantic<3,>=1.9.0->anthropic) (2.20.1)\n",
            "Requirement already satisfied: huggingface-hub<1.0,>=0.16.4 in /usr/local/lib/python3.10/dist-packages (from tokenizers>=0.13.0->anthropic) (0.24.6)\n",
            "Requirement already satisfied: filelock in /usr/local/lib/python3.10/dist-packages (from huggingface-hub<1.0,>=0.16.4->tokenizers>=0.13.0->anthropic) (3.15.4)\n",
            "Requirement already satisfied: fsspec>=2023.5.0 in /usr/local/lib/python3.10/dist-packages (from huggingface-hub<1.0,>=0.16.4->tokenizers>=0.13.0->anthropic) (2024.6.1)\n",
            "Requirement already satisfied: packaging>=20.9 in /usr/local/lib/python3.10/dist-packages (from huggingface-hub<1.0,>=0.16.4->tokenizers>=0.13.0->anthropic) (24.1)\n",
            "Requirement already satisfied: pyyaml>=5.1 in /usr/local/lib/python3.10/dist-packages (from huggingface-hub<1.0,>=0.16.4->tokenizers>=0.13.0->anthropic) (6.0.2)\n",
            "Requirement already satisfied: requests in /usr/local/lib/python3.10/dist-packages (from huggingface-hub<1.0,>=0.16.4->tokenizers>=0.13.0->anthropic) (2.32.3)\n",
            "Requirement already satisfied: tqdm>=4.42.1 in /usr/local/lib/python3.10/dist-packages (from huggingface-hub<1.0,>=0.16.4->tokenizers>=0.13.0->anthropic) (4.66.5)\n",
            "Requirement already satisfied: charset-normalizer<4,>=2 in /usr/local/lib/python3.10/dist-packages (from requests->huggingface-hub<1.0,>=0.16.4->tokenizers>=0.13.0->anthropic) (3.3.2)\n",
            "Requirement already satisfied: urllib3<3,>=1.21.1 in /usr/local/lib/python3.10/dist-packages (from requests->huggingface-hub<1.0,>=0.16.4->tokenizers>=0.13.0->anthropic) (2.0.7)\n",
            "Requirement already satisfied: opencv-python in /usr/local/lib/python3.10/dist-packages (4.10.0.84)\n",
            "Requirement already satisfied: pytesseract in /usr/local/lib/python3.10/dist-packages (0.3.13)\n",
            "Requirement already satisfied: nltk in /usr/local/lib/python3.10/dist-packages (3.8.1)\n",
            "Requirement already satisfied: numpy>=1.21.2 in /usr/local/lib/python3.10/dist-packages (from opencv-python) (1.26.4)\n",
            "Requirement already satisfied: packaging>=21.3 in /usr/local/lib/python3.10/dist-packages (from pytesseract) (24.1)\n",
            "Requirement already satisfied: Pillow>=8.0.0 in /usr/local/lib/python3.10/dist-packages (from pytesseract) (9.4.0)\n",
            "Requirement already satisfied: click in /usr/local/lib/python3.10/dist-packages (from nltk) (8.1.7)\n",
            "Requirement already satisfied: joblib in /usr/local/lib/python3.10/dist-packages (from nltk) (1.4.2)\n",
            "Requirement already satisfied: regex>=2021.8.3 in /usr/local/lib/python3.10/dist-packages (from nltk) (2024.5.15)\n",
            "Requirement already satisfied: tqdm in /usr/local/lib/python3.10/dist-packages (from nltk) (4.66.5)\n",
            "Requirement already satisfied: pip in /usr/local/lib/python3.10/dist-packages (24.2)\n",
            "Requirement already satisfied: google-cloud-vision in /usr/local/lib/python3.10/dist-packages (3.7.4)\n",
            "Requirement already satisfied: openai in /usr/local/lib/python3.10/dist-packages (1.44.1)\n",
            "Requirement already satisfied: requests in /usr/local/lib/python3.10/dist-packages (2.32.3)\n",
            "Requirement already satisfied: pillow in /usr/local/lib/python3.10/dist-packages (9.4.0)\n",
            "Requirement already satisfied: google-api-core!=2.0.*,!=2.1.*,!=2.10.*,!=2.2.*,!=2.3.*,!=2.4.*,!=2.5.*,!=2.6.*,!=2.7.*,!=2.8.*,!=2.9.*,<3.0.0dev,>=1.34.1 in /usr/local/lib/python3.10/dist-packages (from google-api-core[grpc]!=2.0.*,!=2.1.*,!=2.10.*,!=2.2.*,!=2.3.*,!=2.4.*,!=2.5.*,!=2.6.*,!=2.7.*,!=2.8.*,!=2.9.*,<3.0.0dev,>=1.34.1->google-cloud-vision) (2.19.2)\n",
            "Requirement already satisfied: google-auth!=2.24.0,!=2.25.0,<3.0.0dev,>=2.14.1 in /usr/local/lib/python3.10/dist-packages (from google-cloud-vision) (2.27.0)\n",
            "Requirement already satisfied: proto-plus<2.0.0dev,>=1.22.3 in /usr/local/lib/python3.10/dist-packages (from google-cloud-vision) (1.24.0)\n",
            "Requirement already satisfied: protobuf!=4.21.0,!=4.21.1,!=4.21.2,!=4.21.3,!=4.21.4,!=4.21.5,<6.0.0dev,>=3.20.2 in /usr/local/lib/python3.10/dist-packages (from google-cloud-vision) (3.20.3)\n",
            "Requirement already satisfied: anyio<5,>=3.5.0 in /usr/local/lib/python3.10/dist-packages (from openai) (3.7.1)\n",
            "Requirement already satisfied: distro<2,>=1.7.0 in /usr/lib/python3/dist-packages (from openai) (1.7.0)\n",
            "Requirement already satisfied: httpx<1,>=0.23.0 in /usr/local/lib/python3.10/dist-packages (from openai) (0.27.2)\n",
            "Requirement already satisfied: jiter<1,>=0.4.0 in /usr/local/lib/python3.10/dist-packages (from openai) (0.5.0)\n",
            "Requirement already satisfied: pydantic<3,>=1.9.0 in /usr/local/lib/python3.10/dist-packages (from openai) (2.8.2)\n",
            "Requirement already satisfied: sniffio in /usr/local/lib/python3.10/dist-packages (from openai) (1.3.1)\n",
            "Requirement already satisfied: tqdm>4 in /usr/local/lib/python3.10/dist-packages (from openai) (4.66.5)\n",
            "Requirement already satisfied: typing-extensions<5,>=4.11 in /usr/local/lib/python3.10/dist-packages (from openai) (4.12.2)\n",
            "Requirement already satisfied: charset-normalizer<4,>=2 in /usr/local/lib/python3.10/dist-packages (from requests) (3.3.2)\n",
            "Requirement already satisfied: idna<4,>=2.5 in /usr/local/lib/python3.10/dist-packages (from requests) (3.8)\n",
            "Requirement already satisfied: urllib3<3,>=1.21.1 in /usr/local/lib/python3.10/dist-packages (from requests) (2.0.7)\n",
            "Requirement already satisfied: certifi>=2017.4.17 in /usr/local/lib/python3.10/dist-packages (from requests) (2024.8.30)\n",
            "Requirement already satisfied: exceptiongroup in /usr/local/lib/python3.10/dist-packages (from anyio<5,>=3.5.0->openai) (1.2.2)\n",
            "Requirement already satisfied: googleapis-common-protos<2.0.dev0,>=1.56.2 in /usr/local/lib/python3.10/dist-packages (from google-api-core!=2.0.*,!=2.1.*,!=2.10.*,!=2.2.*,!=2.3.*,!=2.4.*,!=2.5.*,!=2.6.*,!=2.7.*,!=2.8.*,!=2.9.*,<3.0.0dev,>=1.34.1->google-api-core[grpc]!=2.0.*,!=2.1.*,!=2.10.*,!=2.2.*,!=2.3.*,!=2.4.*,!=2.5.*,!=2.6.*,!=2.7.*,!=2.8.*,!=2.9.*,<3.0.0dev,>=1.34.1->google-cloud-vision) (1.65.0)\n",
            "Requirement already satisfied: grpcio<2.0dev,>=1.33.2 in /usr/local/lib/python3.10/dist-packages (from google-api-core[grpc]!=2.0.*,!=2.1.*,!=2.10.*,!=2.2.*,!=2.3.*,!=2.4.*,!=2.5.*,!=2.6.*,!=2.7.*,!=2.8.*,!=2.9.*,<3.0.0dev,>=1.34.1->google-cloud-vision) (1.64.1)\n",
            "Requirement already satisfied: grpcio-status<2.0.dev0,>=1.33.2 in /usr/local/lib/python3.10/dist-packages (from google-api-core[grpc]!=2.0.*,!=2.1.*,!=2.10.*,!=2.2.*,!=2.3.*,!=2.4.*,!=2.5.*,!=2.6.*,!=2.7.*,!=2.8.*,!=2.9.*,<3.0.0dev,>=1.34.1->google-cloud-vision) (1.48.2)\n",
            "Requirement already satisfied: cachetools<6.0,>=2.0.0 in /usr/local/lib/python3.10/dist-packages (from google-auth!=2.24.0,!=2.25.0,<3.0.0dev,>=2.14.1->google-cloud-vision) (5.5.0)\n",
            "Requirement already satisfied: pyasn1-modules>=0.2.1 in /usr/local/lib/python3.10/dist-packages (from google-auth!=2.24.0,!=2.25.0,<3.0.0dev,>=2.14.1->google-cloud-vision) (0.4.0)\n",
            "Requirement already satisfied: rsa<5,>=3.1.4 in /usr/local/lib/python3.10/dist-packages (from google-auth!=2.24.0,!=2.25.0,<3.0.0dev,>=2.14.1->google-cloud-vision) (4.9)\n",
            "Requirement already satisfied: httpcore==1.* in /usr/local/lib/python3.10/dist-packages (from httpx<1,>=0.23.0->openai) (1.0.5)\n",
            "Requirement already satisfied: h11<0.15,>=0.13 in /usr/local/lib/python3.10/dist-packages (from httpcore==1.*->httpx<1,>=0.23.0->openai) (0.14.0)\n",
            "Requirement already satisfied: annotated-types>=0.4.0 in /usr/local/lib/python3.10/dist-packages (from pydantic<3,>=1.9.0->openai) (0.7.0)\n",
            "Requirement already satisfied: pydantic-core==2.20.1 in /usr/local/lib/python3.10/dist-packages (from pydantic<3,>=1.9.0->openai) (2.20.1)\n",
            "Requirement already satisfied: pyasn1<0.7.0,>=0.4.6 in /usr/local/lib/python3.10/dist-packages (from pyasn1-modules>=0.2.1->google-auth!=2.24.0,!=2.25.0,<3.0.0dev,>=2.14.1->google-cloud-vision) (0.6.0)\n",
            "Reading package lists... Done\n",
            "Building dependency tree... Done\n",
            "Reading state information... Done\n",
            "The following additional packages will be installed:\n",
            "  tesseract-ocr-eng tesseract-ocr-osd\n",
            "The following NEW packages will be installed:\n",
            "  tesseract-ocr tesseract-ocr-eng tesseract-ocr-osd\n",
            "0 upgraded, 3 newly installed, 0 to remove and 50 not upgraded.\n",
            "Need to get 4,816 kB of archives.\n",
            "After this operation, 15.6 MB of additional disk space will be used.\n",
            "Get:1 http://archive.ubuntu.com/ubuntu jammy/universe amd64 tesseract-ocr-eng all 1:4.00~git30-7274cfa-1.1 [1,591 kB]\n",
            "Get:2 http://archive.ubuntu.com/ubuntu jammy/universe amd64 tesseract-ocr-osd all 1:4.00~git30-7274cfa-1.1 [2,990 kB]\n",
            "Get:3 http://archive.ubuntu.com/ubuntu jammy/universe amd64 tesseract-ocr amd64 4.1.1-2.1build1 [236 kB]\n",
            "Fetched 4,816 kB in 1s (4,003 kB/s)\n",
            "debconf: unable to initialize frontend: Dialog\n",
            "debconf: (No usable dialog-like program is installed, so the dialog based frontend cannot be used. at /usr/share/perl5/Debconf/FrontEnd/Dialog.pm line 78, <> line 3.)\n",
            "debconf: falling back to frontend: Readline\n",
            "debconf: unable to initialize frontend: Readline\n",
            "debconf: (This frontend requires a controlling tty.)\n",
            "debconf: falling back to frontend: Teletype\n",
            "dpkg-preconfigure: unable to re-open stdin: \n",
            "Selecting previously unselected package tesseract-ocr-eng.\n",
            "(Reading database ... 124063 files and directories currently installed.)\n",
            "Preparing to unpack .../tesseract-ocr-eng_1%3a4.00~git30-7274cfa-1.1_all.deb ...\n",
            "Unpacking tesseract-ocr-eng (1:4.00~git30-7274cfa-1.1) ...\n",
            "Selecting previously unselected package tesseract-ocr-osd.\n",
            "Preparing to unpack .../tesseract-ocr-osd_1%3a4.00~git30-7274cfa-1.1_all.deb ...\n",
            "Unpacking tesseract-ocr-osd (1:4.00~git30-7274cfa-1.1) ...\n",
            "Selecting previously unselected package tesseract-ocr.\n",
            "Preparing to unpack .../tesseract-ocr_4.1.1-2.1build1_amd64.deb ...\n",
            "Unpacking tesseract-ocr (4.1.1-2.1build1) ...\n",
            "Setting up tesseract-ocr-eng (1:4.00~git30-7274cfa-1.1) ...\n",
            "Setting up tesseract-ocr-osd (1:4.00~git30-7274cfa-1.1) ...\n",
            "Setting up tesseract-ocr (4.1.1-2.1build1) ...\n",
            "Processing triggers for man-db (2.10.2-1) ...\n",
            "Requirement already satisfied: pytesseract in /usr/local/lib/python3.10/dist-packages (0.3.13)\n",
            "Requirement already satisfied: packaging>=21.3 in /usr/local/lib/python3.10/dist-packages (from pytesseract) (24.1)\n",
            "Requirement already satisfied: Pillow>=8.0.0 in /usr/local/lib/python3.10/dist-packages (from pytesseract) (9.4.0)\n",
            "Requirement already satisfied: Pillow in /usr/local/lib/python3.10/dist-packages (9.4.0)\n",
            "Requirement already satisfied: numpy in /usr/local/lib/python3.10/dist-packages (1.26.4)\n",
            "Requirement already satisfied: Pillow in /usr/local/lib/python3.10/dist-packages (9.4.0)\n",
            "Collecting pixelmatch\n",
            "  Downloading pixelmatch-0.3.0-py3-none-any.whl.metadata (6.9 kB)\n",
            "Downloading pixelmatch-0.3.0-py3-none-any.whl (9.2 kB)\n",
            "Installing collected packages: pixelmatch\n",
            "Successfully installed pixelmatch-0.3.0\n"
          ]
        }
      ],
      "source": [
        "# Installing needed packages for importing libraries and tools\n",
        "!pip install selenium\n",
        "!apt-get update\n",
        "!apt install chromium-chromedriver\n",
        "!pip install html5lib requests\n",
        "!pip install pypixelmatch Pillow numpy\n",
        "!pip install torch torchvision transformers pillow\n",
        "!pip install google-cloud-vision openai requests pillow\n",
        "!pip install requests\n",
        "!pip install anthropic\n",
        "!pip install opencv-python pytesseract nltk\n",
        "!pip install --upgrade pip\n",
        "!pip install google-cloud-vision openai requests pillow\n",
        "!sudo apt-get install tesseract-ocr\n",
        "!pip install pytesseract\n",
        "!pip install Pillow numpy\n",
        "!pip install Pillow pixelmatch"
      ]
    },
    {
      "cell_type": "code",
      "execution_count": null,
      "metadata": {
        "collapsed": true,
        "id": "MQnunxyCux7i"
      },
      "outputs": [],
      "source": []
    },
    {
      "cell_type": "markdown",
      "metadata": {
        "id": "Ym8JdgtDBfw-"
      },
      "source": [
        "\n",
        "\n",
        "> Importing AI libraries and mounting Google Drive\n",
        "\n"
      ]
    },
    {
      "cell_type": "code",
      "execution_count": null,
      "metadata": {
        "id": "BAMvoEwhuyzt"
      },
      "outputs": [],
      "source": [
        "# Importing libraries\n",
        "from google.cloud import vision\n",
        "import openai\n",
        "import requests\n",
        "from PIL import Image\n",
        "import io"
      ]
    },
    {
      "cell_type": "code",
      "execution_count": 1,
      "metadata": {
        "colab": {
          "base_uri": "https://localhost:8080/"
        },
        "id": "OSzlG7qsdfet",
        "outputId": "78537eb9-07d8-4130-9e96-d24eb84e8def"
      },
      "outputs": [
        {
          "name": "stdout",
          "output_type": "stream",
          "text": [
            "Mounted at /content/drive\n"
          ]
        }
      ],
      "source": [
        "# Mounting Google Drive for accessing Input and Output Folders\n",
        "from google.colab import drive\n",
        "drive.mount('/content/drive')"
      ]
    },
    {
      "cell_type": "markdown",
      "metadata": {
        "id": "VYwZQROWBn1L"
      },
      "source": [
        "\n",
        "\n",
        "> Copying JSON security file from Drive to here for using in this Notebook\n",
        "\n"
      ]
    },
    {
      "cell_type": "code",
      "execution_count": null,
      "metadata": {
        "colab": {
          "base_uri": "https://localhost:8080/",
          "height": 35
        },
        "id": "Ejg6w7zbeXwy",
        "outputId": "b882485f-cdad-456a-8dec-440e472f6ece"
      },
      "outputs": [
        {
          "data": {
            "application/vnd.google.colaboratory.intrinsic+json": {
              "type": "string"
            },
            "text/plain": [
              "'/content/dissertation-19276544-e9be0138dfac.json'"
            ]
          },
          "execution_count": 4,
          "metadata": {},
          "output_type": "execute_result"
        }
      ],
      "source": [
        "import shutil\n",
        "# JSON file management\n",
        "source_path = '/content/drive/MyDrive/Dissertation Aditya Parmar : testing of Large Lang. Model/dissertation-19276544-e9be0138dfac.json'\n",
        "destination_path = '/content/dissertation-19276544-e9be0138dfac.json'\n",
        "\n",
        "shutil.copy(source_path, destination_path)"
      ]
    },
    {
      "cell_type": "code",
      "execution_count": null,
      "metadata": {
        "id": "skfxCtSRxxs9"
      },
      "outputs": [],
      "source": [
        "# [ℹ] Setting Google crednetials up for Using Vision API.\n",
        "import os\n",
        "os.environ[\"GOOGLE_APPLICATION_CREDENTIALS\"] = \"/content/dissertation-19276544-e9be0138dfac.json\"\n",
        "# [ℹ] This line sets an environment variable named GOOGLE_APPLICATION_CREDENTIALS to the path of a JSON file containing your Google Cloud project's credentials.\n",
        "# [ℹ] This file typically contains information about your service account, including its private key.\n",
        "\n",
        "!export GOOGLE_APPLICATION_CREDENTIALS=\"//content/dissertation-19276544-e9be0138dfac.json\"\n",
        "\n",
        "from google.cloud import vision\n",
        "\n",
        "# Set the environment variable\n",
        "import os\n",
        "os.environ[\"GOOGLE_APPLICATION_CREDENTIALS\"] = \"/content/dissertation-19276544-e9be0138dfac.json\"\n",
        "\n",
        "# Initialize the client\n",
        "vision_client = vision.ImageAnnotatorClient()\n"
      ]
    },
    {
      "cell_type": "markdown",
      "metadata": {
        "id": "Cf8fXrXNzGjp"
      },
      "source": [
        "**The `GOOGLE_APPLICATION_CREDENTIALS` environment variable is used by Google Cloud libraries to authenticate your application to the Google Cloud platform. By setting this variable to the path of your credentials file, you're telling the Vision API to use those credentials when making requests.**"
      ]
    },
    {
      "cell_type": "markdown",
      "metadata": {
        "id": "5qVAhoPW1GYt"
      },
      "source": [
        "The ImageAnnotatorClient is the main entry point for using the Vision API.\n",
        "It provides methods for various image analysis tasks."
      ]
    },
    {
      "cell_type": "code",
      "execution_count": null,
      "metadata": {
        "id": "bgbDOGeET0Wg"
      },
      "outputs": [],
      "source": []
    },
    {
      "cell_type": "markdown",
      "metadata": {
        "id": "T64a21ws25gs"
      },
      "source": []
    },
    {
      "cell_type": "code",
      "execution_count": null,
      "metadata": {
        "id": "24rW8_FSZ-_J"
      },
      "outputs": [],
      "source": []
    },
    {
      "cell_type": "code",
      "execution_count": null,
      "metadata": {
        "id": "vHlHkdqQvHqj"
      },
      "outputs": [],
      "source": [
        "# this step detects the text in Images\n",
        "def analyze_image(image_path):\n",
        "    with open(image_path, 'rb') as image_file:\n",
        "        content = image_file.read()\n",
        "\n",
        "    image = vision.Image(content=content)\n",
        "    # [ℹ] This creates an Image object using the Google Cloud Vision API's vision.Image class. The content parameter is passed the binary data read from the image file.\n",
        "    response = vision_client.document_text_detection(image=image)\n",
        "    # [ℹ]  This line calls the document_text_detection method of the vision_client object.\n",
        "    # [ℹ]  This method sends the image object to the Google Cloud Vision API to perform OCR (Optical Character Recognition) and detect text within the image.\n",
        "\n",
        "    return response"
      ]
    },
    {
      "cell_type": "markdown",
      "metadata": {
        "id": "83B8iqOTCPv2"
      },
      "source": [
        "\n",
        "\n",
        "> Importing Beauitful Soup Python Libaray for parsing <HTML> code generated\n",
        "\n",
        "\n",
        "\n",
        "> Importing Other Libararies for Image screenshot functionality and Images comparison and scoring\n",
        "(👇)\n",
        "\n",
        "\n"
      ]
    },
    {
      "cell_type": "code",
      "execution_count": null,
      "metadata": {
        "id": "BeirwXdIwJI2"
      },
      "outputs": [],
      "source": [
        "from bs4 import BeautifulSoup"
      ]
    },
    {
      "cell_type": "markdown",
      "metadata": {
        "id": "zNb1xAXt6a-a"
      },
      "source": [
        "Input & Output"
      ]
    },
    {
      "cell_type": "code",
      "execution_count": null,
      "metadata": {
        "id": "AKRb53ilLZp1"
      },
      "outputs": [],
      "source": [
        "# [ℹ️] Giving my Input and output folders so that I can give the input from a location into my Drive(images) and have store it my Drive(code + output images)\n",
        "input_folder = \"/content/drive/MyDrive/Dissertation Aditya Parmar : testing of Large Lang. Model/Input for Dataset Images/100 Images Final Folder\"\n",
        "output_folder = \"/content/drive/MyDrive/Dissertation Aditya Parmar : testing of Large Lang. Model/100_output\"\n",
        "# input_folder = \"/content/drive/MyDrive/Dissertation Aditya Parmar : testing of Large Lang. Model/Input for Dataset Images/Test input\"\n",
        "# output_folder = \"/content/drive/MyDrive/Dissertation Aditya Parmar : testing of Large Lang. Model/ Test results - Web gen.\"\n",
        "\n",
        "os.makedirs(output_folder, exist_ok=True)"
      ]
    },
    {
      "cell_type": "code",
      "execution_count": null,
      "metadata": {
        "id": "54CIGegHCglq"
      },
      "outputs": [],
      "source": [
        "from PIL import Image, ImageChops\n",
        "import numpy as np\n",
        "from PIL import Image\n",
        "import numpy as np\n",
        "import io\n",
        "import os\n",
        "import glob\n",
        "import base64\n",
        "from PIL import Image\n",
        "import io\n",
        "from openai import OpenAI\n",
        "from google.colab import drive\n",
        "import numpy as np\n",
        "from skimage.metrics import structural_similarity as ssim\n",
        "from selenium import webdriver\n",
        "from selenium.webdriver.chrome.options import Options\n",
        "import matplotlib.pyplot as plt\n",
        "import anthropic\n",
        "import base64\n",
        "import re"
      ]
    },
    {
      "cell_type": "code",
      "execution_count": null,
      "metadata": {
        "id": "R9US0X-UGF76"
      },
      "outputs": [],
      "source": [
        "\n",
        "\n",
        "# Setting my LLM Claude AI's API key\n",
        "os.environ[\"ANTHROPIC_API_KEY\"] = \"\"\n",
        "\n",
        "client = anthropic.Anthropic()\n",
        "\n",
        "def encode_image(image_path):\n",
        "    with open(image_path, \"rb\") as image_file:\n",
        "        return base64.b64encode(image_file.read()).decode('utf-8')"
      ]
    },
    {
      "cell_type": "code",
      "execution_count": null,
      "metadata": {
        "id": "iCB9mRbj0yx1"
      },
      "outputs": [],
      "source": [
        "# Function for generating HTML/CSS Code from LLM\n",
        "def analyze_and_generate_code(image_path):\n",
        "    base64_image = encode_image(image_path)\n",
        "\n",
        "    prompt = \"\"\"\n",
        "\n",
        "You are an expert web developer tasked with recreating a web page based on a single image. Your goal is to generate a pixel-perfect, fully functional HTML file with internal CSS that meticulously replicates the layout, styling, and functionality of the web page shown in the image. Follow these detailed instructions:\n",
        "\n",
        "1. IMAGE ANALYSIS:\n",
        "   - First, carefully analyze the provided image to determine its type:\n",
        "     a) Wireframe sketch\n",
        "     b) Long screenshot of a website (desktop view)\n",
        "     c) Proper mock-up or standard website screenshot\n",
        "   - Based on the image type, adjust your approach accordingly.\n",
        "\n",
        "2. WIREFRAME HANDLING:\n",
        "   If the image is a wireframe sketch:\n",
        "   - Recognize that a wireframe is a low-fidelity design document outlining the basic structure of the application.\n",
        "   - Identify the following common wireframe elements:\n",
        "     a) Title Elements: Rectangles with text labels (convert to appropriate <h1>, <h2>, etc. tags)\n",
        "     b) Image Elements: Squares or rectangles with an \"X\" inside (convert to <img> or <div> with background images)\n",
        "     c) Button Elements: Small rectangles with text labels (convert to <button> or <a> tags)\n",
        "     d) Input Elements: Rectangles representing input fields (convert to <input> or <textarea> tags)\n",
        "     e) Paragraph Elements: Rectangles with multiple horizontal lines (convert to <p> tags)\n",
        "   - Convert these wireframe elements into the corresponding HTML structure to build the web page's layout.\n",
        "\n",
        "3. LONG SCREENSHOT HANDLING:\n",
        "   If the image is a long screenshot of a website:\n",
        "   - Recognize that the screenshot contains multiple vertical sections representing different content and layout elements.\n",
        "   - Analyze and parse each section individually:\n",
        "     a) Header Section: Look for navigation bar, logo, and possibly a CTA button.\n",
        "     b) Hero Section: Often the first prominent section with large text, CTA, and background image/color.\n",
        "     c) Feature or Service Sections: May include text, images, and CTAs describing offerings.\n",
        "     d) Testimonials or Case Studies: Sections with quotes, client logos, or case summaries.\n",
        "     e) Footer Section: Links, contact information, and legal disclaimers.\n",
        "   - Pay attention to placeholder images:\n",
        "     - Large black plus signs (+) in white boxes indicate image placeholders.\n",
        "     - Wide plus signs represent banner images or horizontal images.\n",
        "     - Square plus signs indicate standard image sizes like logos or small visuals.\n",
        "     - Multiple plus signs together may suggest a gallery or set of icons.\n",
        "   - Generate appropriate HTML structure for each section:\n",
        "     a) Header: Use <header> with <nav>, <ul>, and other relevant tags.\n",
        "     b) Hero: Use <h1> or <h2> for large text, <a> or <button> for CTAs.\n",
        "     c) Feature Sections: Combine <section>, <div>, <h2>, <p>, and <img> tags.\n",
        "     d) Footer: Use <footer> with appropriate <ul>, <li>, and link tags.\n",
        "\n",
        "4. LAYOUT and STRUCTURE:\n",
        "   - Implement a responsive layout using appropriate CSS techniques (e.g., Flexbox, Grid) to ensure accurate positioning and spacing of all elements.\n",
        "   - Use semantic HTML5 tags (e.g., <header>, <nav>, <main>, <footer>) where applicable to enhance the structure and accessibility of the page.\n",
        "\n",
        "5. VISUAL STYLING:\n",
        "   - Extract and apply exact colors, including background colors, text colors, and any gradients or shadows.\n",
        "   - Match typography precisely, including font families, sizes, weights, and line heights. Use web-safe fonts or Google Fonts as alternatives if specific fonts can't be identified.\n",
        "   - Replicate all visual effects such as borders, rounded corners, box shadows, and hover states for interactive elements.\n",
        "\n",
        "6. CONTENT and TYPOGRAPHY:\n",
        "   - Reproduce all visible text content exactly as it appears in the image.\n",
        "   - Implement proper text alignment, spacing, and hierarchies (headings, paragraphs, lists).\n",
        "   - Use appropriate HTML elements for text content (e.g., <h1>, <p>, <ul>, <ol>, <blockquote>).\n",
        "\n",
        "7. INTERACTIVE ELEMENTS:\n",
        "   - Identify and implement all interactive components such as navigation menus, buttons, forms, and sliders.\n",
        "   - Add hover and active states for interactive elements to enhance usability.\n",
        "   - If the image suggests dropdown menus or expandable sections, implement these using CSS and minimal JavaScript if necessary.\n",
        "\n",
        "8. IMAGES and ICONS:\n",
        "   - For images in the design, use placeholder images with the same dimensions and add appropriate alt text.\n",
        "   - Implement any icons using icon fonts (e.g., Font Awesome) or SVGs to ensure scalability and performance.\n",
        "\n",
        "9. RESPONSIVE DESIGN:\n",
        "   - While the image shows a single view, implement basic responsive design principles to ensure the layout adapts to different screen sizes.\n",
        "   - Use media queries to adjust the layout for at least one mobile breakpoint.\n",
        "\n",
        "10. PERFORMANCE and ACCESSIBILITY:\n",
        "    - Optimize the CSS for performance, grouping similar styles and using shorthand properties where appropriate.\n",
        "    - Include ARIA attributes for improved accessibility where applicable.\n",
        "\n",
        "11. CODE STRUCTURE and COMMENTS:\n",
        "    - Provide a complete HTML5 structure with <!DOCTYPE html>, <html>, <head>, and <body> tags.\n",
        "    - Include all CSS within a <style> tag in the <head> section.\n",
        "    - Use clear, semantic class names that reflect the purpose or content of elements.\n",
        "    - Add detailed comments in both HTML and CSS to explain your implementation choices and any assumptions made.\n",
        "\n",
        "Output a single, complete HTML file that includes all necessary HTML, CSS, and minimal JavaScript (if required for functionality). The code should be clean, well-formatted, and adhere to modern web development best practices. Aim for a result that, when opened in a web browser, looks as close to the original image as possible.\n",
        "Only output the  HTML/CSS code and no text message\n",
        "Example HTML file structure:\n",
        "\n",
        "<!DOCTYPE html>\n",
        "<html lang=\"en\">\n",
        "<head>\n",
        "    <meta charset=\"UTF-8\">\n",
        "    <meta name=\"viewport\" content=\"width=device-width, initial-scale=1.0\">\n",
        "    <title>Web Page from Image</title>\n",
        "    <style>\n",
        "        /* CSS styles here */\n",
        "    </style>\n",
        "</head>\n",
        "<body>\n",
        "    <!-- HTML structure here -->\n",
        "</body>\n",
        "</html>\n",
        "\n",
        "\n",
        "    \"\"\"\n",
        "\n",
        "    message = client.messages.create(\n",
        "        model=\"claude-3-5-sonnet-20240620\",\n",
        "        max_tokens=4096,\n",
        "        messages=[\n",
        "            {\n",
        "                \"role\": \"user\",\n",
        "                \"content\": [\n",
        "                    {\n",
        "                        \"type\": \"text\",\n",
        "                        \"text\": prompt\n",
        "                    },\n",
        "                    {\n",
        "                        \"type\": \"image\",\n",
        "                        \"source\": {\n",
        "                            \"type\": \"base64\",\n",
        "                            \"media_type\": \"image/png\",\n",
        "                            \"data\": base64_image\n",
        "                        }\n",
        "                    }\n",
        "                ]\n",
        "            }\n",
        "        ]\n",
        "    )\n",
        "\n",
        "    generated_code = message.content\n",
        "\n",
        "    # Extracting text from TextBlock objects\n",
        "    if isinstance(generated_code, list):\n",
        "        generated_code = ''.join([block.text for block in generated_code if hasattr(block, 'text')])\n",
        "\n",
        "    # Removing any newline escape sequences\n",
        "    generated_code = re.sub(r'\\\\n', '', generated_code)\n",
        "\n",
        "    # Post-processing to ensure proper formatting\n",
        "    generated_code = generated_code.strip()\n",
        "\n",
        "    # Ensuring the code starts with <!DOCTYPE html>\n",
        "    if not generated_code.startswith('<!DOCTYPE html>'):\n",
        "        generated_code = '<!DOCTYPE html>\\n' + generated_code\n",
        "\n",
        "    # Ensuring there's only one <style> tag in the <head> section\n",
        "    head_start = generated_code.find('<head>')\n",
        "    head_end = generated_code.find('</head>')\n",
        "    if head_start != -1 and head_end != -1:\n",
        "        head_content = generated_code[head_start:head_end]\n",
        "        style_tags = head_content.count('<style>')\n",
        "        if style_tags > 1:\n",
        "            # Combine all style tags into one\n",
        "            new_head_content = head_content.replace('</style>', '', style_tags - 1)\n",
        "            new_head_content = new_head_content.replace('<style>', '', style_tags - 1)\n",
        "            generated_code = generated_code[:head_start] + new_head_content + generated_code[head_end:]\n",
        "\n",
        "    return generated_code\n",
        "\n"
      ]
    },
    {
      "cell_type": "markdown",
      "metadata": {
        "id": "24bAJmxCHqtQ"
      },
      "source": [
        "\n",
        "\n",
        "> Following code takes in HTMl code, parses it using Beautiful Soup, looks for some tags returns where they are, their numbers on finding.  \n",
        "\n"
      ]
    },
    {
      "cell_type": "code",
      "execution_count": null,
      "metadata": {
        "id": "GWfvbh9PqVEV"
      },
      "outputs": [],
      "source": [
        "# Validating HTML Code using WCAG Standards\n",
        "import requests\n",
        "\n",
        "def validate_html(html_content):\n",
        "    validator_url = \"https://validator.w3.org/nu/?out=json\"\n",
        "    headers = {\n",
        "        'Content-Type': 'text/html; charset=utf-8',\n",
        "        'User-Agent': 'Mozilla/5.0 (X11; Linux x86_64) AppleWebKit/537.36 (KHTML, like Gecko) Chrome/41.0.2272.101 Safari/537.36'\n",
        "    }\n",
        "    response = requests.post(validator_url, headers=headers, data=html_content.encode('utf-8'))\n",
        "\n",
        "    if response.status_code == 200:\n",
        "        result = response.json()\n",
        "        errors = [msg for msg in result['messages'] if msg['type'] == 'error']\n",
        "        warnings = [msg for msg in result['messages'] if msg['type'] == 'info']\n",
        "        return len(errors) == 0, len(errors), len(warnings)\n",
        "    else:\n",
        "        return False, -1, -1  # Validation failed due to API issue"
      ]
    },
    {
      "cell_type": "code",
      "execution_count": null,
      "metadata": {
        "id": "S-ig9xTP4SkN"
      },
      "outputs": [],
      "source": [
        "# more imports\n",
        "import os\n",
        "import zipfile\n",
        "import shutil\n",
        "from PIL import Image, ImageChops\n",
        "import math\n",
        "import numpy as np\n",
        "import json\n",
        "import time\n"
      ]
    },
    {
      "cell_type": "code",
      "execution_count": null,
      "metadata": {
        "id": "LjYz6ycJIcnT"
      },
      "outputs": [],
      "source": [
        "\n",
        "#  Parsing HTML Code using Beautiful Soup\n",
        "def analyze_html(html_content):\n",
        "    soup = BeautifulSoup(html_content, 'html.parser')\n",
        "\n",
        "    # 1. Check for navigation menu\n",
        "    nav_menu = soup.find('nav')\n",
        "    nav_location = \"Not found\"\n",
        "    if nav_menu:\n",
        "        nav_location = nav_menu.parent.name\n",
        "    # [ℹ️] this bit looks for <nav> tag and returns where they are and if not found then returns a text saying same.\n",
        "\n",
        "    # 2. Count sections on homepage\n",
        "    sections = soup.find_all('section')\n",
        "    section_count = len(sections)\n",
        "    # [ℹ️] this bit looks for <section> tag and returns how many they are.\n",
        "\n",
        "    # 3. Find main headline\n",
        "    main_headline = soup.find('h1')\n",
        "    headline_text = main_headline.text.strip() if main_headline else \"No main headline found\"\n",
        "    # [ℹ️] this bit looks for <h1> tag and returns where they are and if not found then returns a text saying same.\n",
        "\n",
        "    # 4. Check for footer\n",
        "    footer = soup.find('footer')\n",
        "    footer_content = footer.text.strip() if footer else \"No footer found\"\n",
        "    # [ℹ️] this bit looks for <footer> tag and returns where they are and if not found then returns a text saying same.\n",
        "\n",
        "    # 5. Count and caption images\n",
        "    images = soup.find_all('img')\n",
        "    image_count = len(images)\n",
        "    image_captions = [img.get('alt', 'No caption') for img in images]\n",
        "\n",
        "    # 6. List hyperlinks\n",
        "    links = soup.find_all('a')\n",
        "    hyperlinks = [{\"text\": link.text.strip(), \"url\": link.get('href', 'No URL')} for link in links]\n",
        "    # [ℹ️] this bit looks for <a> tag (hyperlinks) and returns where they are and if not found then returns a text saying same.\n",
        "\n",
        "    return {\n",
        "        \"nav_menu_location\": nav_location,\n",
        "        \"section_count\": section_count,\n",
        "        \"main_headline\": headline_text,\n",
        "        \"footer_content\": footer_content,\n",
        "        \"image_count\": image_count,\n",
        "        \"image_captions\": image_captions,\n",
        "        \"hyperlinks\": hyperlinks\n",
        "    }\n",
        "#   [ℹ️]  BeautifulSoup is a Python library used to parse HTML and XML documents.\n",
        "#         In the script, BeautifulSoup is used to create a soup object from the given html_content.\n",
        "#         This object allows easy navigation and searching through the HTML structure using methods like find and find_all.\n",
        "#         These methods help locate specific tags (e.g., <nav>, <section>, <h1>, <footer>, <img>, <a>)\n",
        "#         and extract their content, attributes, or parent elements. This makes it straightforward to analyze and manipulate web page data programmatically."
      ]
    },
    {
      "cell_type": "code",
      "execution_count": null,
      "metadata": {
        "id": "4EENBYbMvZps"
      },
      "outputs": [],
      "source": [
        "# new code SEMATNIC Evalutation  (render NOT)\n",
        "def evaluate_semantic_tags(html_content):\n",
        "    # Expected semantic tags\n",
        "    expected_tags = ['header', 'nav', 'main', 'article', 'section', 'aside', 'footer']\n",
        "\n",
        "    # Parse the HTML code\n",
        "    soup = BeautifulSoup(html_content, 'html.parser')\n",
        "\n",
        "    # Extract used tags\n",
        "    used_tags = [tag.name for tag in soup.find_all()]\n",
        "\n",
        "    # Calculate correctly used tags\n",
        "    correctly_used_tags = [tag for tag in used_tags if tag in expected_tags]\n",
        "\n",
        "    # Calculate precision\n",
        "    precision = len(correctly_used_tags) / len(used_tags) if used_tags else 0\n",
        "\n",
        "    # Calculate recall\n",
        "    recall = len(correctly_used_tags) / len(expected_tags)\n",
        "\n",
        "    return precision, recall, correctly_used_tags, [tag for tag in used_tags if tag not in expected_tags]"
      ]
    },
    {
      "cell_type": "code",
      "execution_count": null,
      "metadata": {
        "colab": {
          "base_uri": "https://localhost:8080/"
        },
        "id": "8rdb00dWsJBP",
        "outputId": "213a597c-5ef4-4f5a-9c9c-5922cfb7eae1"
      },
      "outputs": [
        {
          "name": "stdout",
          "output_type": "stream",
          "text": [
            "Collecting pixelmatch\n",
            "  Downloading pixelmatch-0.3.0-py3-none-any.whl.metadata (6.9 kB)\n",
            "Downloading pixelmatch-0.3.0-py3-none-any.whl (9.2 kB)\n",
            "Installing collected packages: pixelmatch\n",
            "Successfully installed pixelmatch-0.3.0\n"
          ]
        }
      ],
      "source": [
        "!pip install pixelmatch"
      ]
    },
    {
      "cell_type": "code",
      "execution_count": null,
      "metadata": {
        "id": "VobBaNOoyRUi"
      },
      "outputs": [],
      "source": [
        "# Evalutaing HTML using pixelmatch\n",
        "\n",
        "\n",
        "from PIL import Image\n",
        "import pixelmatch.contrib.PIL as pixelmatch\n",
        "\n",
        "def compare_images(image1_path, image2_path):\n",
        "    # Opening the images\n",
        "    image1 = Image.open(image1_path)\n",
        "    image2 = Image.open(image2_path)\n",
        "\n",
        "    # Ensuring both images are the same size\n",
        "    if image1.size != image2.size:\n",
        "        # Resize the second image to match the first\n",
        "        image2 = image2.resize(image1.size)\n",
        "\n",
        "    # Creating a new image for the difference\n",
        "    diff_image = Image.new(\"RGBA\", image1.size)\n",
        "\n",
        "    # Comparing the images\n",
        "    mismatch = pixelmatch.pixelmatch(image1, image2, diff_image)\n",
        "\n",
        "    # Calculating the percentage of different pixels\n",
        "    total_pixels = image1.size[0] * image1.size[1]\n",
        "    diff_percentage = (mismatch / total_pixels) * 100\n",
        "\n",
        "    return mismatch, diff_percentage, diff_image\n"
      ]
    },
    {
      "cell_type": "code",
      "execution_count": null,
      "metadata": {
        "id": "D41BfI56RjPO"
      },
      "outputs": [],
      "source": []
    },
    {
      "cell_type": "markdown",
      "metadata": {
        "id": "0DFdO9oHIfi_"
      },
      "source": [
        "\n",
        "\n",
        "> This Code is a function that has a prompt message for GPT-4 LLM and it calls it using Request method and GPT-4 API and returns the HTML/CSS code for input Image(s).(👇)\n",
        "\n"
      ]
    },
    {
      "cell_type": "code",
      "execution_count": null,
      "metadata": {
        "collapsed": true,
        "id": "FJFFs4zfMC6k"
      },
      "outputs": [],
      "source": []
    },
    {
      "cell_type": "markdown",
      "metadata": {
        "id": "MGaMmV20pZxr"
      },
      "source": []
    },
    {
      "cell_type": "markdown",
      "metadata": {
        "id": "X9V7EvkvpsOc"
      },
      "source": []
    },
    {
      "cell_type": "code",
      "execution_count": null,
      "metadata": {
        "id": "vKxqYZE5MeAH"
      },
      "outputs": [],
      "source": [
        "# [ℹ️] this code formats the code so that Styles(CSS) are inside HTML Code for ease of opening and evaluting code\n",
        "# HTML template\n",
        "html_template = \"\"\"\n",
        "<!DOCTYPE html>\n",
        "<html lang=\"en\">\n",
        "<head>\n",
        "    <meta charset=\"UTF-8\">\n",
        "    <meta name=\"viewport\" content=\"width=device-width, initial-scale=1.0\">\n",
        "    <title>{title}</title>\n",
        "    <style>\n",
        "        {generated_code}\n",
        "    </style>\n",
        "</head>\n",
        "<body>\n",
        "    {generated_body}\n",
        "</body>\n",
        "</html>\n",
        "\"\"\""
      ]
    },
    {
      "cell_type": "markdown",
      "metadata": {
        "id": "nDu6a8fKMuJE"
      },
      "source": [
        "\n",
        "\n",
        "> Defining functions to capture Screenshots from generated HTML/CSS code using Selenium and comparing the original Image input using SSIM score for evalution (👇)\n"
      ]
    },
    {
      "cell_type": "code",
      "execution_count": null,
      "metadata": {
        "id": "zNs7VMfzN83-"
      },
      "outputs": [],
      "source": [
        "# Capturing screenshots and calculating SSIM scores to evaluate the LLM's code\n",
        "def capture_screenshot(html_path, output_path):\n",
        "    options = Options()\n",
        "    options.add_argument('--headless')\n",
        "    options.add_argument('--no-sandbox')\n",
        "    options.add_argument('--disable-dev-shm-usage')\n",
        "\n",
        "    driver = webdriver.Chrome(options=options)\n",
        "    driver.get(f'file://{html_path}')\n",
        "    driver.save_screenshot(output_path)\n",
        "    driver.quit()\n",
        "\n",
        "def calculate_ssim(image1_path, image2_path):\n",
        "    img1 = Image.open(image1_path).convert('L')\n",
        "    img2 = Image.open(image2_path).convert('L')\n",
        "    img1 = np.array(img1)\n",
        "    img2 = np.array(img2)\n",
        "\n",
        "    # Resize images if they have different dimensions\n",
        "    if img1.shape != img2.shape:\n",
        "        img2 = np.array(Image.fromarray(img2).resize(img1.shape[::-1]))\n",
        "    return ssim(img1, img2)"
      ]
    },
    {
      "cell_type": "markdown",
      "metadata": {
        "id": "FRHE-iH5OUPc"
      },
      "source": [
        "\n",
        "\n",
        "> Setting files together and executing the above functions as needed\n",
        "\n",
        "\n"
      ]
    },
    {
      "cell_type": "code",
      "execution_count": null,
      "metadata": {
        "id": "e7ymh3KZpTRO"
      },
      "outputs": [],
      "source": [
        "# Using CLIP Score for Evalutation\n",
        "import torch\n",
        "from PIL import Image\n",
        "from transformers import CLIPProcessor, CLIPModel\n",
        "\n",
        "def calculate_clip_score(image1_path, image2_path):\n",
        "    # Loading the CLIP model and processor\n",
        "    model = CLIPModel.from_pretrained(\"openai/clip-vit-base-patch32\")\n",
        "    processor = CLIPProcessor.from_pretrained(\"openai/clip-vit-base-patch32\")\n",
        "\n",
        "    # Opening and preprocessing the images\n",
        "    image1 = Image.open(image1_path).convert('RGB')\n",
        "    image2 = Image.open(image2_path).convert('RGB')\n",
        "\n",
        "    # Preprocessing the images\n",
        "    inputs = processor(images=[image1, image2], return_tensors=\"pt\", padding=True)\n",
        "\n",
        "    # Getting the image features\n",
        "    with torch.no_grad():\n",
        "        image_features = model.get_image_features(**inputs)\n",
        "\n",
        "    # Calculating the cosine similarity\n",
        "    similarity = torch.nn.functional.cosine_similarity(image_features[0], image_features[1], dim=0)\n",
        "    return similarity.item()\n",
        "\n"
      ]
    },
    {
      "cell_type": "markdown",
      "metadata": {
        "id": "PnIxIg5ixtqF"
      },
      "source": [
        "\n",
        "\n",
        "> **Process all the Files in Smaller Batch Windows**\n",
        "\n",
        "\n"
      ]
    },
    {
      "cell_type": "code",
      "execution_count": null,
      "metadata": {
        "id": "NqW_1Rvfno_G"
      },
      "outputs": [],
      "source": [
        "# More imports\n",
        "import glob\n",
        "import os\n",
        "import json\n",
        "import gc\n",
        "import warnings\n",
        "from PIL import Image\n",
        "import numpy as np\n",
        "from tqdm import tqdm\n",
        "import time\n",
        "Image.MAX_IMAGE_PIXELS = None"
      ]
    },
    {
      "cell_type": "code",
      "execution_count": null,
      "metadata": {
        "id": "k6KGo0RPQ7-B"
      },
      "outputs": [],
      "source": [
        "# logging memory usage\n",
        "def log_memory_usage(batch_number, image_number):\n",
        "    process = psutil.Process(os.getpid())\n",
        "    memory_info = process.memory_info()\n",
        "    with open(os.path.join(OUTPUT_FOLDER, 'memory_log.txt'), 'a') as f:\n",
        "        f.write(f\"Batch {batch_number}, Image {image_number}: {memory_info.rss / 1024 / 1024:.2f} MB\\n\")\n"
      ]
    },
    {
      "cell_type": "code",
      "execution_count": null,
      "metadata": {
        "id": "W8MzoJD68j1x"
      },
      "outputs": [],
      "source": [
        "import os\n",
        "import time\n",
        "from collections import deque\n",
        "from concurrent.futures import ThreadPoolExecutor, as_completed\n",
        "from PIL import Image\n",
        "import pandas as pd"
      ]
    },
    {
      "cell_type": "code",
      "execution_count": null,
      "metadata": {
        "id": "Y2WWtgpVrUMJ"
      },
      "outputs": [],
      "source": [
        "from PIL import Image\n",
        "\n",
        "# resizing images for limitaiton of 8000 pixel max. length on Claude AI\n",
        "def resize_image(image_path, max_size=8000):\n",
        "    with Image.open(image_path) as img:\n",
        "        # Checking if resizing is necessary\n",
        "        if max(img.size) > max_size:\n",
        "            # Calculating the scaling factor\n",
        "            scale = max_size / max(img.size)\n",
        "            # Calculating new dimensions\n",
        "            new_size = (int(img.size[0] * scale), int(img.size[1] * scale))\n",
        "            # Resizing the image\n",
        "            img = img.resize(new_size, Image.LANCZOS)\n",
        "            # Saving the resized image\n",
        "            img.save(image_path)\n",
        "            print(f\"Resized image: {image_path}\")\n",
        "        else:\n",
        "            print(f\"Image already within size limits: {image_path}\")"
      ]
    },
    {
      "cell_type": "code",
      "execution_count": null,
      "metadata": {
        "id": "y6tTXVZkQ_17"
      },
      "outputs": [],
      "source": [
        "def process_single_image(image_path, output_folder):\n",
        "    image_name = os.path.splitext(os.path.basename(image_path))[0]\n",
        "    print(f\"Processing {image_name}\")\n",
        "\n",
        "    try:\n",
        "        # Check image dimensions\n",
        "        with Image.open(image_path) as img:\n",
        "            width, height = img.size\n",
        "            aspect_ratio = height / width\n",
        "\n",
        "            # Skipping if height > 40,000 or width > 4,000\n",
        "            if height > 40000 or width > 4000:\n",
        "                print(f\"Skipping {image_name} due to excessive dimensions (height: {height}, width: {width})\")\n",
        "                return None\n",
        "\n",
        "            if width > 7900 or height > 7900:\n",
        "                print(f\"Resizing {image_name} due to excessive dimensions\")\n",
        "                scale = 7900 / max(width, height)\n",
        "                new_size = (int(width * scale), int(height * scale))\n",
        "                img = img.resize(new_size, Image.LANCZOS)\n",
        "                resized_path = os.path.join(output_folder, f\"{image_name}_resized.png\")\n",
        "                img.save(resized_path)\n",
        "                image_path = resized_path  # Use the resized image for further processing\n",
        "            elif aspect_ratio > 20:\n",
        "                print(f\"Skipping {image_name} due to excessive aspect ratio\")\n",
        "                return None\n",
        "\n",
        "        # Generating HTML code\n",
        "        generated_code = analyze_and_generate_code(image_path)\n",
        "\n",
        "        # Ensuring generated_code is a string\n",
        "        if not isinstance(generated_code, str):\n",
        "            generated_code = str(generated_code)\n",
        "\n",
        "        # Extracting the CSS and body from generated code\n",
        "        css_start = generated_code.find('<style>')\n",
        "        css_end = generated_code.find('</style>')\n",
        "        body_start = generated_code.find('<body>')\n",
        "        body_end = generated_code.find('</body>')\n",
        "\n",
        "        css = generated_code[css_start+7:css_end] if css_start != -1 and css_end != -1 else ''\n",
        "        body = generated_code[body_start+6:body_end] if body_start != -1 and body_end != -1 else generated_code\n",
        "\n",
        "        # Creating HTML content\n",
        "        html_content = html_template.format(\n",
        "            title=image_name,\n",
        "            generated_code=css,\n",
        "            generated_body=body\n",
        "        )\n",
        "\n",
        "        # Save individual HTML file\n",
        "        output_file_path = os.path.join(output_folder, f\"{image_name}.html\")\n",
        "        with open(output_file_path, 'w', encoding='utf-8') as f:\n",
        "            f.write(html_content)\n",
        "\n",
        "        # Capturing screenshot\n",
        "        screenshot_path = os.path.join(output_folder, f\"{image_name}_screenshot.png\")\n",
        "        capture_screenshot(output_file_path, screenshot_path)\n",
        "\n",
        "        # Calculating automated metrics\n",
        "        ssim_score = calculate_ssim(image_path, screenshot_path)\n",
        "        _, diff_percentage, diff_image = compare_images(image_path, screenshot_path)\n",
        "        clip_score = calculate_clip_score(image_path, screenshot_path)\n",
        "        is_valid, _, _ = validate_html(html_content)\n",
        "        precision, recall, _, _ = evaluate_semantic_tags(html_content)\n",
        "\n",
        "        # Saving difference image\n",
        "        diff_image_path = os.path.join(output_folder, f\"{image_name}_diff.png\")\n",
        "        diff_image.save(diff_image_path)\n",
        "\n",
        "        # Collecting results\n",
        "        image_results = {\n",
        "            'Image': image_name,\n",
        "            'SSIM': ssim_score,\n",
        "            'PixelMatch_DiffPercentage': diff_percentage,\n",
        "            'CLIP': clip_score,\n",
        "            'HTML_Valid': is_valid,\n",
        "            'Semantic_Precision': precision,\n",
        "            'Semantic_Recall': recall,\n",
        "        }\n",
        "\n",
        "        return image_results\n",
        "\n",
        "    except Exception as e:\n",
        "        print(f\"Error processing {image_name}: {str(e)}\")\n",
        "        return None"
      ]
    },
    {
      "cell_type": "code",
      "execution_count": null,
      "metadata": {
        "id": "o0GWKiRnRC3-"
      },
      "outputs": [],
      "source": [
        "\n",
        "def process_zip(zip_path, output_folder):\n",
        "    with zipfile.ZipFile(zip_path, 'r') as zip_ref:\n",
        "        zip_name = os.path.splitext(os.path.basename(zip_path))[0]\n",
        "        extract_folder = os.path.join(output_folder, f\"{zip_name}_extracted\")\n",
        "\n",
        "        os.makedirs(extract_folder, exist_ok=True)\n",
        "        zip_ref.extractall(extract_folder)\n",
        "\n",
        "        results = []\n",
        "        # Get all image files in the extracted folder\n",
        "        image_files = sorted([f for f in os.listdir(extract_folder) if f.lower().endswith(('.png', '.jpg', '.jpeg', '.gif', '.bmp'))])\n",
        "\n",
        "        # Processing images in batches of 10\n",
        "        for i in range(0, len(image_files), 10):\n",
        "            batch = image_files[i:i+10]\n",
        "            batch_folder = os.path.join(output_folder, f\"{zip_name}_batch_{i//10+1}\")\n",
        "            os.makedirs(batch_folder, exist_ok=True)\n",
        "\n",
        "            for filename in batch:\n",
        "                input_path = os.path.join(extract_folder, filename)\n",
        "                result = process_single_image(input_path, batch_folder)\n",
        "                if result:\n",
        "                    results.append(result)\n",
        "\n",
        "        shutil.rmtree(extract_folder)\n",
        "\n",
        "    return results\n"
      ]
    },
    {
      "cell_type": "code",
      "execution_count": null,
      "metadata": {
        "id": "wKFUzeShRKNr"
      },
      "outputs": [],
      "source": [
        "\n",
        "def save_checkpoint(checkpoint_file, processed_items):\n",
        "    with open(checkpoint_file, 'w') as f:\n",
        "        json.dump({'processed_items': processed_items}, f)\n",
        "\n",
        "def load_checkpoint(checkpoint_file):\n",
        "    if os.path.exists(checkpoint_file):\n",
        "        with open(checkpoint_file, 'r') as f:\n",
        "            return json.load(f)['processed_items']\n",
        "    return []\n",
        "\n",
        "def enqueue_tasks(individual_folder, zip_folder, output_folder, checkpoint_file):\n",
        "    all_images = glob.glob(os.path.join(individual_folder, \"*.png\"))\n",
        "    all_zips = glob.glob(os.path.join(zip_folder, \"*.zip\"))\n",
        "    processed_items = load_checkpoint(checkpoint_file)\n",
        "\n",
        "    for image_path in all_images:\n",
        "        if image_path not in processed_items:\n",
        "            queue.enqueue(process_single_image, image_path, output_folder)\n",
        "\n",
        "    for zip_path in all_zips:\n",
        "        if zip_path not in processed_items:\n",
        "            queue.enqueue(process_zip, zip_path, output_folder)\n",
        "\n",
        "    return len(all_images) + len(all_zips) - len(processed_items)"
      ]
    },
    {
      "cell_type": "code",
      "execution_count": null,
      "metadata": {
        "id": "InRZrqpyRQwl"
      },
      "outputs": [],
      "source": [
        "def main_processing():\n",
        "    individual_images_folder = input(\"Enter the path to the folder with individual images: \").strip()\n",
        "    zip_files_folder = input(\"Enter the path to the folder with ZIP files: \").strip()\n",
        "    output_folder = input(\"Enter the path to the output folder: \").strip()\n",
        "\n",
        "    create_directory(output_folder)\n",
        "    checkpoint_file = os.path.join(output_folder, \"checkpoint.json\")\n",
        "\n",
        "    try:\n",
        "        processed_items = load_checkpoint(checkpoint_file)\n",
        "        all_images = glob.glob(os.path.join(individual_images_folder, \"*.png\"))\n",
        "        all_zips = glob.glob(os.path.join(zip_files_folder, \"*.zip\"))\n",
        "\n",
        "        total_items = len(all_images) + len(all_zips)\n",
        "        processed_count = len(processed_items)\n",
        "\n",
        "        print(f\"Found {len(all_images)} individual images and {len(all_zips)} ZIP files.\")\n",
        "        print(f\"Already processed: {processed_count} items.\")\n",
        "\n",
        "        for image_path in tqdm(all_images, desc=\"Processing individual images\"):\n",
        "            if image_path not in processed_items:\n",
        "                result = process_single_image(image_path, output_folder)\n",
        "                if result:\n",
        "                    with open(os.path.join(output_folder, f\"{os.path.splitext(os.path.basename(image_path))[0]}_results.json\"), 'w') as f:\n",
        "                        json.dump(result, f)\n",
        "                    processed_items.append(image_path)\n",
        "                    save_checkpoint(checkpoint_file, processed_items)\n",
        "                    processed_count += 1\n",
        "\n",
        "        for zip_path in tqdm(all_zips, desc=\"Processing ZIP files\"):\n",
        "            if zip_path not in processed_items:\n",
        "                results = process_zip(zip_path, output_folder)\n",
        "                for result in results:\n",
        "                    with open(os.path.join(output_folder, f\"{result['Image']}_results.json\"), 'w') as f:\n",
        "                        json.dump(result, f)\n",
        "                processed_items.append(zip_path)\n",
        "                save_checkpoint(checkpoint_file, processed_items)\n",
        "                processed_count += 1\n",
        "\n",
        "        print(\"All items processed successfully!\")\n",
        "\n",
        "        # Combine all results into a single JSONL file\n",
        "        final_results_file = os.path.join(output_folder, 'all_results.jsonl')\n",
        "        with open(final_results_file, 'w') as outfile:\n",
        "            for item in processed_items:\n",
        "                result_file = os.path.join(output_folder, f\"{os.path.splitext(os.path.basename(item))[0]}_results.json\")\n",
        "                if os.path.exists(result_file):\n",
        "                    with open(result_file, 'r') as infile:\n",
        "                        outfile.write(infile.read() + '\\n')\n",
        "\n",
        "        print(f\"All results combined in {final_results_file}\")\n",
        "\n",
        "    except Exception as e:\n",
        "        print(f\"An error occurred: {str(e)}\")\n",
        "        print(\"Please check your input and try again.\")"
      ]
    },
    {
      "cell_type": "code",
      "execution_count": null,
      "metadata": {
        "id": "3Js6w9FURUPh"
      },
      "outputs": [],
      "source": [
        "\n",
        "def show_results(folder_name, output_folder):\n",
        "    results_zip = os.path.join(output_folder, f\"{folder_name}_results.zip\")\n",
        "    if not os.path.exists(results_zip):\n",
        "        print(f\"No results found for {folder_name}\")\n",
        "        return\n",
        "\n",
        "    with zipfile.ZipFile(results_zip, 'r') as zip_ref:\n",
        "        temp_folder = os.path.join(output_folder, \"temp_results\")\n",
        "        zip_ref.extractall(temp_folder)\n",
        "\n",
        "        results = []\n",
        "        for filename in os.listdir(temp_folder):\n",
        "            if filename.lower().endswith(('.png', '.jpg', '.jpeg', '.gif', '.bmp')):\n",
        "                results.append({\"path\": os.path.join(temp_folder, filename)})\n",
        "\n",
        "        for i in range(0, len(results), 2):\n",
        "            if i + 1 < len(results):\n",
        "                img1 = results[i]\n",
        "                img2 = results[i + 1]\n",
        "                diff, score = compare_images(img1['path'], img2['path'])\n",
        "\n",
        "                print(f\"Image 1: {os.path.basename(img1['path'])}\")\n",
        "                print(f\"Image 2: {os.path.basename(img2['path'])}\")\n",
        "                print(f\"Difference score: {score}\")\n",
        "                print(\"-\" * 50)\n",
        "\n",
        "        shutil.rmtree(temp_folder)"
      ]
    },
    {
      "cell_type": "code",
      "execution_count": null,
      "metadata": {
        "colab": {
          "base_uri": "https://localhost:8080/",
          "height": 1000,
          "referenced_widgets": [
            "3e3108f6695c461ab7e65e21a4ffc51e",
            "b081e2121cbf438db7e5caf3f19f95fa",
            "751b2e1887b144e28065fab55f34703f",
            "25908726197045e8aa3c4a350b45c1d2",
            "fdec266ded4d4705b90f08cae7421a38",
            "f546bddf28f64a4ab6ee2d1e1c73c019",
            "51ec4d8b86974c329e7d751e8262d546",
            "52a8e01aa2164eb5b9d9971437b14c00",
            "77d21da094bf46b18b9a8e295b41cb9f",
            "569f9751ff624ac598f63529f88b9108",
            "e13bf5931b5a4247a8b326081866c6a5",
            "4d7bd493627f4e44b4646c89af5e1bde",
            "8f10f47df8ea45eba8fd929db6d9d004",
            "1cbd8f523a7c456bbe26ca093542d108",
            "cd20b3bae0464b7a9eb5ce0768a7e449",
            "c19a0a46f72840acb500202502aa907d",
            "9e12b5bec38046d49376a6dd1457f0e6",
            "ad57c3db59774581803756cceb0fc09f",
            "801d97f9baec4dbd8d60d11a89c53071",
            "f7e07ebdd2ce48e3a2d596de890b6571",
            "64f6ab366b0d404aa308c1fa6f17cd73",
            "43cc8ea92d9440d78475e5e3fb1421c6",
            "47670a9869f040c5a3a5b8ca8ac47b4d",
            "c1c92e872fd445e597d8c2d609e8ab52",
            "23e048ccd1e14b4c85837e5215c43f2d",
            "c53995dece8d4689a817e48bcaf8a0f6",
            "69234ad0d0dd456f8770cfd7013ddaf2",
            "a3578bb343514b738510794fbfec2215",
            "60bb4c846e1148e299c9e96dd8922b7a",
            "36a14dda74254efcbe8a56a670365491",
            "77e517992cae4cbea74d99ac38a4ac37",
            "97f8385ab99f4f85b8e6353fce46ca94",
            "5305b3375c2245ecb32772acb0c81ef3",
            "563670a0c4e54cf3a8f3cc8494c93e14",
            "7b0b0b3192814716897cc5e5811ad4c5",
            "c58a1a240a474cb88b7336400d1a574e",
            "e71e0accf16b4ce0b5be7d3170ffcc68",
            "75d9b088afd84d189efd774489b80965",
            "19db2e2671c24351abde9219ada5d293",
            "b52490c677f048d6acd6ace06bd5e514",
            "d08fe25f9e0642dba558bd803c6d46e4",
            "63ab213b2ee0428987f7a4294e77ae3a",
            "3bf6f352041945308bda7166279290c0",
            "5ad2fdd930a44820b1b3a96035c412d4",
            "0145328da54a47d0856ed94edb4efd49",
            "fd76525e4afa44419a7f1c6313c33988",
            "c22fc92300944084bead22b999cdb247",
            "5333c387ce1d4365a1acd3a03149f7c8",
            "6bc46ce2fd9349148fd2d3fb002967aa",
            "78965ae03c864efab26f1a87690520c7",
            "9b1133ef231243da9d4a9c665cac3314",
            "6e742fd6408c4c9c982603ba931a71d9",
            "55e4ca6b53464d8a9d90a17f7f396ced",
            "d78d6ac528604f8d97ed9ff3d77da3c2",
            "4cdaec05f43c4e94bade9424d009d0f9",
            "de367a29f25e4140b2456023d193155e",
            "935e303119de47ed911802ce9948d4af",
            "234ae72b3bd149cf8e1050d0741bff61",
            "bd3149f2a88f41959ee4c408f89b77a6",
            "8c35eee24f6044c5aa4f0145ec57e713",
            "76e59792e3964697a47292d14ea002d9",
            "de8579ea6cb844f997716ce312bff1f0",
            "1a89f79725774d14903d636a82c5619b",
            "d959c1a3770f4cc1b9941a507f355071",
            "70f92b57bce644b69ff3fac478b46f8a",
            "c6a21acdf3194ece887f3a6c49abd712",
            "a00f85234d2640da8c47cc43bc5a63d7",
            "95f2ec022adb428c9a84e3faf4963cc6",
            "a4f9572b46b341e592055492c5f74f18",
            "0791042065b64dc8b08c0a690075b431",
            "3f63636e92b14880bce43e4783ddd536",
            "4a65c5bfbc854bc2973bf36cf055cf44",
            "615f84cadb494b71bb401a1cfcf03099",
            "170f2a5491644a3a939e2254ef0ffb32",
            "9ffdcc62c61944a4bc0f7cec16936475",
            "cdca11c401f04732924a5e45237fd6d6",
            "2e1c26d44fa64a9e834093b4f9b93f9d",
            "319d7c5ab22b4790840aef5579b06e14",
            "3983dd5cb6b842fa906799c2a05c33e6",
            "c5f012d44a1d4afaa83322f68b337e27",
            "7be9b16ed11d466eb5826fa0e43a4cd8",
            "81b4716f13604d5289ba0a26a043e115",
            "94e28f2bedcc4f2ebc424a26f24eed6c",
            "4d3611a62a9c403cb1a02ca605693b98",
            "3fd49965f00846c28f4029e1950c4735",
            "aaef6bfccc4d4a59b983dc63a6430703",
            "c9387a132cc54703a9067be5bf346748",
            "037bd48643844804a84707d39e951b32"
          ]
        },
        "collapsed": true,
        "id": "OhE2t3mLxs8v",
        "outputId": "70aa8fc5-3bef-4b17-db2e-e76aad93df17"
      },
      "outputs": [
        {
          "name": "stdout",
          "output_type": "stream",
          "text": [
            "Enter the path to the folder with individual images: /content/drive/MyDrive/Dissertation Aditya Parmar : testing of Large Lang. Model/Final Folder with all four datasets\n",
            "Enter the path to the folder with ZIP files: /content/drive/MyDrive/Dissertation Aditya Parmar : testing of Large Lang. Model/Final Folder with all four datasets\n",
            "Enter the path to the output folder: /content/drive/MyDrive/Dissertation Aditya Parmar : testing of Large Lang. Model/claude_output_1000\n",
            "Directory already exists: /content/drive/MyDrive/Dissertation Aditya Parmar : testing of Large Lang. Model/claude_output_1000\n",
            "Found 1028 individual images and 0 ZIP files.\n",
            "Already processed: 966 items.\n"
          ]
        },
        {
          "name": "stderr",
          "output_type": "stream",
          "text": [
            "\rProcessing individual images:   0%|          | 0/1028 [00:00<?, ?it/s]"
          ]
        },
        {
          "name": "stdout",
          "output_type": "stream",
          "text": [
            "Processing fim-moto.com\n",
            "Skipping fim-moto.com due to excessive dimensions (height: 8425, width: 7005)\n",
            "Processing fcn.de\n"
          ]
        },
        {
          "name": "stderr",
          "output_type": "stream",
          "text": [
            "\rProcessing individual images:   7%|▋         | 70/1028 [00:01<00:14, 67.89it/s]"
          ]
        },
        {
          "name": "stdout",
          "output_type": "stream",
          "text": [
            "Error processing fcn.de: Error code: 400 - {'type': 'error', 'error': {'type': 'invalid_request_error', 'message': 'messages.0.content.1.image.source.base64: image exceeds 5 MB maximum: 5959576 bytes > 5242880 bytes'}}\n",
            "Processing fayard.fr\n",
            "Skipping fayard.fr due to excessive dimensions (height: 43840, width: 1250)\n",
            "Processing eiga.com\n",
            "Skipping eiga.com due to excessive dimensions (height: 11759, width: 4405)\n",
            "Processing erickimphotography.com\n",
            "Skipping erickimphotography.com due to excessive dimensions (height: 110528, width: 1265)\n",
            "Processing equyer.com\n",
            "Resizing equyer.com due to excessive dimensions\n"
          ]
        },
        {
          "name": "stderr",
          "output_type": "stream",
          "text": [
            "\rProcessing individual images:  14%|█▍        | 142/1028 [00:04<00:29, 29.83it/s]"
          ]
        },
        {
          "name": "stdout",
          "output_type": "stream",
          "text": [
            "Error processing equyer.com: Error code: 400 - {'type': 'error', 'error': {'type': 'invalid_request_error', 'message': 'messages.0.content.1.image.source.base64: image exceeds 5 MB maximum: 5289848 bytes > 5242880 bytes'}}\n",
            "Processing emtg.jp\n"
          ]
        },
        {
          "name": "stderr",
          "output_type": "stream",
          "text": [
            "\rProcessing individual images:  14%|█▍        | 147/1028 [00:04<00:34, 25.83it/s]"
          ]
        },
        {
          "name": "stdout",
          "output_type": "stream",
          "text": [
            "Error processing emtg.jp: Error code: 400 - {'type': 'error', 'error': {'type': 'invalid_request_error', 'message': 'messages.0.content.1.image.source.base64: image exceeds 5 MB maximum: 6368752 bytes > 5242880 bytes'}}\n",
            "Processing factoryoutletstore.com\n",
            "Skipping factoryoutletstore.com due to excessive dimensions (height: 102277, width: 1265)\n",
            "Processing festivalnet.com\n",
            "Resizing festivalnet.com due to excessive dimensions\n"
          ]
        },
        {
          "name": "stderr",
          "output_type": "stream",
          "text": [
            "\rProcessing individual images:  18%|█▊        | 181/1028 [00:07<00:43, 19.44it/s]"
          ]
        },
        {
          "name": "stdout",
          "output_type": "stream",
          "text": [
            "Error processing festivalnet.com: Error code: 400 - {'type': 'error', 'error': {'type': 'invalid_request_error', 'message': 'messages.0.content.1.image.source.base64: image exceeds 5 MB maximum: 5593252 bytes > 5242880 bytes'}}\n",
            "Processing essexlive.news\n",
            "Skipping essexlive.news due to excessive dimensions (height: 62576, width: 1250)\n",
            "Processing elbphilharmonie.de\n",
            "Skipping elbphilharmonie.de due to excessive dimensions (height: 60172, width: 1250)\n",
            "Processing 7C544211-F22E-4D62-A73E-4959695BA030\n"
          ]
        },
        {
          "name": "stderr",
          "output_type": "stream",
          "text": [
            "\rProcessing individual images:  18%|█▊        | 181/1028 [00:24<00:43, 19.44it/s]/usr/local/lib/python3.10/dist-packages/huggingface_hub/utils/_token.py:89: UserWarning: \n",
            "The secret `HF_TOKEN` does not exist in your Colab secrets.\n",
            "To authenticate with the Hugging Face Hub, create a token in your settings tab (https://huggingface.co/settings/tokens), set it as secret in your Google Colab and restart your session.\n",
            "You will be able to reuse this secret in all of your notebooks.\n",
            "Please note that authentication is recommended but still optional to access public models or datasets.\n",
            "  warnings.warn(\n"
          ]
        },
        {
          "data": {
            "application/vnd.jupyter.widget-view+json": {
              "model_id": "3e3108f6695c461ab7e65e21a4ffc51e",
              "version_major": 2,
              "version_minor": 0
            },
            "text/plain": [
              "config.json:   0%|          | 0.00/4.19k [00:00<?, ?B/s]"
            ]
          },
          "metadata": {},
          "output_type": "display_data"
        },
        {
          "data": {
            "application/vnd.jupyter.widget-view+json": {
              "model_id": "4d7bd493627f4e44b4646c89af5e1bde",
              "version_major": 2,
              "version_minor": 0
            },
            "text/plain": [
              "pytorch_model.bin:   0%|          | 0.00/605M [00:00<?, ?B/s]"
            ]
          },
          "metadata": {},
          "output_type": "display_data"
        },
        {
          "data": {
            "application/vnd.jupyter.widget-view+json": {
              "model_id": "47670a9869f040c5a3a5b8ca8ac47b4d",
              "version_major": 2,
              "version_minor": 0
            },
            "text/plain": [
              "preprocessor_config.json:   0%|          | 0.00/316 [00:00<?, ?B/s]"
            ]
          },
          "metadata": {},
          "output_type": "display_data"
        },
        {
          "data": {
            "application/vnd.jupyter.widget-view+json": {
              "model_id": "563670a0c4e54cf3a8f3cc8494c93e14",
              "version_major": 2,
              "version_minor": 0
            },
            "text/plain": [
              "tokenizer_config.json:   0%|          | 0.00/592 [00:00<?, ?B/s]"
            ]
          },
          "metadata": {},
          "output_type": "display_data"
        },
        {
          "data": {
            "application/vnd.jupyter.widget-view+json": {
              "model_id": "0145328da54a47d0856ed94edb4efd49",
              "version_major": 2,
              "version_minor": 0
            },
            "text/plain": [
              "vocab.json:   0%|          | 0.00/862k [00:00<?, ?B/s]"
            ]
          },
          "metadata": {},
          "output_type": "display_data"
        },
        {
          "data": {
            "application/vnd.jupyter.widget-view+json": {
              "model_id": "de367a29f25e4140b2456023d193155e",
              "version_major": 2,
              "version_minor": 0
            },
            "text/plain": [
              "merges.txt:   0%|          | 0.00/525k [00:00<?, ?B/s]"
            ]
          },
          "metadata": {},
          "output_type": "display_data"
        },
        {
          "data": {
            "application/vnd.jupyter.widget-view+json": {
              "model_id": "a00f85234d2640da8c47cc43bc5a63d7",
              "version_major": 2,
              "version_minor": 0
            },
            "text/plain": [
              "tokenizer.json:   0%|          | 0.00/2.22M [00:00<?, ?B/s]"
            ]
          },
          "metadata": {},
          "output_type": "display_data"
        },
        {
          "data": {
            "application/vnd.jupyter.widget-view+json": {
              "model_id": "319d7c5ab22b4790840aef5579b06e14",
              "version_major": 2,
              "version_minor": 0
            },
            "text/plain": [
              "special_tokens_map.json:   0%|          | 0.00/389 [00:00<?, ?B/s]"
            ]
          },
          "metadata": {},
          "output_type": "display_data"
        },
        {
          "name": "stderr",
          "output_type": "stream",
          "text": [
            "/usr/local/lib/python3.10/dist-packages/transformers/tokenization_utils_base.py:1601: FutureWarning: `clean_up_tokenization_spaces` was not set. It will be set to `True` by default. This behavior will be depracted in transformers v4.45, and will be then set to `False` by default. For more details check this issue: https://github.com/huggingface/transformers/issues/31884\n",
            "  warnings.warn(\n",
            "Processing individual images:  93%|█████████▎| 957/1028 [01:57<00:09,  7.44it/s]"
          ]
        },
        {
          "name": "stdout",
          "output_type": "stream",
          "text": [
            "Processing 2A847BDA-DE07-40B9-A14E-9A6B13FCEAB0\n"
          ]
        },
        {
          "name": "stderr",
          "output_type": "stream",
          "text": [
            "\rProcessing individual images:  93%|█████████▎| 958/1028 [03:12<00:18,  3.83it/s]"
          ]
        },
        {
          "name": "stdout",
          "output_type": "stream",
          "text": [
            "Processing B4500583-DB77-4999-B31E-198C655918BA\n"
          ]
        },
        {
          "name": "stderr",
          "output_type": "stream",
          "text": [
            "\rProcessing individual images:  93%|█████████▎| 960/1028 [04:23<00:29,  2.32it/s]"
          ]
        },
        {
          "name": "stdout",
          "output_type": "stream",
          "text": [
            "Processing 668E8674-EAAD-4F8A-BDC2-619DBB15DEFC\n"
          ]
        },
        {
          "name": "stderr",
          "output_type": "stream",
          "text": [
            "\rProcessing individual images:  93%|█████████▎| 961/1028 [05:45<00:47,  1.41it/s]"
          ]
        },
        {
          "name": "stdout",
          "output_type": "stream",
          "text": [
            "Processing 5050FFC1-D046-4D5C-BA6D-7271215FFDC6\n"
          ]
        },
        {
          "name": "stderr",
          "output_type": "stream",
          "text": [
            "\rProcessing individual images:  94%|█████████▎| 963/1028 [06:55<01:07,  1.04s/it]"
          ]
        },
        {
          "name": "stdout",
          "output_type": "stream",
          "text": [
            "Processing 5A6471C8-4ABA-47FF-949E-F796540DF448\n"
          ]
        },
        {
          "name": "stderr",
          "output_type": "stream",
          "text": [
            "\rProcessing individual images:  94%|█████████▍| 964/1028 [08:04<01:36,  1.51s/it]"
          ]
        },
        {
          "name": "stdout",
          "output_type": "stream",
          "text": [
            "Processing 28CBBE62-59AC-418A-8BB7-17BB18B64D49\n"
          ]
        },
        {
          "name": "stderr",
          "output_type": "stream",
          "text": [
            "\rProcessing individual images:  94%|█████████▍| 965/1028 [09:16<02:18,  2.20s/it]"
          ]
        },
        {
          "name": "stdout",
          "output_type": "stream",
          "text": [
            "Processing DE2ABD0F-379C-4AA0-83B2-F3D7D9B163B5\n"
          ]
        },
        {
          "name": "stderr",
          "output_type": "stream",
          "text": [
            "\rProcessing individual images:  94%|█████████▍| 968/1028 [10:36<03:10,  3.17s/it]"
          ]
        },
        {
          "name": "stdout",
          "output_type": "stream",
          "text": [
            "Processing 3445DBC0-A935-4B2A-A106-631A742B37FB\n"
          ]
        },
        {
          "name": "stderr",
          "output_type": "stream",
          "text": [
            "\rProcessing individual images:  94%|█████████▍| 969/1028 [11:48<04:22,  4.45s/it]"
          ]
        },
        {
          "name": "stdout",
          "output_type": "stream",
          "text": [
            "Processing 76EDCCC6-AFCD-4B75-A5A8-9AD36C193FB2\n"
          ]
        },
        {
          "name": "stderr",
          "output_type": "stream",
          "text": [
            "\rProcessing individual images:  94%|█████████▍| 971/1028 [13:12<06:02,  6.37s/it]"
          ]
        },
        {
          "name": "stdout",
          "output_type": "stream",
          "text": [
            "Processing 7746E653-363C-44E8-BCA0-3C2195771304\n"
          ]
        },
        {
          "name": "stderr",
          "output_type": "stream",
          "text": [
            "\rProcessing individual images:  95%|█████████▍| 974/1028 [14:15<07:00,  7.79s/it]"
          ]
        },
        {
          "name": "stdout",
          "output_type": "stream",
          "text": [
            "Processing 297CC274-9687-4D91-80C2-C7D827903FBD\n"
          ]
        },
        {
          "name": "stderr",
          "output_type": "stream",
          "text": [
            "\rProcessing individual images:  95%|█████████▍| 975/1028 [15:32<09:34, 10.85s/it]"
          ]
        },
        {
          "name": "stdout",
          "output_type": "stream",
          "text": [
            "Processing 746B7EAE-10EC-420B-A031-987AC65ED9A7\n"
          ]
        },
        {
          "name": "stderr",
          "output_type": "stream",
          "text": [
            "\rProcessing individual images:  95%|█████████▍| 976/1028 [16:45<12:37, 14.57s/it]"
          ]
        },
        {
          "name": "stdout",
          "output_type": "stream",
          "text": [
            "Processing 7DDF5315-456E-46BD-AE29-067AEC684195\n"
          ]
        },
        {
          "name": "stderr",
          "output_type": "stream",
          "text": [
            "\rProcessing individual images:  95%|█████████▌| 977/1028 [17:58<16:19, 19.20s/it]"
          ]
        },
        {
          "name": "stdout",
          "output_type": "stream",
          "text": [
            "Processing 13DEFBAF-8269-471B-8F5E-A0729B792D72\n"
          ]
        },
        {
          "name": "stderr",
          "output_type": "stream",
          "text": [
            "\rProcessing individual images:  95%|█████████▌| 979/1028 [19:14<18:31, 22.68s/it]"
          ]
        },
        {
          "name": "stdout",
          "output_type": "stream",
          "text": [
            "Processing 92FAC8AC-8203-4523-81B2-34BFC41A415B\n"
          ]
        },
        {
          "name": "stderr",
          "output_type": "stream",
          "text": [
            "\rProcessing individual images:  95%|█████████▌| 980/1028 [20:43<24:17, 30.36s/it]"
          ]
        },
        {
          "name": "stdout",
          "output_type": "stream",
          "text": [
            "Processing 1902DABA-18C5-48EC-8CBA-D2F3B4C6557C\n"
          ]
        },
        {
          "name": "stderr",
          "output_type": "stream",
          "text": [
            "\rProcessing individual images:  95%|█████████▌| 981/1028 [22:04<29:23, 37.53s/it]"
          ]
        },
        {
          "name": "stdout",
          "output_type": "stream",
          "text": [
            "Processing 5FA9CFC5-3653-4DAB-9C1C-CB023A348693\n"
          ]
        },
        {
          "name": "stderr",
          "output_type": "stream",
          "text": [
            "\rProcessing individual images:  96%|█████████▌| 982/1028 [23:14<32:56, 42.96s/it]"
          ]
        },
        {
          "name": "stdout",
          "output_type": "stream",
          "text": [
            "Processing EE3E2AF8-ABB0-46F2-8243-70722E3B37DE\n"
          ]
        },
        {
          "name": "stderr",
          "output_type": "stream",
          "text": [
            "\rProcessing individual images:  96%|█████████▌| 983/1028 [24:16<35:05, 46.80s/it]"
          ]
        },
        {
          "name": "stdout",
          "output_type": "stream",
          "text": [
            "Processing 593FB5A4-DF9F-41D3-B897-59F872B756B0\n"
          ]
        },
        {
          "name": "stderr",
          "output_type": "stream",
          "text": [
            "\rProcessing individual images:  96%|█████████▌| 984/1028 [25:32<38:52, 53.01s/it]"
          ]
        },
        {
          "name": "stdout",
          "output_type": "stream",
          "text": [
            "Processing BB7696A2-926E-42CD-857C-AFA075A54CE8\n"
          ]
        },
        {
          "name": "stderr",
          "output_type": "stream",
          "text": [
            "\rProcessing individual images:  96%|█████████▌| 986/1028 [26:44<32:30, 46.44s/it]"
          ]
        },
        {
          "name": "stdout",
          "output_type": "stream",
          "text": [
            "Processing E5B1BF9B-0CFF-4A19-85FD-05CBE9755E5B\n"
          ]
        },
        {
          "name": "stderr",
          "output_type": "stream",
          "text": [
            "\rProcessing individual images:  96%|█████████▌| 987/1028 [28:00<36:11, 52.96s/it]"
          ]
        },
        {
          "name": "stdout",
          "output_type": "stream",
          "text": [
            "Processing B0F121B5-B1A4-45DE-A8A8-316319BB0543\n"
          ]
        },
        {
          "name": "stderr",
          "output_type": "stream",
          "text": [
            "\rProcessing individual images:  96%|█████████▌| 988/1028 [29:09<37:44, 56.61s/it]"
          ]
        },
        {
          "name": "stdout",
          "output_type": "stream",
          "text": [
            "Processing 2FE0458E-E77E-4D64-A894-BAFA401ADC26\n"
          ]
        },
        {
          "name": "stderr",
          "output_type": "stream",
          "text": [
            "\rProcessing individual images:  96%|█████████▋| 990/1028 [30:28<31:28, 49.69s/it]"
          ]
        },
        {
          "name": "stdout",
          "output_type": "stream",
          "text": [
            "Processing A8F85B28-2FF5-481C-BE99-DC96F32A6E03\n"
          ]
        },
        {
          "name": "stderr",
          "output_type": "stream",
          "text": [
            "\rProcessing individual images:  96%|█████████▋| 991/1028 [31:45<34:24, 55.80s/it]"
          ]
        },
        {
          "name": "stdout",
          "output_type": "stream",
          "text": [
            "Processing A354F921-9E57-488F-A3A6-B5D1D53C50BA\n"
          ]
        },
        {
          "name": "stderr",
          "output_type": "stream",
          "text": [
            "\rProcessing individual images:  96%|█████████▋| 992/1028 [32:58<36:02, 60.07s/it]"
          ]
        },
        {
          "name": "stdout",
          "output_type": "stream",
          "text": [
            "Processing 626A22D1-DD2A-44AB-9C28-9B3B7CF60ADC\n"
          ]
        },
        {
          "name": "stderr",
          "output_type": "stream",
          "text": [
            "\rProcessing individual images:  97%|█████████▋| 993/1028 [34:25<39:06, 67.03s/it]"
          ]
        },
        {
          "name": "stdout",
          "output_type": "stream",
          "text": [
            "Processing C041CF4A-8E0D-441E-8245-84428C9B3336\n"
          ]
        },
        {
          "name": "stderr",
          "output_type": "stream",
          "text": [
            "\rProcessing individual images:  97%|█████████▋| 994/1028 [35:42<39:29, 69.70s/it]"
          ]
        },
        {
          "name": "stdout",
          "output_type": "stream",
          "text": [
            "Processing 793F2749-9E00-41D7-8193-86778FBB8629\n"
          ]
        },
        {
          "name": "stderr",
          "output_type": "stream",
          "text": [
            "\rProcessing individual images:  97%|█████████▋| 995/1028 [37:02<39:49, 72.41s/it]"
          ]
        },
        {
          "name": "stdout",
          "output_type": "stream",
          "text": [
            "Processing 2C81163B-529B-4844-9212-A4D17E0B8319\n"
          ]
        },
        {
          "name": "stderr",
          "output_type": "stream",
          "text": [
            "\rProcessing individual images:  97%|█████████▋| 996/1028 [38:19<39:17, 73.67s/it]"
          ]
        },
        {
          "name": "stdout",
          "output_type": "stream",
          "text": [
            "Processing A83CC202-B215-4C16-A955-5F2AFB6E6C81\n"
          ]
        },
        {
          "name": "stderr",
          "output_type": "stream",
          "text": [
            "\rProcessing individual images:  97%|█████████▋| 997/1028 [39:33<38:07, 73.80s/it]"
          ]
        },
        {
          "name": "stdout",
          "output_type": "stream",
          "text": [
            "Processing 45C2DF1E-3509-48F7-B587-7D1C4A453867\n"
          ]
        },
        {
          "name": "stderr",
          "output_type": "stream",
          "text": [
            "\rProcessing individual images:  97%|█████████▋| 998/1028 [40:45<36:42, 73.40s/it]"
          ]
        },
        {
          "name": "stdout",
          "output_type": "stream",
          "text": [
            "Processing A78939E1-D905-4F6C-8E04-46900C0302F9\n"
          ]
        },
        {
          "name": "stderr",
          "output_type": "stream",
          "text": [
            "\rProcessing individual images:  97%|█████████▋| 999/1028 [41:59<35:29, 73.43s/it]"
          ]
        },
        {
          "name": "stdout",
          "output_type": "stream",
          "text": [
            "Processing DE8BEB83-425C-45F3-BB63-0905AE781870\n"
          ]
        },
        {
          "name": "stderr",
          "output_type": "stream",
          "text": [
            "\rProcessing individual images:  97%|█████████▋| 1000/1028 [43:12<34:12, 73.31s/it]"
          ]
        },
        {
          "name": "stdout",
          "output_type": "stream",
          "text": [
            "Processing fakcimile.ru\n"
          ]
        },
        {
          "name": "stderr",
          "output_type": "stream",
          "text": [
            "\rProcessing individual images:  97%|█████████▋| 1001/1028 [44:49<36:10, 80.40s/it]"
          ]
        },
        {
          "name": "stdout",
          "output_type": "stream",
          "text": [
            "Processing forexdemo.info\n"
          ]
        },
        {
          "name": "stderr",
          "output_type": "stream",
          "text": [
            "\rProcessing individual images:  97%|█████████▋| 1002/1028 [46:28<37:14, 85.95s/it]"
          ]
        },
        {
          "name": "stdout",
          "output_type": "stream",
          "text": [
            "Processing examinerlive.co.uk\n",
            "Skipping examinerlive.co.uk due to excessive dimensions (height: 54147, width: 1250)\n",
            "Processing enviragallery.com\n"
          ]
        },
        {
          "name": "stderr",
          "output_type": "stream",
          "text": [
            "\rProcessing individual images:  98%|█████████▊| 1005/1028 [49:21<26:50, 70.03s/it]"
          ]
        },
        {
          "name": "stdout",
          "output_type": "stream",
          "text": [
            "Processing engadget.com\n"
          ]
        },
        {
          "name": "stderr",
          "output_type": "stream",
          "text": [
            "\rProcessing individual images:  98%|█████████▊| 1006/1028 [49:57<23:05, 62.96s/it]"
          ]
        },
        {
          "name": "stdout",
          "output_type": "stream",
          "text": [
            "Processing electroluxgroup.com\n"
          ]
        },
        {
          "name": "stderr",
          "output_type": "stream",
          "text": [
            "\rProcessing individual images:  98%|█████████▊| 1007/1028 [53:46<35:30, 101.46s/it]"
          ]
        },
        {
          "name": "stdout",
          "output_type": "stream",
          "text": [
            "Processing ekantipur.com\n",
            "Resizing ekantipur.com due to excessive dimensions\n"
          ]
        },
        {
          "name": "stderr",
          "output_type": "stream",
          "text": [
            "\rProcessing individual images:  98%|█████████▊| 1009/1028 [55:05<24:15, 76.62s/it] "
          ]
        },
        {
          "name": "stdout",
          "output_type": "stream",
          "text": [
            "Processing exactag.com\n",
            "Resizing exactag.com due to excessive dimensions\n"
          ]
        },
        {
          "name": "stderr",
          "output_type": "stream",
          "text": [
            "\rProcessing individual images:  98%|█████████▊| 1010/1028 [58:25<31:13, 104.07s/it]"
          ]
        },
        {
          "name": "stdout",
          "output_type": "stream",
          "text": [
            "Processing eupackage.com\n"
          ]
        },
        {
          "name": "stderr",
          "output_type": "stream",
          "text": [
            "\rProcessing individual images:  98%|█████████▊| 1012/1028 [58:59<18:44, 70.30s/it] "
          ]
        },
        {
          "name": "stdout",
          "output_type": "stream",
          "text": [
            "Processing eldinamo.cl\n",
            "Skipping eldinamo.cl due to excessive dimensions (height: 86065, width: 1265)\n",
            "Processing fotokto.ru\n"
          ]
        },
        {
          "name": "stderr",
          "output_type": "stream",
          "text": [
            "\rProcessing individual images:  99%|█████████▊| 1014/1028 [1:02:17<18:47, 80.54s/it]"
          ]
        },
        {
          "name": "stdout",
          "output_type": "stream",
          "text": [
            "Processing ffnews.com\n"
          ]
        },
        {
          "name": "stderr",
          "output_type": "stream",
          "text": [
            "\rProcessing individual images:  99%|█████████▉| 1016/1028 [1:05:23<16:57, 84.79s/it]"
          ]
        },
        {
          "name": "stdout",
          "output_type": "stream",
          "text": [
            "Processing flirt4free.com\n",
            "Resizing flirt4free.com due to excessive dimensions\n"
          ]
        },
        {
          "name": "stderr",
          "output_type": "stream",
          "text": [
            "\rProcessing individual images:  99%|█████████▉| 1022/1028 [1:07:28<04:41, 46.91s/it]"
          ]
        },
        {
          "name": "stdout",
          "output_type": "stream",
          "text": [
            "Processing fileburst.com\n"
          ]
        },
        {
          "name": "stderr",
          "output_type": "stream",
          "text": [
            "\rProcessing individual images: 100%|█████████▉| 1023/1028 [1:09:53<04:55, 59.08s/it]"
          ]
        },
        {
          "name": "stdout",
          "output_type": "stream",
          "text": [
            "Processing exceldemy.com\n"
          ]
        },
        {
          "name": "stderr",
          "output_type": "stream",
          "text": [
            "\rProcessing individual images: 100%|█████████▉| 1024/1028 [1:11:50<04:30, 67.72s/it]"
          ]
        },
        {
          "name": "stdout",
          "output_type": "stream",
          "text": [
            "Processing extremenetworks.com\n",
            "Resizing extremenetworks.com due to excessive dimensions\n"
          ]
        },
        {
          "name": "stderr",
          "output_type": "stream",
          "text": [
            "\rProcessing individual images: 100%|█████████▉| 1025/1028 [1:14:17<04:05, 81.77s/it]"
          ]
        },
        {
          "name": "stdout",
          "output_type": "stream",
          "text": [
            "Processing financialmirror.com\n",
            "Resizing financialmirror.com due to excessive dimensions\n"
          ]
        },
        {
          "name": "stderr",
          "output_type": "stream",
          "text": [
            "Processing individual images: 100%|██████████| 1028/1028 [1:17:36<00:00,  4.53s/it]\n",
            "Processing ZIP files: 0it [00:00, ?it/s]\n"
          ]
        },
        {
          "name": "stdout",
          "output_type": "stream",
          "text": [
            "All items processed successfully!\n",
            "All results combined in /content/drive/MyDrive/Dissertation Aditya Parmar : testing of Large Lang. Model/claude_output_1000/all_results.jsonl\n"
          ]
        }
      ],
      "source": [
        "import os\n",
        "import glob\n",
        "import json\n",
        "import time\n",
        "import gc\n",
        "import psutil\n",
        "import tensorflow as tf\n",
        "from tqdm import tqdm\n",
        "from PIL import Image, ImageChops\n",
        "import numpy as np\n",
        "import matplotlib.pyplot as plt\n",
        "import zipfile\n",
        "import shutil\n",
        "\n",
        "\n",
        "def create_directory(directory):\n",
        "    if not os.path.exists(directory):\n",
        "        os.makedirs(directory)\n",
        "        print(f\"Created directory: {directory}\")\n",
        "    else:\n",
        "        print(f\"Directory already exists: {directory}\")\n",
        "\n",
        "if __name__ == \"__main__\":\n",
        "    main_processing()\n",
        "# INPUT PATH:\n",
        "# /content/drive/MyDrive/Dissertation Aditya Parmar : testing of Large Lang. Model/Final Folder with all four datasets\n",
        "# OUTPUT PATH: /content/drive/MyDrive/Dissertation Aditya Parmar : testing of Large Lang. Model/claude_output_1000"
      ]
    },
    {
      "cell_type": "markdown",
      "metadata": {
        "id": "Or3ey3sVBbJh"
      },
      "source": [
        "# **Code Generation Ended.**"
      ]
    },
    {
      "cell_type": "code",
      "execution_count": null,
      "metadata": {
        "colab": {
          "base_uri": "https://localhost:8080/"
        },
        "id": "EoFgmX9-AV_A",
        "outputId": "b15ff7cf-5247-4585-fc99-de88d1672ef2"
      },
      "outputs": [
        {
          "name": "stdout",
          "output_type": "stream",
          "text": [
            "Enter the path to the folder containing .json files: /content/drive/MyDrive/Dissertation Aditya Parmar : testing of Large Lang. Model/claude_output_1000\n",
            "Enter the path for the output CSV file or directory: /content/drive/MyDrive/Dissertation Aditya Parmar : testing of Large Lang. Model/claude_output_1000\n"
          ]
        },
        {
          "name": "stderr",
          "output_type": "stream",
          "text": [
            "Processing JSON files: 100%|██████████| 1016/1016 [01:53<00:00,  8.97it/s] "
          ]
        },
        {
          "name": "stdout",
          "output_type": "stream",
          "text": [
            "CSV file created: /content/drive/MyDrive/Dissertation Aditya Parmar : testing of Large Lang. Model/claude_output_1000/image_metrics_output.csv\n"
          ]
        },
        {
          "name": "stderr",
          "output_type": "stream",
          "text": [
            "\n"
          ]
        }
      ],
      "source": [
        "# Code for generating a CSV file from JSON files for storing their scores\n",
        "import os\n",
        "import json\n",
        "import csv\n",
        "import glob\n",
        "from tqdm import tqdm\n",
        "\n",
        "def json_to_csv(input_folder, output_path):\n",
        "    # Get all .json files in the input folder\n",
        "    json_files = glob.glob(os.path.join(input_folder, '*.json'))\n",
        "\n",
        "    # If output_path is a directory, create a file name\n",
        "    if os.path.isdir(output_path):\n",
        "        output_csv = os.path.join(output_path, 'image_metrics_output.csv')\n",
        "    else:\n",
        "        output_csv = output_path\n",
        "\n",
        "    # Ensure the directory exists\n",
        "    os.makedirs(os.path.dirname(output_csv), exist_ok=True)\n",
        "\n",
        "    # Prepare CSV writer\n",
        "    with open(output_csv, 'w', newline='', encoding='utf-8') as csvfile:\n",
        "        fieldnames = ['Image Name']\n",
        "        csv_writer = csv.DictWriter(csvfile, fieldnames=fieldnames, extrasaction='ignore')\n",
        "        csv_writer.writeheader()\n",
        "\n",
        "        # Process each .json file\n",
        "        for json_file in tqdm(json_files, desc=\"Processing JSON files\"):\n",
        "            try:\n",
        "                with open(json_file, 'r', encoding='utf-8') as file:\n",
        "                    data = json.load(file)\n",
        "\n",
        "                # Update fieldnames if new fields are encountered\n",
        "                new_fields = [key for key in data.keys() if key not in fieldnames and key != 'Image']\n",
        "                if new_fields:\n",
        "                    fieldnames.extend(new_fields)\n",
        "                    csv_writer.fieldnames = fieldnames\n",
        "                    csv_writer.writeheader()\n",
        "\n",
        "                # Prepare the row data\n",
        "                row_data = {'Image Name': os.path.basename(json_file).replace('_results.json', '')}\n",
        "                row_data.update({key: value for key, value in data.items() if key != 'Image'})\n",
        "\n",
        "                # Write the row\n",
        "                csv_writer.writerow(row_data)\n",
        "            except Exception as e:\n",
        "                print(f\"Error processing {json_file}: {str(e)}\")\n",
        "                continue\n",
        "\n",
        "    print(f\"CSV file created: {output_csv}\")\n",
        "\n",
        "# Usage\n",
        "input_folder = input(\"Enter the path to the folder containing .json files: \").strip()\n",
        "output_path = input(\"Enter the path for the output CSV file or directory: \").strip()\n",
        "\n",
        "json_to_csv(input_folder, output_path)"
      ]
    },
    {
      "cell_type": "code",
      "execution_count": null,
      "metadata": {
        "collapsed": true,
        "id": "5dq1B-f3pIFS"
      },
      "outputs": [],
      "source": []
    },
    {
      "cell_type": "markdown",
      "metadata": {
        "id": "P4Ur-JEdozz7"
      },
      "source": []
    }
  ],
  "metadata": {
    "colab": {
      "provenance": []
    },
    "kernelspec": {
      "display_name": "Python 3",
      "name": "python3"
    },
    "language_info": {
      "name": "python"
    },
    "widgets": {
      "application/vnd.jupyter.widget-state+json": {
        "0145328da54a47d0856ed94edb4efd49": {
          "model_module": "@jupyter-widgets/controls",
          "model_module_version": "1.5.0",
          "model_name": "HBoxModel",
          "state": {
            "_dom_classes": [],
            "_model_module": "@jupyter-widgets/controls",
            "_model_module_version": "1.5.0",
            "_model_name": "HBoxModel",
            "_view_count": null,
            "_view_module": "@jupyter-widgets/controls",
            "_view_module_version": "1.5.0",
            "_view_name": "HBoxView",
            "box_style": "",
            "children": [
              "IPY_MODEL_fd76525e4afa44419a7f1c6313c33988",
              "IPY_MODEL_c22fc92300944084bead22b999cdb247",
              "IPY_MODEL_5333c387ce1d4365a1acd3a03149f7c8"
            ],
            "layout": "IPY_MODEL_6bc46ce2fd9349148fd2d3fb002967aa"
          }
        },
        "037bd48643844804a84707d39e951b32": {
          "model_module": "@jupyter-widgets/controls",
          "model_module_version": "1.5.0",
          "model_name": "DescriptionStyleModel",
          "state": {
            "_model_module": "@jupyter-widgets/controls",
            "_model_module_version": "1.5.0",
            "_model_name": "DescriptionStyleModel",
            "_view_count": null,
            "_view_module": "@jupyter-widgets/base",
            "_view_module_version": "1.2.0",
            "_view_name": "StyleView",
            "description_width": ""
          }
        },
        "0791042065b64dc8b08c0a690075b431": {
          "model_module": "@jupyter-widgets/controls",
          "model_module_version": "1.5.0",
          "model_name": "HTMLModel",
          "state": {
            "_dom_classes": [],
            "_model_module": "@jupyter-widgets/controls",
            "_model_module_version": "1.5.0",
            "_model_name": "HTMLModel",
            "_view_count": null,
            "_view_module": "@jupyter-widgets/controls",
            "_view_module_version": "1.5.0",
            "_view_name": "HTMLView",
            "description": "",
            "description_tooltip": null,
            "layout": "IPY_MODEL_cdca11c401f04732924a5e45237fd6d6",
            "placeholder": "​",
            "style": "IPY_MODEL_2e1c26d44fa64a9e834093b4f9b93f9d",
            "value": " 2.22M/2.22M [00:00&lt;00:00, 17.1MB/s]"
          }
        },
        "170f2a5491644a3a939e2254ef0ffb32": {
          "model_module": "@jupyter-widgets/base",
          "model_module_version": "1.2.0",
          "model_name": "LayoutModel",
          "state": {
            "_model_module": "@jupyter-widgets/base",
            "_model_module_version": "1.2.0",
            "_model_name": "LayoutModel",
            "_view_count": null,
            "_view_module": "@jupyter-widgets/base",
            "_view_module_version": "1.2.0",
            "_view_name": "LayoutView",
            "align_content": null,
            "align_items": null,
            "align_self": null,
            "border": null,
            "bottom": null,
            "display": null,
            "flex": null,
            "flex_flow": null,
            "grid_area": null,
            "grid_auto_columns": null,
            "grid_auto_flow": null,
            "grid_auto_rows": null,
            "grid_column": null,
            "grid_gap": null,
            "grid_row": null,
            "grid_template_areas": null,
            "grid_template_columns": null,
            "grid_template_rows": null,
            "height": null,
            "justify_content": null,
            "justify_items": null,
            "left": null,
            "margin": null,
            "max_height": null,
            "max_width": null,
            "min_height": null,
            "min_width": null,
            "object_fit": null,
            "object_position": null,
            "order": null,
            "overflow": null,
            "overflow_x": null,
            "overflow_y": null,
            "padding": null,
            "right": null,
            "top": null,
            "visibility": null,
            "width": null
          }
        },
        "19db2e2671c24351abde9219ada5d293": {
          "model_module": "@jupyter-widgets/base",
          "model_module_version": "1.2.0",
          "model_name": "LayoutModel",
          "state": {
            "_model_module": "@jupyter-widgets/base",
            "_model_module_version": "1.2.0",
            "_model_name": "LayoutModel",
            "_view_count": null,
            "_view_module": "@jupyter-widgets/base",
            "_view_module_version": "1.2.0",
            "_view_name": "LayoutView",
            "align_content": null,
            "align_items": null,
            "align_self": null,
            "border": null,
            "bottom": null,
            "display": null,
            "flex": null,
            "flex_flow": null,
            "grid_area": null,
            "grid_auto_columns": null,
            "grid_auto_flow": null,
            "grid_auto_rows": null,
            "grid_column": null,
            "grid_gap": null,
            "grid_row": null,
            "grid_template_areas": null,
            "grid_template_columns": null,
            "grid_template_rows": null,
            "height": null,
            "justify_content": null,
            "justify_items": null,
            "left": null,
            "margin": null,
            "max_height": null,
            "max_width": null,
            "min_height": null,
            "min_width": null,
            "object_fit": null,
            "object_position": null,
            "order": null,
            "overflow": null,
            "overflow_x": null,
            "overflow_y": null,
            "padding": null,
            "right": null,
            "top": null,
            "visibility": null,
            "width": null
          }
        },
        "1a89f79725774d14903d636a82c5619b": {
          "model_module": "@jupyter-widgets/base",
          "model_module_version": "1.2.0",
          "model_name": "LayoutModel",
          "state": {
            "_model_module": "@jupyter-widgets/base",
            "_model_module_version": "1.2.0",
            "_model_name": "LayoutModel",
            "_view_count": null,
            "_view_module": "@jupyter-widgets/base",
            "_view_module_version": "1.2.0",
            "_view_name": "LayoutView",
            "align_content": null,
            "align_items": null,
            "align_self": null,
            "border": null,
            "bottom": null,
            "display": null,
            "flex": null,
            "flex_flow": null,
            "grid_area": null,
            "grid_auto_columns": null,
            "grid_auto_flow": null,
            "grid_auto_rows": null,
            "grid_column": null,
            "grid_gap": null,
            "grid_row": null,
            "grid_template_areas": null,
            "grid_template_columns": null,
            "grid_template_rows": null,
            "height": null,
            "justify_content": null,
            "justify_items": null,
            "left": null,
            "margin": null,
            "max_height": null,
            "max_width": null,
            "min_height": null,
            "min_width": null,
            "object_fit": null,
            "object_position": null,
            "order": null,
            "overflow": null,
            "overflow_x": null,
            "overflow_y": null,
            "padding": null,
            "right": null,
            "top": null,
            "visibility": null,
            "width": null
          }
        },
        "1cbd8f523a7c456bbe26ca093542d108": {
          "model_module": "@jupyter-widgets/controls",
          "model_module_version": "1.5.0",
          "model_name": "FloatProgressModel",
          "state": {
            "_dom_classes": [],
            "_model_module": "@jupyter-widgets/controls",
            "_model_module_version": "1.5.0",
            "_model_name": "FloatProgressModel",
            "_view_count": null,
            "_view_module": "@jupyter-widgets/controls",
            "_view_module_version": "1.5.0",
            "_view_name": "ProgressView",
            "bar_style": "success",
            "description": "",
            "description_tooltip": null,
            "layout": "IPY_MODEL_801d97f9baec4dbd8d60d11a89c53071",
            "max": 605247071,
            "min": 0,
            "orientation": "horizontal",
            "style": "IPY_MODEL_f7e07ebdd2ce48e3a2d596de890b6571",
            "value": 605247071
          }
        },
        "234ae72b3bd149cf8e1050d0741bff61": {
          "model_module": "@jupyter-widgets/controls",
          "model_module_version": "1.5.0",
          "model_name": "FloatProgressModel",
          "state": {
            "_dom_classes": [],
            "_model_module": "@jupyter-widgets/controls",
            "_model_module_version": "1.5.0",
            "_model_name": "FloatProgressModel",
            "_view_count": null,
            "_view_module": "@jupyter-widgets/controls",
            "_view_module_version": "1.5.0",
            "_view_name": "ProgressView",
            "bar_style": "success",
            "description": "",
            "description_tooltip": null,
            "layout": "IPY_MODEL_1a89f79725774d14903d636a82c5619b",
            "max": 524657,
            "min": 0,
            "orientation": "horizontal",
            "style": "IPY_MODEL_d959c1a3770f4cc1b9941a507f355071",
            "value": 524657
          }
        },
        "23e048ccd1e14b4c85837e5215c43f2d": {
          "model_module": "@jupyter-widgets/controls",
          "model_module_version": "1.5.0",
          "model_name": "FloatProgressModel",
          "state": {
            "_dom_classes": [],
            "_model_module": "@jupyter-widgets/controls",
            "_model_module_version": "1.5.0",
            "_model_name": "FloatProgressModel",
            "_view_count": null,
            "_view_module": "@jupyter-widgets/controls",
            "_view_module_version": "1.5.0",
            "_view_name": "ProgressView",
            "bar_style": "success",
            "description": "",
            "description_tooltip": null,
            "layout": "IPY_MODEL_36a14dda74254efcbe8a56a670365491",
            "max": 316,
            "min": 0,
            "orientation": "horizontal",
            "style": "IPY_MODEL_77e517992cae4cbea74d99ac38a4ac37",
            "value": 316
          }
        },
        "25908726197045e8aa3c4a350b45c1d2": {
          "model_module": "@jupyter-widgets/controls",
          "model_module_version": "1.5.0",
          "model_name": "HTMLModel",
          "state": {
            "_dom_classes": [],
            "_model_module": "@jupyter-widgets/controls",
            "_model_module_version": "1.5.0",
            "_model_name": "HTMLModel",
            "_view_count": null,
            "_view_module": "@jupyter-widgets/controls",
            "_view_module_version": "1.5.0",
            "_view_name": "HTMLView",
            "description": "",
            "description_tooltip": null,
            "layout": "IPY_MODEL_569f9751ff624ac598f63529f88b9108",
            "placeholder": "​",
            "style": "IPY_MODEL_e13bf5931b5a4247a8b326081866c6a5",
            "value": " 4.19k/4.19k [00:00&lt;00:00, 183kB/s]"
          }
        },
        "2e1c26d44fa64a9e834093b4f9b93f9d": {
          "model_module": "@jupyter-widgets/controls",
          "model_module_version": "1.5.0",
          "model_name": "DescriptionStyleModel",
          "state": {
            "_model_module": "@jupyter-widgets/controls",
            "_model_module_version": "1.5.0",
            "_model_name": "DescriptionStyleModel",
            "_view_count": null,
            "_view_module": "@jupyter-widgets/base",
            "_view_module_version": "1.2.0",
            "_view_name": "StyleView",
            "description_width": ""
          }
        },
        "319d7c5ab22b4790840aef5579b06e14": {
          "model_module": "@jupyter-widgets/controls",
          "model_module_version": "1.5.0",
          "model_name": "HBoxModel",
          "state": {
            "_dom_classes": [],
            "_model_module": "@jupyter-widgets/controls",
            "_model_module_version": "1.5.0",
            "_model_name": "HBoxModel",
            "_view_count": null,
            "_view_module": "@jupyter-widgets/controls",
            "_view_module_version": "1.5.0",
            "_view_name": "HBoxView",
            "box_style": "",
            "children": [
              "IPY_MODEL_3983dd5cb6b842fa906799c2a05c33e6",
              "IPY_MODEL_c5f012d44a1d4afaa83322f68b337e27",
              "IPY_MODEL_7be9b16ed11d466eb5826fa0e43a4cd8"
            ],
            "layout": "IPY_MODEL_81b4716f13604d5289ba0a26a043e115"
          }
        },
        "36a14dda74254efcbe8a56a670365491": {
          "model_module": "@jupyter-widgets/base",
          "model_module_version": "1.2.0",
          "model_name": "LayoutModel",
          "state": {
            "_model_module": "@jupyter-widgets/base",
            "_model_module_version": "1.2.0",
            "_model_name": "LayoutModel",
            "_view_count": null,
            "_view_module": "@jupyter-widgets/base",
            "_view_module_version": "1.2.0",
            "_view_name": "LayoutView",
            "align_content": null,
            "align_items": null,
            "align_self": null,
            "border": null,
            "bottom": null,
            "display": null,
            "flex": null,
            "flex_flow": null,
            "grid_area": null,
            "grid_auto_columns": null,
            "grid_auto_flow": null,
            "grid_auto_rows": null,
            "grid_column": null,
            "grid_gap": null,
            "grid_row": null,
            "grid_template_areas": null,
            "grid_template_columns": null,
            "grid_template_rows": null,
            "height": null,
            "justify_content": null,
            "justify_items": null,
            "left": null,
            "margin": null,
            "max_height": null,
            "max_width": null,
            "min_height": null,
            "min_width": null,
            "object_fit": null,
            "object_position": null,
            "order": null,
            "overflow": null,
            "overflow_x": null,
            "overflow_y": null,
            "padding": null,
            "right": null,
            "top": null,
            "visibility": null,
            "width": null
          }
        },
        "3983dd5cb6b842fa906799c2a05c33e6": {
          "model_module": "@jupyter-widgets/controls",
          "model_module_version": "1.5.0",
          "model_name": "HTMLModel",
          "state": {
            "_dom_classes": [],
            "_model_module": "@jupyter-widgets/controls",
            "_model_module_version": "1.5.0",
            "_model_name": "HTMLModel",
            "_view_count": null,
            "_view_module": "@jupyter-widgets/controls",
            "_view_module_version": "1.5.0",
            "_view_name": "HTMLView",
            "description": "",
            "description_tooltip": null,
            "layout": "IPY_MODEL_94e28f2bedcc4f2ebc424a26f24eed6c",
            "placeholder": "​",
            "style": "IPY_MODEL_4d3611a62a9c403cb1a02ca605693b98",
            "value": "special_tokens_map.json: 100%"
          }
        },
        "3bf6f352041945308bda7166279290c0": {
          "model_module": "@jupyter-widgets/base",
          "model_module_version": "1.2.0",
          "model_name": "LayoutModel",
          "state": {
            "_model_module": "@jupyter-widgets/base",
            "_model_module_version": "1.2.0",
            "_model_name": "LayoutModel",
            "_view_count": null,
            "_view_module": "@jupyter-widgets/base",
            "_view_module_version": "1.2.0",
            "_view_name": "LayoutView",
            "align_content": null,
            "align_items": null,
            "align_self": null,
            "border": null,
            "bottom": null,
            "display": null,
            "flex": null,
            "flex_flow": null,
            "grid_area": null,
            "grid_auto_columns": null,
            "grid_auto_flow": null,
            "grid_auto_rows": null,
            "grid_column": null,
            "grid_gap": null,
            "grid_row": null,
            "grid_template_areas": null,
            "grid_template_columns": null,
            "grid_template_rows": null,
            "height": null,
            "justify_content": null,
            "justify_items": null,
            "left": null,
            "margin": null,
            "max_height": null,
            "max_width": null,
            "min_height": null,
            "min_width": null,
            "object_fit": null,
            "object_position": null,
            "order": null,
            "overflow": null,
            "overflow_x": null,
            "overflow_y": null,
            "padding": null,
            "right": null,
            "top": null,
            "visibility": null,
            "width": null
          }
        },
        "3e3108f6695c461ab7e65e21a4ffc51e": {
          "model_module": "@jupyter-widgets/controls",
          "model_module_version": "1.5.0",
          "model_name": "HBoxModel",
          "state": {
            "_dom_classes": [],
            "_model_module": "@jupyter-widgets/controls",
            "_model_module_version": "1.5.0",
            "_model_name": "HBoxModel",
            "_view_count": null,
            "_view_module": "@jupyter-widgets/controls",
            "_view_module_version": "1.5.0",
            "_view_name": "HBoxView",
            "box_style": "",
            "children": [
              "IPY_MODEL_b081e2121cbf438db7e5caf3f19f95fa",
              "IPY_MODEL_751b2e1887b144e28065fab55f34703f",
              "IPY_MODEL_25908726197045e8aa3c4a350b45c1d2"
            ],
            "layout": "IPY_MODEL_fdec266ded4d4705b90f08cae7421a38"
          }
        },
        "3f63636e92b14880bce43e4783ddd536": {
          "model_module": "@jupyter-widgets/base",
          "model_module_version": "1.2.0",
          "model_name": "LayoutModel",
          "state": {
            "_model_module": "@jupyter-widgets/base",
            "_model_module_version": "1.2.0",
            "_model_name": "LayoutModel",
            "_view_count": null,
            "_view_module": "@jupyter-widgets/base",
            "_view_module_version": "1.2.0",
            "_view_name": "LayoutView",
            "align_content": null,
            "align_items": null,
            "align_self": null,
            "border": null,
            "bottom": null,
            "display": null,
            "flex": null,
            "flex_flow": null,
            "grid_area": null,
            "grid_auto_columns": null,
            "grid_auto_flow": null,
            "grid_auto_rows": null,
            "grid_column": null,
            "grid_gap": null,
            "grid_row": null,
            "grid_template_areas": null,
            "grid_template_columns": null,
            "grid_template_rows": null,
            "height": null,
            "justify_content": null,
            "justify_items": null,
            "left": null,
            "margin": null,
            "max_height": null,
            "max_width": null,
            "min_height": null,
            "min_width": null,
            "object_fit": null,
            "object_position": null,
            "order": null,
            "overflow": null,
            "overflow_x": null,
            "overflow_y": null,
            "padding": null,
            "right": null,
            "top": null,
            "visibility": null,
            "width": null
          }
        },
        "3fd49965f00846c28f4029e1950c4735": {
          "model_module": "@jupyter-widgets/base",
          "model_module_version": "1.2.0",
          "model_name": "LayoutModel",
          "state": {
            "_model_module": "@jupyter-widgets/base",
            "_model_module_version": "1.2.0",
            "_model_name": "LayoutModel",
            "_view_count": null,
            "_view_module": "@jupyter-widgets/base",
            "_view_module_version": "1.2.0",
            "_view_name": "LayoutView",
            "align_content": null,
            "align_items": null,
            "align_self": null,
            "border": null,
            "bottom": null,
            "display": null,
            "flex": null,
            "flex_flow": null,
            "grid_area": null,
            "grid_auto_columns": null,
            "grid_auto_flow": null,
            "grid_auto_rows": null,
            "grid_column": null,
            "grid_gap": null,
            "grid_row": null,
            "grid_template_areas": null,
            "grid_template_columns": null,
            "grid_template_rows": null,
            "height": null,
            "justify_content": null,
            "justify_items": null,
            "left": null,
            "margin": null,
            "max_height": null,
            "max_width": null,
            "min_height": null,
            "min_width": null,
            "object_fit": null,
            "object_position": null,
            "order": null,
            "overflow": null,
            "overflow_x": null,
            "overflow_y": null,
            "padding": null,
            "right": null,
            "top": null,
            "visibility": null,
            "width": null
          }
        },
        "43cc8ea92d9440d78475e5e3fb1421c6": {
          "model_module": "@jupyter-widgets/controls",
          "model_module_version": "1.5.0",
          "model_name": "DescriptionStyleModel",
          "state": {
            "_model_module": "@jupyter-widgets/controls",
            "_model_module_version": "1.5.0",
            "_model_name": "DescriptionStyleModel",
            "_view_count": null,
            "_view_module": "@jupyter-widgets/base",
            "_view_module_version": "1.2.0",
            "_view_name": "StyleView",
            "description_width": ""
          }
        },
        "47670a9869f040c5a3a5b8ca8ac47b4d": {
          "model_module": "@jupyter-widgets/controls",
          "model_module_version": "1.5.0",
          "model_name": "HBoxModel",
          "state": {
            "_dom_classes": [],
            "_model_module": "@jupyter-widgets/controls",
            "_model_module_version": "1.5.0",
            "_model_name": "HBoxModel",
            "_view_count": null,
            "_view_module": "@jupyter-widgets/controls",
            "_view_module_version": "1.5.0",
            "_view_name": "HBoxView",
            "box_style": "",
            "children": [
              "IPY_MODEL_c1c92e872fd445e597d8c2d609e8ab52",
              "IPY_MODEL_23e048ccd1e14b4c85837e5215c43f2d",
              "IPY_MODEL_c53995dece8d4689a817e48bcaf8a0f6"
            ],
            "layout": "IPY_MODEL_69234ad0d0dd456f8770cfd7013ddaf2"
          }
        },
        "4a65c5bfbc854bc2973bf36cf055cf44": {
          "model_module": "@jupyter-widgets/base",
          "model_module_version": "1.2.0",
          "model_name": "LayoutModel",
          "state": {
            "_model_module": "@jupyter-widgets/base",
            "_model_module_version": "1.2.0",
            "_model_name": "LayoutModel",
            "_view_count": null,
            "_view_module": "@jupyter-widgets/base",
            "_view_module_version": "1.2.0",
            "_view_name": "LayoutView",
            "align_content": null,
            "align_items": null,
            "align_self": null,
            "border": null,
            "bottom": null,
            "display": null,
            "flex": null,
            "flex_flow": null,
            "grid_area": null,
            "grid_auto_columns": null,
            "grid_auto_flow": null,
            "grid_auto_rows": null,
            "grid_column": null,
            "grid_gap": null,
            "grid_row": null,
            "grid_template_areas": null,
            "grid_template_columns": null,
            "grid_template_rows": null,
            "height": null,
            "justify_content": null,
            "justify_items": null,
            "left": null,
            "margin": null,
            "max_height": null,
            "max_width": null,
            "min_height": null,
            "min_width": null,
            "object_fit": null,
            "object_position": null,
            "order": null,
            "overflow": null,
            "overflow_x": null,
            "overflow_y": null,
            "padding": null,
            "right": null,
            "top": null,
            "visibility": null,
            "width": null
          }
        },
        "4cdaec05f43c4e94bade9424d009d0f9": {
          "model_module": "@jupyter-widgets/controls",
          "model_module_version": "1.5.0",
          "model_name": "DescriptionStyleModel",
          "state": {
            "_model_module": "@jupyter-widgets/controls",
            "_model_module_version": "1.5.0",
            "_model_name": "DescriptionStyleModel",
            "_view_count": null,
            "_view_module": "@jupyter-widgets/base",
            "_view_module_version": "1.2.0",
            "_view_name": "StyleView",
            "description_width": ""
          }
        },
        "4d3611a62a9c403cb1a02ca605693b98": {
          "model_module": "@jupyter-widgets/controls",
          "model_module_version": "1.5.0",
          "model_name": "DescriptionStyleModel",
          "state": {
            "_model_module": "@jupyter-widgets/controls",
            "_model_module_version": "1.5.0",
            "_model_name": "DescriptionStyleModel",
            "_view_count": null,
            "_view_module": "@jupyter-widgets/base",
            "_view_module_version": "1.2.0",
            "_view_name": "StyleView",
            "description_width": ""
          }
        },
        "4d7bd493627f4e44b4646c89af5e1bde": {
          "model_module": "@jupyter-widgets/controls",
          "model_module_version": "1.5.0",
          "model_name": "HBoxModel",
          "state": {
            "_dom_classes": [],
            "_model_module": "@jupyter-widgets/controls",
            "_model_module_version": "1.5.0",
            "_model_name": "HBoxModel",
            "_view_count": null,
            "_view_module": "@jupyter-widgets/controls",
            "_view_module_version": "1.5.0",
            "_view_name": "HBoxView",
            "box_style": "",
            "children": [
              "IPY_MODEL_8f10f47df8ea45eba8fd929db6d9d004",
              "IPY_MODEL_1cbd8f523a7c456bbe26ca093542d108",
              "IPY_MODEL_cd20b3bae0464b7a9eb5ce0768a7e449"
            ],
            "layout": "IPY_MODEL_c19a0a46f72840acb500202502aa907d"
          }
        },
        "51ec4d8b86974c329e7d751e8262d546": {
          "model_module": "@jupyter-widgets/controls",
          "model_module_version": "1.5.0",
          "model_name": "DescriptionStyleModel",
          "state": {
            "_model_module": "@jupyter-widgets/controls",
            "_model_module_version": "1.5.0",
            "_model_name": "DescriptionStyleModel",
            "_view_count": null,
            "_view_module": "@jupyter-widgets/base",
            "_view_module_version": "1.2.0",
            "_view_name": "StyleView",
            "description_width": ""
          }
        },
        "52a8e01aa2164eb5b9d9971437b14c00": {
          "model_module": "@jupyter-widgets/base",
          "model_module_version": "1.2.0",
          "model_name": "LayoutModel",
          "state": {
            "_model_module": "@jupyter-widgets/base",
            "_model_module_version": "1.2.0",
            "_model_name": "LayoutModel",
            "_view_count": null,
            "_view_module": "@jupyter-widgets/base",
            "_view_module_version": "1.2.0",
            "_view_name": "LayoutView",
            "align_content": null,
            "align_items": null,
            "align_self": null,
            "border": null,
            "bottom": null,
            "display": null,
            "flex": null,
            "flex_flow": null,
            "grid_area": null,
            "grid_auto_columns": null,
            "grid_auto_flow": null,
            "grid_auto_rows": null,
            "grid_column": null,
            "grid_gap": null,
            "grid_row": null,
            "grid_template_areas": null,
            "grid_template_columns": null,
            "grid_template_rows": null,
            "height": null,
            "justify_content": null,
            "justify_items": null,
            "left": null,
            "margin": null,
            "max_height": null,
            "max_width": null,
            "min_height": null,
            "min_width": null,
            "object_fit": null,
            "object_position": null,
            "order": null,
            "overflow": null,
            "overflow_x": null,
            "overflow_y": null,
            "padding": null,
            "right": null,
            "top": null,
            "visibility": null,
            "width": null
          }
        },
        "5305b3375c2245ecb32772acb0c81ef3": {
          "model_module": "@jupyter-widgets/controls",
          "model_module_version": "1.5.0",
          "model_name": "DescriptionStyleModel",
          "state": {
            "_model_module": "@jupyter-widgets/controls",
            "_model_module_version": "1.5.0",
            "_model_name": "DescriptionStyleModel",
            "_view_count": null,
            "_view_module": "@jupyter-widgets/base",
            "_view_module_version": "1.2.0",
            "_view_name": "StyleView",
            "description_width": ""
          }
        },
        "5333c387ce1d4365a1acd3a03149f7c8": {
          "model_module": "@jupyter-widgets/controls",
          "model_module_version": "1.5.0",
          "model_name": "HTMLModel",
          "state": {
            "_dom_classes": [],
            "_model_module": "@jupyter-widgets/controls",
            "_model_module_version": "1.5.0",
            "_model_name": "HTMLModel",
            "_view_count": null,
            "_view_module": "@jupyter-widgets/controls",
            "_view_module_version": "1.5.0",
            "_view_name": "HTMLView",
            "description": "",
            "description_tooltip": null,
            "layout": "IPY_MODEL_d78d6ac528604f8d97ed9ff3d77da3c2",
            "placeholder": "​",
            "style": "IPY_MODEL_4cdaec05f43c4e94bade9424d009d0f9",
            "value": " 862k/862k [00:00&lt;00:00, 5.67MB/s]"
          }
        },
        "55e4ca6b53464d8a9d90a17f7f396ced": {
          "model_module": "@jupyter-widgets/controls",
          "model_module_version": "1.5.0",
          "model_name": "ProgressStyleModel",
          "state": {
            "_model_module": "@jupyter-widgets/controls",
            "_model_module_version": "1.5.0",
            "_model_name": "ProgressStyleModel",
            "_view_count": null,
            "_view_module": "@jupyter-widgets/base",
            "_view_module_version": "1.2.0",
            "_view_name": "StyleView",
            "bar_color": null,
            "description_width": ""
          }
        },
        "563670a0c4e54cf3a8f3cc8494c93e14": {
          "model_module": "@jupyter-widgets/controls",
          "model_module_version": "1.5.0",
          "model_name": "HBoxModel",
          "state": {
            "_dom_classes": [],
            "_model_module": "@jupyter-widgets/controls",
            "_model_module_version": "1.5.0",
            "_model_name": "HBoxModel",
            "_view_count": null,
            "_view_module": "@jupyter-widgets/controls",
            "_view_module_version": "1.5.0",
            "_view_name": "HBoxView",
            "box_style": "",
            "children": [
              "IPY_MODEL_7b0b0b3192814716897cc5e5811ad4c5",
              "IPY_MODEL_c58a1a240a474cb88b7336400d1a574e",
              "IPY_MODEL_e71e0accf16b4ce0b5be7d3170ffcc68"
            ],
            "layout": "IPY_MODEL_75d9b088afd84d189efd774489b80965"
          }
        },
        "569f9751ff624ac598f63529f88b9108": {
          "model_module": "@jupyter-widgets/base",
          "model_module_version": "1.2.0",
          "model_name": "LayoutModel",
          "state": {
            "_model_module": "@jupyter-widgets/base",
            "_model_module_version": "1.2.0",
            "_model_name": "LayoutModel",
            "_view_count": null,
            "_view_module": "@jupyter-widgets/base",
            "_view_module_version": "1.2.0",
            "_view_name": "LayoutView",
            "align_content": null,
            "align_items": null,
            "align_self": null,
            "border": null,
            "bottom": null,
            "display": null,
            "flex": null,
            "flex_flow": null,
            "grid_area": null,
            "grid_auto_columns": null,
            "grid_auto_flow": null,
            "grid_auto_rows": null,
            "grid_column": null,
            "grid_gap": null,
            "grid_row": null,
            "grid_template_areas": null,
            "grid_template_columns": null,
            "grid_template_rows": null,
            "height": null,
            "justify_content": null,
            "justify_items": null,
            "left": null,
            "margin": null,
            "max_height": null,
            "max_width": null,
            "min_height": null,
            "min_width": null,
            "object_fit": null,
            "object_position": null,
            "order": null,
            "overflow": null,
            "overflow_x": null,
            "overflow_y": null,
            "padding": null,
            "right": null,
            "top": null,
            "visibility": null,
            "width": null
          }
        },
        "5ad2fdd930a44820b1b3a96035c412d4": {
          "model_module": "@jupyter-widgets/controls",
          "model_module_version": "1.5.0",
          "model_name": "DescriptionStyleModel",
          "state": {
            "_model_module": "@jupyter-widgets/controls",
            "_model_module_version": "1.5.0",
            "_model_name": "DescriptionStyleModel",
            "_view_count": null,
            "_view_module": "@jupyter-widgets/base",
            "_view_module_version": "1.2.0",
            "_view_name": "StyleView",
            "description_width": ""
          }
        },
        "60bb4c846e1148e299c9e96dd8922b7a": {
          "model_module": "@jupyter-widgets/controls",
          "model_module_version": "1.5.0",
          "model_name": "DescriptionStyleModel",
          "state": {
            "_model_module": "@jupyter-widgets/controls",
            "_model_module_version": "1.5.0",
            "_model_name": "DescriptionStyleModel",
            "_view_count": null,
            "_view_module": "@jupyter-widgets/base",
            "_view_module_version": "1.2.0",
            "_view_name": "StyleView",
            "description_width": ""
          }
        },
        "615f84cadb494b71bb401a1cfcf03099": {
          "model_module": "@jupyter-widgets/controls",
          "model_module_version": "1.5.0",
          "model_name": "DescriptionStyleModel",
          "state": {
            "_model_module": "@jupyter-widgets/controls",
            "_model_module_version": "1.5.0",
            "_model_name": "DescriptionStyleModel",
            "_view_count": null,
            "_view_module": "@jupyter-widgets/base",
            "_view_module_version": "1.2.0",
            "_view_name": "StyleView",
            "description_width": ""
          }
        },
        "63ab213b2ee0428987f7a4294e77ae3a": {
          "model_module": "@jupyter-widgets/controls",
          "model_module_version": "1.5.0",
          "model_name": "ProgressStyleModel",
          "state": {
            "_model_module": "@jupyter-widgets/controls",
            "_model_module_version": "1.5.0",
            "_model_name": "ProgressStyleModel",
            "_view_count": null,
            "_view_module": "@jupyter-widgets/base",
            "_view_module_version": "1.2.0",
            "_view_name": "StyleView",
            "bar_color": null,
            "description_width": ""
          }
        },
        "64f6ab366b0d404aa308c1fa6f17cd73": {
          "model_module": "@jupyter-widgets/base",
          "model_module_version": "1.2.0",
          "model_name": "LayoutModel",
          "state": {
            "_model_module": "@jupyter-widgets/base",
            "_model_module_version": "1.2.0",
            "_model_name": "LayoutModel",
            "_view_count": null,
            "_view_module": "@jupyter-widgets/base",
            "_view_module_version": "1.2.0",
            "_view_name": "LayoutView",
            "align_content": null,
            "align_items": null,
            "align_self": null,
            "border": null,
            "bottom": null,
            "display": null,
            "flex": null,
            "flex_flow": null,
            "grid_area": null,
            "grid_auto_columns": null,
            "grid_auto_flow": null,
            "grid_auto_rows": null,
            "grid_column": null,
            "grid_gap": null,
            "grid_row": null,
            "grid_template_areas": null,
            "grid_template_columns": null,
            "grid_template_rows": null,
            "height": null,
            "justify_content": null,
            "justify_items": null,
            "left": null,
            "margin": null,
            "max_height": null,
            "max_width": null,
            "min_height": null,
            "min_width": null,
            "object_fit": null,
            "object_position": null,
            "order": null,
            "overflow": null,
            "overflow_x": null,
            "overflow_y": null,
            "padding": null,
            "right": null,
            "top": null,
            "visibility": null,
            "width": null
          }
        },
        "69234ad0d0dd456f8770cfd7013ddaf2": {
          "model_module": "@jupyter-widgets/base",
          "model_module_version": "1.2.0",
          "model_name": "LayoutModel",
          "state": {
            "_model_module": "@jupyter-widgets/base",
            "_model_module_version": "1.2.0",
            "_model_name": "LayoutModel",
            "_view_count": null,
            "_view_module": "@jupyter-widgets/base",
            "_view_module_version": "1.2.0",
            "_view_name": "LayoutView",
            "align_content": null,
            "align_items": null,
            "align_self": null,
            "border": null,
            "bottom": null,
            "display": null,
            "flex": null,
            "flex_flow": null,
            "grid_area": null,
            "grid_auto_columns": null,
            "grid_auto_flow": null,
            "grid_auto_rows": null,
            "grid_column": null,
            "grid_gap": null,
            "grid_row": null,
            "grid_template_areas": null,
            "grid_template_columns": null,
            "grid_template_rows": null,
            "height": null,
            "justify_content": null,
            "justify_items": null,
            "left": null,
            "margin": null,
            "max_height": null,
            "max_width": null,
            "min_height": null,
            "min_width": null,
            "object_fit": null,
            "object_position": null,
            "order": null,
            "overflow": null,
            "overflow_x": null,
            "overflow_y": null,
            "padding": null,
            "right": null,
            "top": null,
            "visibility": null,
            "width": null
          }
        },
        "6bc46ce2fd9349148fd2d3fb002967aa": {
          "model_module": "@jupyter-widgets/base",
          "model_module_version": "1.2.0",
          "model_name": "LayoutModel",
          "state": {
            "_model_module": "@jupyter-widgets/base",
            "_model_module_version": "1.2.0",
            "_model_name": "LayoutModel",
            "_view_count": null,
            "_view_module": "@jupyter-widgets/base",
            "_view_module_version": "1.2.0",
            "_view_name": "LayoutView",
            "align_content": null,
            "align_items": null,
            "align_self": null,
            "border": null,
            "bottom": null,
            "display": null,
            "flex": null,
            "flex_flow": null,
            "grid_area": null,
            "grid_auto_columns": null,
            "grid_auto_flow": null,
            "grid_auto_rows": null,
            "grid_column": null,
            "grid_gap": null,
            "grid_row": null,
            "grid_template_areas": null,
            "grid_template_columns": null,
            "grid_template_rows": null,
            "height": null,
            "justify_content": null,
            "justify_items": null,
            "left": null,
            "margin": null,
            "max_height": null,
            "max_width": null,
            "min_height": null,
            "min_width": null,
            "object_fit": null,
            "object_position": null,
            "order": null,
            "overflow": null,
            "overflow_x": null,
            "overflow_y": null,
            "padding": null,
            "right": null,
            "top": null,
            "visibility": null,
            "width": null
          }
        },
        "6e742fd6408c4c9c982603ba931a71d9": {
          "model_module": "@jupyter-widgets/base",
          "model_module_version": "1.2.0",
          "model_name": "LayoutModel",
          "state": {
            "_model_module": "@jupyter-widgets/base",
            "_model_module_version": "1.2.0",
            "_model_name": "LayoutModel",
            "_view_count": null,
            "_view_module": "@jupyter-widgets/base",
            "_view_module_version": "1.2.0",
            "_view_name": "LayoutView",
            "align_content": null,
            "align_items": null,
            "align_self": null,
            "border": null,
            "bottom": null,
            "display": null,
            "flex": null,
            "flex_flow": null,
            "grid_area": null,
            "grid_auto_columns": null,
            "grid_auto_flow": null,
            "grid_auto_rows": null,
            "grid_column": null,
            "grid_gap": null,
            "grid_row": null,
            "grid_template_areas": null,
            "grid_template_columns": null,
            "grid_template_rows": null,
            "height": null,
            "justify_content": null,
            "justify_items": null,
            "left": null,
            "margin": null,
            "max_height": null,
            "max_width": null,
            "min_height": null,
            "min_width": null,
            "object_fit": null,
            "object_position": null,
            "order": null,
            "overflow": null,
            "overflow_x": null,
            "overflow_y": null,
            "padding": null,
            "right": null,
            "top": null,
            "visibility": null,
            "width": null
          }
        },
        "70f92b57bce644b69ff3fac478b46f8a": {
          "model_module": "@jupyter-widgets/base",
          "model_module_version": "1.2.0",
          "model_name": "LayoutModel",
          "state": {
            "_model_module": "@jupyter-widgets/base",
            "_model_module_version": "1.2.0",
            "_model_name": "LayoutModel",
            "_view_count": null,
            "_view_module": "@jupyter-widgets/base",
            "_view_module_version": "1.2.0",
            "_view_name": "LayoutView",
            "align_content": null,
            "align_items": null,
            "align_self": null,
            "border": null,
            "bottom": null,
            "display": null,
            "flex": null,
            "flex_flow": null,
            "grid_area": null,
            "grid_auto_columns": null,
            "grid_auto_flow": null,
            "grid_auto_rows": null,
            "grid_column": null,
            "grid_gap": null,
            "grid_row": null,
            "grid_template_areas": null,
            "grid_template_columns": null,
            "grid_template_rows": null,
            "height": null,
            "justify_content": null,
            "justify_items": null,
            "left": null,
            "margin": null,
            "max_height": null,
            "max_width": null,
            "min_height": null,
            "min_width": null,
            "object_fit": null,
            "object_position": null,
            "order": null,
            "overflow": null,
            "overflow_x": null,
            "overflow_y": null,
            "padding": null,
            "right": null,
            "top": null,
            "visibility": null,
            "width": null
          }
        },
        "751b2e1887b144e28065fab55f34703f": {
          "model_module": "@jupyter-widgets/controls",
          "model_module_version": "1.5.0",
          "model_name": "FloatProgressModel",
          "state": {
            "_dom_classes": [],
            "_model_module": "@jupyter-widgets/controls",
            "_model_module_version": "1.5.0",
            "_model_name": "FloatProgressModel",
            "_view_count": null,
            "_view_module": "@jupyter-widgets/controls",
            "_view_module_version": "1.5.0",
            "_view_name": "ProgressView",
            "bar_style": "success",
            "description": "",
            "description_tooltip": null,
            "layout": "IPY_MODEL_52a8e01aa2164eb5b9d9971437b14c00",
            "max": 4186,
            "min": 0,
            "orientation": "horizontal",
            "style": "IPY_MODEL_77d21da094bf46b18b9a8e295b41cb9f",
            "value": 4186
          }
        },
        "75d9b088afd84d189efd774489b80965": {
          "model_module": "@jupyter-widgets/base",
          "model_module_version": "1.2.0",
          "model_name": "LayoutModel",
          "state": {
            "_model_module": "@jupyter-widgets/base",
            "_model_module_version": "1.2.0",
            "_model_name": "LayoutModel",
            "_view_count": null,
            "_view_module": "@jupyter-widgets/base",
            "_view_module_version": "1.2.0",
            "_view_name": "LayoutView",
            "align_content": null,
            "align_items": null,
            "align_self": null,
            "border": null,
            "bottom": null,
            "display": null,
            "flex": null,
            "flex_flow": null,
            "grid_area": null,
            "grid_auto_columns": null,
            "grid_auto_flow": null,
            "grid_auto_rows": null,
            "grid_column": null,
            "grid_gap": null,
            "grid_row": null,
            "grid_template_areas": null,
            "grid_template_columns": null,
            "grid_template_rows": null,
            "height": null,
            "justify_content": null,
            "justify_items": null,
            "left": null,
            "margin": null,
            "max_height": null,
            "max_width": null,
            "min_height": null,
            "min_width": null,
            "object_fit": null,
            "object_position": null,
            "order": null,
            "overflow": null,
            "overflow_x": null,
            "overflow_y": null,
            "padding": null,
            "right": null,
            "top": null,
            "visibility": null,
            "width": null
          }
        },
        "76e59792e3964697a47292d14ea002d9": {
          "model_module": "@jupyter-widgets/base",
          "model_module_version": "1.2.0",
          "model_name": "LayoutModel",
          "state": {
            "_model_module": "@jupyter-widgets/base",
            "_model_module_version": "1.2.0",
            "_model_name": "LayoutModel",
            "_view_count": null,
            "_view_module": "@jupyter-widgets/base",
            "_view_module_version": "1.2.0",
            "_view_name": "LayoutView",
            "align_content": null,
            "align_items": null,
            "align_self": null,
            "border": null,
            "bottom": null,
            "display": null,
            "flex": null,
            "flex_flow": null,
            "grid_area": null,
            "grid_auto_columns": null,
            "grid_auto_flow": null,
            "grid_auto_rows": null,
            "grid_column": null,
            "grid_gap": null,
            "grid_row": null,
            "grid_template_areas": null,
            "grid_template_columns": null,
            "grid_template_rows": null,
            "height": null,
            "justify_content": null,
            "justify_items": null,
            "left": null,
            "margin": null,
            "max_height": null,
            "max_width": null,
            "min_height": null,
            "min_width": null,
            "object_fit": null,
            "object_position": null,
            "order": null,
            "overflow": null,
            "overflow_x": null,
            "overflow_y": null,
            "padding": null,
            "right": null,
            "top": null,
            "visibility": null,
            "width": null
          }
        },
        "77d21da094bf46b18b9a8e295b41cb9f": {
          "model_module": "@jupyter-widgets/controls",
          "model_module_version": "1.5.0",
          "model_name": "ProgressStyleModel",
          "state": {
            "_model_module": "@jupyter-widgets/controls",
            "_model_module_version": "1.5.0",
            "_model_name": "ProgressStyleModel",
            "_view_count": null,
            "_view_module": "@jupyter-widgets/base",
            "_view_module_version": "1.2.0",
            "_view_name": "StyleView",
            "bar_color": null,
            "description_width": ""
          }
        },
        "77e517992cae4cbea74d99ac38a4ac37": {
          "model_module": "@jupyter-widgets/controls",
          "model_module_version": "1.5.0",
          "model_name": "ProgressStyleModel",
          "state": {
            "_model_module": "@jupyter-widgets/controls",
            "_model_module_version": "1.5.0",
            "_model_name": "ProgressStyleModel",
            "_view_count": null,
            "_view_module": "@jupyter-widgets/base",
            "_view_module_version": "1.2.0",
            "_view_name": "StyleView",
            "bar_color": null,
            "description_width": ""
          }
        },
        "78965ae03c864efab26f1a87690520c7": {
          "model_module": "@jupyter-widgets/base",
          "model_module_version": "1.2.0",
          "model_name": "LayoutModel",
          "state": {
            "_model_module": "@jupyter-widgets/base",
            "_model_module_version": "1.2.0",
            "_model_name": "LayoutModel",
            "_view_count": null,
            "_view_module": "@jupyter-widgets/base",
            "_view_module_version": "1.2.0",
            "_view_name": "LayoutView",
            "align_content": null,
            "align_items": null,
            "align_self": null,
            "border": null,
            "bottom": null,
            "display": null,
            "flex": null,
            "flex_flow": null,
            "grid_area": null,
            "grid_auto_columns": null,
            "grid_auto_flow": null,
            "grid_auto_rows": null,
            "grid_column": null,
            "grid_gap": null,
            "grid_row": null,
            "grid_template_areas": null,
            "grid_template_columns": null,
            "grid_template_rows": null,
            "height": null,
            "justify_content": null,
            "justify_items": null,
            "left": null,
            "margin": null,
            "max_height": null,
            "max_width": null,
            "min_height": null,
            "min_width": null,
            "object_fit": null,
            "object_position": null,
            "order": null,
            "overflow": null,
            "overflow_x": null,
            "overflow_y": null,
            "padding": null,
            "right": null,
            "top": null,
            "visibility": null,
            "width": null
          }
        },
        "7b0b0b3192814716897cc5e5811ad4c5": {
          "model_module": "@jupyter-widgets/controls",
          "model_module_version": "1.5.0",
          "model_name": "HTMLModel",
          "state": {
            "_dom_classes": [],
            "_model_module": "@jupyter-widgets/controls",
            "_model_module_version": "1.5.0",
            "_model_name": "HTMLModel",
            "_view_count": null,
            "_view_module": "@jupyter-widgets/controls",
            "_view_module_version": "1.5.0",
            "_view_name": "HTMLView",
            "description": "",
            "description_tooltip": null,
            "layout": "IPY_MODEL_19db2e2671c24351abde9219ada5d293",
            "placeholder": "​",
            "style": "IPY_MODEL_b52490c677f048d6acd6ace06bd5e514",
            "value": "tokenizer_config.json: 100%"
          }
        },
        "7be9b16ed11d466eb5826fa0e43a4cd8": {
          "model_module": "@jupyter-widgets/controls",
          "model_module_version": "1.5.0",
          "model_name": "HTMLModel",
          "state": {
            "_dom_classes": [],
            "_model_module": "@jupyter-widgets/controls",
            "_model_module_version": "1.5.0",
            "_model_name": "HTMLModel",
            "_view_count": null,
            "_view_module": "@jupyter-widgets/controls",
            "_view_module_version": "1.5.0",
            "_view_name": "HTMLView",
            "description": "",
            "description_tooltip": null,
            "layout": "IPY_MODEL_c9387a132cc54703a9067be5bf346748",
            "placeholder": "​",
            "style": "IPY_MODEL_037bd48643844804a84707d39e951b32",
            "value": " 389/389 [00:00&lt;00:00, 16.0kB/s]"
          }
        },
        "801d97f9baec4dbd8d60d11a89c53071": {
          "model_module": "@jupyter-widgets/base",
          "model_module_version": "1.2.0",
          "model_name": "LayoutModel",
          "state": {
            "_model_module": "@jupyter-widgets/base",
            "_model_module_version": "1.2.0",
            "_model_name": "LayoutModel",
            "_view_count": null,
            "_view_module": "@jupyter-widgets/base",
            "_view_module_version": "1.2.0",
            "_view_name": "LayoutView",
            "align_content": null,
            "align_items": null,
            "align_self": null,
            "border": null,
            "bottom": null,
            "display": null,
            "flex": null,
            "flex_flow": null,
            "grid_area": null,
            "grid_auto_columns": null,
            "grid_auto_flow": null,
            "grid_auto_rows": null,
            "grid_column": null,
            "grid_gap": null,
            "grid_row": null,
            "grid_template_areas": null,
            "grid_template_columns": null,
            "grid_template_rows": null,
            "height": null,
            "justify_content": null,
            "justify_items": null,
            "left": null,
            "margin": null,
            "max_height": null,
            "max_width": null,
            "min_height": null,
            "min_width": null,
            "object_fit": null,
            "object_position": null,
            "order": null,
            "overflow": null,
            "overflow_x": null,
            "overflow_y": null,
            "padding": null,
            "right": null,
            "top": null,
            "visibility": null,
            "width": null
          }
        },
        "81b4716f13604d5289ba0a26a043e115": {
          "model_module": "@jupyter-widgets/base",
          "model_module_version": "1.2.0",
          "model_name": "LayoutModel",
          "state": {
            "_model_module": "@jupyter-widgets/base",
            "_model_module_version": "1.2.0",
            "_model_name": "LayoutModel",
            "_view_count": null,
            "_view_module": "@jupyter-widgets/base",
            "_view_module_version": "1.2.0",
            "_view_name": "LayoutView",
            "align_content": null,
            "align_items": null,
            "align_self": null,
            "border": null,
            "bottom": null,
            "display": null,
            "flex": null,
            "flex_flow": null,
            "grid_area": null,
            "grid_auto_columns": null,
            "grid_auto_flow": null,
            "grid_auto_rows": null,
            "grid_column": null,
            "grid_gap": null,
            "grid_row": null,
            "grid_template_areas": null,
            "grid_template_columns": null,
            "grid_template_rows": null,
            "height": null,
            "justify_content": null,
            "justify_items": null,
            "left": null,
            "margin": null,
            "max_height": null,
            "max_width": null,
            "min_height": null,
            "min_width": null,
            "object_fit": null,
            "object_position": null,
            "order": null,
            "overflow": null,
            "overflow_x": null,
            "overflow_y": null,
            "padding": null,
            "right": null,
            "top": null,
            "visibility": null,
            "width": null
          }
        },
        "8c35eee24f6044c5aa4f0145ec57e713": {
          "model_module": "@jupyter-widgets/base",
          "model_module_version": "1.2.0",
          "model_name": "LayoutModel",
          "state": {
            "_model_module": "@jupyter-widgets/base",
            "_model_module_version": "1.2.0",
            "_model_name": "LayoutModel",
            "_view_count": null,
            "_view_module": "@jupyter-widgets/base",
            "_view_module_version": "1.2.0",
            "_view_name": "LayoutView",
            "align_content": null,
            "align_items": null,
            "align_self": null,
            "border": null,
            "bottom": null,
            "display": null,
            "flex": null,
            "flex_flow": null,
            "grid_area": null,
            "grid_auto_columns": null,
            "grid_auto_flow": null,
            "grid_auto_rows": null,
            "grid_column": null,
            "grid_gap": null,
            "grid_row": null,
            "grid_template_areas": null,
            "grid_template_columns": null,
            "grid_template_rows": null,
            "height": null,
            "justify_content": null,
            "justify_items": null,
            "left": null,
            "margin": null,
            "max_height": null,
            "max_width": null,
            "min_height": null,
            "min_width": null,
            "object_fit": null,
            "object_position": null,
            "order": null,
            "overflow": null,
            "overflow_x": null,
            "overflow_y": null,
            "padding": null,
            "right": null,
            "top": null,
            "visibility": null,
            "width": null
          }
        },
        "8f10f47df8ea45eba8fd929db6d9d004": {
          "model_module": "@jupyter-widgets/controls",
          "model_module_version": "1.5.0",
          "model_name": "HTMLModel",
          "state": {
            "_dom_classes": [],
            "_model_module": "@jupyter-widgets/controls",
            "_model_module_version": "1.5.0",
            "_model_name": "HTMLModel",
            "_view_count": null,
            "_view_module": "@jupyter-widgets/controls",
            "_view_module_version": "1.5.0",
            "_view_name": "HTMLView",
            "description": "",
            "description_tooltip": null,
            "layout": "IPY_MODEL_9e12b5bec38046d49376a6dd1457f0e6",
            "placeholder": "​",
            "style": "IPY_MODEL_ad57c3db59774581803756cceb0fc09f",
            "value": "pytorch_model.bin: 100%"
          }
        },
        "935e303119de47ed911802ce9948d4af": {
          "model_module": "@jupyter-widgets/controls",
          "model_module_version": "1.5.0",
          "model_name": "HTMLModel",
          "state": {
            "_dom_classes": [],
            "_model_module": "@jupyter-widgets/controls",
            "_model_module_version": "1.5.0",
            "_model_name": "HTMLModel",
            "_view_count": null,
            "_view_module": "@jupyter-widgets/controls",
            "_view_module_version": "1.5.0",
            "_view_name": "HTMLView",
            "description": "",
            "description_tooltip": null,
            "layout": "IPY_MODEL_76e59792e3964697a47292d14ea002d9",
            "placeholder": "​",
            "style": "IPY_MODEL_de8579ea6cb844f997716ce312bff1f0",
            "value": "merges.txt: 100%"
          }
        },
        "94e28f2bedcc4f2ebc424a26f24eed6c": {
          "model_module": "@jupyter-widgets/base",
          "model_module_version": "1.2.0",
          "model_name": "LayoutModel",
          "state": {
            "_model_module": "@jupyter-widgets/base",
            "_model_module_version": "1.2.0",
            "_model_name": "LayoutModel",
            "_view_count": null,
            "_view_module": "@jupyter-widgets/base",
            "_view_module_version": "1.2.0",
            "_view_name": "LayoutView",
            "align_content": null,
            "align_items": null,
            "align_self": null,
            "border": null,
            "bottom": null,
            "display": null,
            "flex": null,
            "flex_flow": null,
            "grid_area": null,
            "grid_auto_columns": null,
            "grid_auto_flow": null,
            "grid_auto_rows": null,
            "grid_column": null,
            "grid_gap": null,
            "grid_row": null,
            "grid_template_areas": null,
            "grid_template_columns": null,
            "grid_template_rows": null,
            "height": null,
            "justify_content": null,
            "justify_items": null,
            "left": null,
            "margin": null,
            "max_height": null,
            "max_width": null,
            "min_height": null,
            "min_width": null,
            "object_fit": null,
            "object_position": null,
            "order": null,
            "overflow": null,
            "overflow_x": null,
            "overflow_y": null,
            "padding": null,
            "right": null,
            "top": null,
            "visibility": null,
            "width": null
          }
        },
        "95f2ec022adb428c9a84e3faf4963cc6": {
          "model_module": "@jupyter-widgets/controls",
          "model_module_version": "1.5.0",
          "model_name": "HTMLModel",
          "state": {
            "_dom_classes": [],
            "_model_module": "@jupyter-widgets/controls",
            "_model_module_version": "1.5.0",
            "_model_name": "HTMLModel",
            "_view_count": null,
            "_view_module": "@jupyter-widgets/controls",
            "_view_module_version": "1.5.0",
            "_view_name": "HTMLView",
            "description": "",
            "description_tooltip": null,
            "layout": "IPY_MODEL_4a65c5bfbc854bc2973bf36cf055cf44",
            "placeholder": "​",
            "style": "IPY_MODEL_615f84cadb494b71bb401a1cfcf03099",
            "value": "tokenizer.json: 100%"
          }
        },
        "97f8385ab99f4f85b8e6353fce46ca94": {
          "model_module": "@jupyter-widgets/base",
          "model_module_version": "1.2.0",
          "model_name": "LayoutModel",
          "state": {
            "_model_module": "@jupyter-widgets/base",
            "_model_module_version": "1.2.0",
            "_model_name": "LayoutModel",
            "_view_count": null,
            "_view_module": "@jupyter-widgets/base",
            "_view_module_version": "1.2.0",
            "_view_name": "LayoutView",
            "align_content": null,
            "align_items": null,
            "align_self": null,
            "border": null,
            "bottom": null,
            "display": null,
            "flex": null,
            "flex_flow": null,
            "grid_area": null,
            "grid_auto_columns": null,
            "grid_auto_flow": null,
            "grid_auto_rows": null,
            "grid_column": null,
            "grid_gap": null,
            "grid_row": null,
            "grid_template_areas": null,
            "grid_template_columns": null,
            "grid_template_rows": null,
            "height": null,
            "justify_content": null,
            "justify_items": null,
            "left": null,
            "margin": null,
            "max_height": null,
            "max_width": null,
            "min_height": null,
            "min_width": null,
            "object_fit": null,
            "object_position": null,
            "order": null,
            "overflow": null,
            "overflow_x": null,
            "overflow_y": null,
            "padding": null,
            "right": null,
            "top": null,
            "visibility": null,
            "width": null
          }
        },
        "9b1133ef231243da9d4a9c665cac3314": {
          "model_module": "@jupyter-widgets/controls",
          "model_module_version": "1.5.0",
          "model_name": "DescriptionStyleModel",
          "state": {
            "_model_module": "@jupyter-widgets/controls",
            "_model_module_version": "1.5.0",
            "_model_name": "DescriptionStyleModel",
            "_view_count": null,
            "_view_module": "@jupyter-widgets/base",
            "_view_module_version": "1.2.0",
            "_view_name": "StyleView",
            "description_width": ""
          }
        },
        "9e12b5bec38046d49376a6dd1457f0e6": {
          "model_module": "@jupyter-widgets/base",
          "model_module_version": "1.2.0",
          "model_name": "LayoutModel",
          "state": {
            "_model_module": "@jupyter-widgets/base",
            "_model_module_version": "1.2.0",
            "_model_name": "LayoutModel",
            "_view_count": null,
            "_view_module": "@jupyter-widgets/base",
            "_view_module_version": "1.2.0",
            "_view_name": "LayoutView",
            "align_content": null,
            "align_items": null,
            "align_self": null,
            "border": null,
            "bottom": null,
            "display": null,
            "flex": null,
            "flex_flow": null,
            "grid_area": null,
            "grid_auto_columns": null,
            "grid_auto_flow": null,
            "grid_auto_rows": null,
            "grid_column": null,
            "grid_gap": null,
            "grid_row": null,
            "grid_template_areas": null,
            "grid_template_columns": null,
            "grid_template_rows": null,
            "height": null,
            "justify_content": null,
            "justify_items": null,
            "left": null,
            "margin": null,
            "max_height": null,
            "max_width": null,
            "min_height": null,
            "min_width": null,
            "object_fit": null,
            "object_position": null,
            "order": null,
            "overflow": null,
            "overflow_x": null,
            "overflow_y": null,
            "padding": null,
            "right": null,
            "top": null,
            "visibility": null,
            "width": null
          }
        },
        "9ffdcc62c61944a4bc0f7cec16936475": {
          "model_module": "@jupyter-widgets/controls",
          "model_module_version": "1.5.0",
          "model_name": "ProgressStyleModel",
          "state": {
            "_model_module": "@jupyter-widgets/controls",
            "_model_module_version": "1.5.0",
            "_model_name": "ProgressStyleModel",
            "_view_count": null,
            "_view_module": "@jupyter-widgets/base",
            "_view_module_version": "1.2.0",
            "_view_name": "StyleView",
            "bar_color": null,
            "description_width": ""
          }
        },
        "a00f85234d2640da8c47cc43bc5a63d7": {
          "model_module": "@jupyter-widgets/controls",
          "model_module_version": "1.5.0",
          "model_name": "HBoxModel",
          "state": {
            "_dom_classes": [],
            "_model_module": "@jupyter-widgets/controls",
            "_model_module_version": "1.5.0",
            "_model_name": "HBoxModel",
            "_view_count": null,
            "_view_module": "@jupyter-widgets/controls",
            "_view_module_version": "1.5.0",
            "_view_name": "HBoxView",
            "box_style": "",
            "children": [
              "IPY_MODEL_95f2ec022adb428c9a84e3faf4963cc6",
              "IPY_MODEL_a4f9572b46b341e592055492c5f74f18",
              "IPY_MODEL_0791042065b64dc8b08c0a690075b431"
            ],
            "layout": "IPY_MODEL_3f63636e92b14880bce43e4783ddd536"
          }
        },
        "a3578bb343514b738510794fbfec2215": {
          "model_module": "@jupyter-widgets/base",
          "model_module_version": "1.2.0",
          "model_name": "LayoutModel",
          "state": {
            "_model_module": "@jupyter-widgets/base",
            "_model_module_version": "1.2.0",
            "_model_name": "LayoutModel",
            "_view_count": null,
            "_view_module": "@jupyter-widgets/base",
            "_view_module_version": "1.2.0",
            "_view_name": "LayoutView",
            "align_content": null,
            "align_items": null,
            "align_self": null,
            "border": null,
            "bottom": null,
            "display": null,
            "flex": null,
            "flex_flow": null,
            "grid_area": null,
            "grid_auto_columns": null,
            "grid_auto_flow": null,
            "grid_auto_rows": null,
            "grid_column": null,
            "grid_gap": null,
            "grid_row": null,
            "grid_template_areas": null,
            "grid_template_columns": null,
            "grid_template_rows": null,
            "height": null,
            "justify_content": null,
            "justify_items": null,
            "left": null,
            "margin": null,
            "max_height": null,
            "max_width": null,
            "min_height": null,
            "min_width": null,
            "object_fit": null,
            "object_position": null,
            "order": null,
            "overflow": null,
            "overflow_x": null,
            "overflow_y": null,
            "padding": null,
            "right": null,
            "top": null,
            "visibility": null,
            "width": null
          }
        },
        "a4f9572b46b341e592055492c5f74f18": {
          "model_module": "@jupyter-widgets/controls",
          "model_module_version": "1.5.0",
          "model_name": "FloatProgressModel",
          "state": {
            "_dom_classes": [],
            "_model_module": "@jupyter-widgets/controls",
            "_model_module_version": "1.5.0",
            "_model_name": "FloatProgressModel",
            "_view_count": null,
            "_view_module": "@jupyter-widgets/controls",
            "_view_module_version": "1.5.0",
            "_view_name": "ProgressView",
            "bar_style": "success",
            "description": "",
            "description_tooltip": null,
            "layout": "IPY_MODEL_170f2a5491644a3a939e2254ef0ffb32",
            "max": 2224041,
            "min": 0,
            "orientation": "horizontal",
            "style": "IPY_MODEL_9ffdcc62c61944a4bc0f7cec16936475",
            "value": 2224041
          }
        },
        "aaef6bfccc4d4a59b983dc63a6430703": {
          "model_module": "@jupyter-widgets/controls",
          "model_module_version": "1.5.0",
          "model_name": "ProgressStyleModel",
          "state": {
            "_model_module": "@jupyter-widgets/controls",
            "_model_module_version": "1.5.0",
            "_model_name": "ProgressStyleModel",
            "_view_count": null,
            "_view_module": "@jupyter-widgets/base",
            "_view_module_version": "1.2.0",
            "_view_name": "StyleView",
            "bar_color": null,
            "description_width": ""
          }
        },
        "ad57c3db59774581803756cceb0fc09f": {
          "model_module": "@jupyter-widgets/controls",
          "model_module_version": "1.5.0",
          "model_name": "DescriptionStyleModel",
          "state": {
            "_model_module": "@jupyter-widgets/controls",
            "_model_module_version": "1.5.0",
            "_model_name": "DescriptionStyleModel",
            "_view_count": null,
            "_view_module": "@jupyter-widgets/base",
            "_view_module_version": "1.2.0",
            "_view_name": "StyleView",
            "description_width": ""
          }
        },
        "b081e2121cbf438db7e5caf3f19f95fa": {
          "model_module": "@jupyter-widgets/controls",
          "model_module_version": "1.5.0",
          "model_name": "HTMLModel",
          "state": {
            "_dom_classes": [],
            "_model_module": "@jupyter-widgets/controls",
            "_model_module_version": "1.5.0",
            "_model_name": "HTMLModel",
            "_view_count": null,
            "_view_module": "@jupyter-widgets/controls",
            "_view_module_version": "1.5.0",
            "_view_name": "HTMLView",
            "description": "",
            "description_tooltip": null,
            "layout": "IPY_MODEL_f546bddf28f64a4ab6ee2d1e1c73c019",
            "placeholder": "​",
            "style": "IPY_MODEL_51ec4d8b86974c329e7d751e8262d546",
            "value": "config.json: 100%"
          }
        },
        "b52490c677f048d6acd6ace06bd5e514": {
          "model_module": "@jupyter-widgets/controls",
          "model_module_version": "1.5.0",
          "model_name": "DescriptionStyleModel",
          "state": {
            "_model_module": "@jupyter-widgets/controls",
            "_model_module_version": "1.5.0",
            "_model_name": "DescriptionStyleModel",
            "_view_count": null,
            "_view_module": "@jupyter-widgets/base",
            "_view_module_version": "1.2.0",
            "_view_name": "StyleView",
            "description_width": ""
          }
        },
        "bd3149f2a88f41959ee4c408f89b77a6": {
          "model_module": "@jupyter-widgets/controls",
          "model_module_version": "1.5.0",
          "model_name": "HTMLModel",
          "state": {
            "_dom_classes": [],
            "_model_module": "@jupyter-widgets/controls",
            "_model_module_version": "1.5.0",
            "_model_name": "HTMLModel",
            "_view_count": null,
            "_view_module": "@jupyter-widgets/controls",
            "_view_module_version": "1.5.0",
            "_view_name": "HTMLView",
            "description": "",
            "description_tooltip": null,
            "layout": "IPY_MODEL_70f92b57bce644b69ff3fac478b46f8a",
            "placeholder": "​",
            "style": "IPY_MODEL_c6a21acdf3194ece887f3a6c49abd712",
            "value": " 525k/525k [00:00&lt;00:00, 12.7MB/s]"
          }
        },
        "c19a0a46f72840acb500202502aa907d": {
          "model_module": "@jupyter-widgets/base",
          "model_module_version": "1.2.0",
          "model_name": "LayoutModel",
          "state": {
            "_model_module": "@jupyter-widgets/base",
            "_model_module_version": "1.2.0",
            "_model_name": "LayoutModel",
            "_view_count": null,
            "_view_module": "@jupyter-widgets/base",
            "_view_module_version": "1.2.0",
            "_view_name": "LayoutView",
            "align_content": null,
            "align_items": null,
            "align_self": null,
            "border": null,
            "bottom": null,
            "display": null,
            "flex": null,
            "flex_flow": null,
            "grid_area": null,
            "grid_auto_columns": null,
            "grid_auto_flow": null,
            "grid_auto_rows": null,
            "grid_column": null,
            "grid_gap": null,
            "grid_row": null,
            "grid_template_areas": null,
            "grid_template_columns": null,
            "grid_template_rows": null,
            "height": null,
            "justify_content": null,
            "justify_items": null,
            "left": null,
            "margin": null,
            "max_height": null,
            "max_width": null,
            "min_height": null,
            "min_width": null,
            "object_fit": null,
            "object_position": null,
            "order": null,
            "overflow": null,
            "overflow_x": null,
            "overflow_y": null,
            "padding": null,
            "right": null,
            "top": null,
            "visibility": null,
            "width": null
          }
        },
        "c1c92e872fd445e597d8c2d609e8ab52": {
          "model_module": "@jupyter-widgets/controls",
          "model_module_version": "1.5.0",
          "model_name": "HTMLModel",
          "state": {
            "_dom_classes": [],
            "_model_module": "@jupyter-widgets/controls",
            "_model_module_version": "1.5.0",
            "_model_name": "HTMLModel",
            "_view_count": null,
            "_view_module": "@jupyter-widgets/controls",
            "_view_module_version": "1.5.0",
            "_view_name": "HTMLView",
            "description": "",
            "description_tooltip": null,
            "layout": "IPY_MODEL_a3578bb343514b738510794fbfec2215",
            "placeholder": "​",
            "style": "IPY_MODEL_60bb4c846e1148e299c9e96dd8922b7a",
            "value": "preprocessor_config.json: 100%"
          }
        },
        "c22fc92300944084bead22b999cdb247": {
          "model_module": "@jupyter-widgets/controls",
          "model_module_version": "1.5.0",
          "model_name": "FloatProgressModel",
          "state": {
            "_dom_classes": [],
            "_model_module": "@jupyter-widgets/controls",
            "_model_module_version": "1.5.0",
            "_model_name": "FloatProgressModel",
            "_view_count": null,
            "_view_module": "@jupyter-widgets/controls",
            "_view_module_version": "1.5.0",
            "_view_name": "ProgressView",
            "bar_style": "success",
            "description": "",
            "description_tooltip": null,
            "layout": "IPY_MODEL_6e742fd6408c4c9c982603ba931a71d9",
            "max": 862328,
            "min": 0,
            "orientation": "horizontal",
            "style": "IPY_MODEL_55e4ca6b53464d8a9d90a17f7f396ced",
            "value": 862328
          }
        },
        "c53995dece8d4689a817e48bcaf8a0f6": {
          "model_module": "@jupyter-widgets/controls",
          "model_module_version": "1.5.0",
          "model_name": "HTMLModel",
          "state": {
            "_dom_classes": [],
            "_model_module": "@jupyter-widgets/controls",
            "_model_module_version": "1.5.0",
            "_model_name": "HTMLModel",
            "_view_count": null,
            "_view_module": "@jupyter-widgets/controls",
            "_view_module_version": "1.5.0",
            "_view_name": "HTMLView",
            "description": "",
            "description_tooltip": null,
            "layout": "IPY_MODEL_97f8385ab99f4f85b8e6353fce46ca94",
            "placeholder": "​",
            "style": "IPY_MODEL_5305b3375c2245ecb32772acb0c81ef3",
            "value": " 316/316 [00:00&lt;00:00, 8.86kB/s]"
          }
        },
        "c58a1a240a474cb88b7336400d1a574e": {
          "model_module": "@jupyter-widgets/controls",
          "model_module_version": "1.5.0",
          "model_name": "FloatProgressModel",
          "state": {
            "_dom_classes": [],
            "_model_module": "@jupyter-widgets/controls",
            "_model_module_version": "1.5.0",
            "_model_name": "FloatProgressModel",
            "_view_count": null,
            "_view_module": "@jupyter-widgets/controls",
            "_view_module_version": "1.5.0",
            "_view_name": "ProgressView",
            "bar_style": "success",
            "description": "",
            "description_tooltip": null,
            "layout": "IPY_MODEL_d08fe25f9e0642dba558bd803c6d46e4",
            "max": 592,
            "min": 0,
            "orientation": "horizontal",
            "style": "IPY_MODEL_63ab213b2ee0428987f7a4294e77ae3a",
            "value": 592
          }
        },
        "c5f012d44a1d4afaa83322f68b337e27": {
          "model_module": "@jupyter-widgets/controls",
          "model_module_version": "1.5.0",
          "model_name": "FloatProgressModel",
          "state": {
            "_dom_classes": [],
            "_model_module": "@jupyter-widgets/controls",
            "_model_module_version": "1.5.0",
            "_model_name": "FloatProgressModel",
            "_view_count": null,
            "_view_module": "@jupyter-widgets/controls",
            "_view_module_version": "1.5.0",
            "_view_name": "ProgressView",
            "bar_style": "success",
            "description": "",
            "description_tooltip": null,
            "layout": "IPY_MODEL_3fd49965f00846c28f4029e1950c4735",
            "max": 389,
            "min": 0,
            "orientation": "horizontal",
            "style": "IPY_MODEL_aaef6bfccc4d4a59b983dc63a6430703",
            "value": 389
          }
        },
        "c6a21acdf3194ece887f3a6c49abd712": {
          "model_module": "@jupyter-widgets/controls",
          "model_module_version": "1.5.0",
          "model_name": "DescriptionStyleModel",
          "state": {
            "_model_module": "@jupyter-widgets/controls",
            "_model_module_version": "1.5.0",
            "_model_name": "DescriptionStyleModel",
            "_view_count": null,
            "_view_module": "@jupyter-widgets/base",
            "_view_module_version": "1.2.0",
            "_view_name": "StyleView",
            "description_width": ""
          }
        },
        "c9387a132cc54703a9067be5bf346748": {
          "model_module": "@jupyter-widgets/base",
          "model_module_version": "1.2.0",
          "model_name": "LayoutModel",
          "state": {
            "_model_module": "@jupyter-widgets/base",
            "_model_module_version": "1.2.0",
            "_model_name": "LayoutModel",
            "_view_count": null,
            "_view_module": "@jupyter-widgets/base",
            "_view_module_version": "1.2.0",
            "_view_name": "LayoutView",
            "align_content": null,
            "align_items": null,
            "align_self": null,
            "border": null,
            "bottom": null,
            "display": null,
            "flex": null,
            "flex_flow": null,
            "grid_area": null,
            "grid_auto_columns": null,
            "grid_auto_flow": null,
            "grid_auto_rows": null,
            "grid_column": null,
            "grid_gap": null,
            "grid_row": null,
            "grid_template_areas": null,
            "grid_template_columns": null,
            "grid_template_rows": null,
            "height": null,
            "justify_content": null,
            "justify_items": null,
            "left": null,
            "margin": null,
            "max_height": null,
            "max_width": null,
            "min_height": null,
            "min_width": null,
            "object_fit": null,
            "object_position": null,
            "order": null,
            "overflow": null,
            "overflow_x": null,
            "overflow_y": null,
            "padding": null,
            "right": null,
            "top": null,
            "visibility": null,
            "width": null
          }
        },
        "cd20b3bae0464b7a9eb5ce0768a7e449": {
          "model_module": "@jupyter-widgets/controls",
          "model_module_version": "1.5.0",
          "model_name": "HTMLModel",
          "state": {
            "_dom_classes": [],
            "_model_module": "@jupyter-widgets/controls",
            "_model_module_version": "1.5.0",
            "_model_name": "HTMLModel",
            "_view_count": null,
            "_view_module": "@jupyter-widgets/controls",
            "_view_module_version": "1.5.0",
            "_view_name": "HTMLView",
            "description": "",
            "description_tooltip": null,
            "layout": "IPY_MODEL_64f6ab366b0d404aa308c1fa6f17cd73",
            "placeholder": "​",
            "style": "IPY_MODEL_43cc8ea92d9440d78475e5e3fb1421c6",
            "value": " 605M/605M [00:06&lt;00:00, 37.6MB/s]"
          }
        },
        "cdca11c401f04732924a5e45237fd6d6": {
          "model_module": "@jupyter-widgets/base",
          "model_module_version": "1.2.0",
          "model_name": "LayoutModel",
          "state": {
            "_model_module": "@jupyter-widgets/base",
            "_model_module_version": "1.2.0",
            "_model_name": "LayoutModel",
            "_view_count": null,
            "_view_module": "@jupyter-widgets/base",
            "_view_module_version": "1.2.0",
            "_view_name": "LayoutView",
            "align_content": null,
            "align_items": null,
            "align_self": null,
            "border": null,
            "bottom": null,
            "display": null,
            "flex": null,
            "flex_flow": null,
            "grid_area": null,
            "grid_auto_columns": null,
            "grid_auto_flow": null,
            "grid_auto_rows": null,
            "grid_column": null,
            "grid_gap": null,
            "grid_row": null,
            "grid_template_areas": null,
            "grid_template_columns": null,
            "grid_template_rows": null,
            "height": null,
            "justify_content": null,
            "justify_items": null,
            "left": null,
            "margin": null,
            "max_height": null,
            "max_width": null,
            "min_height": null,
            "min_width": null,
            "object_fit": null,
            "object_position": null,
            "order": null,
            "overflow": null,
            "overflow_x": null,
            "overflow_y": null,
            "padding": null,
            "right": null,
            "top": null,
            "visibility": null,
            "width": null
          }
        },
        "d08fe25f9e0642dba558bd803c6d46e4": {
          "model_module": "@jupyter-widgets/base",
          "model_module_version": "1.2.0",
          "model_name": "LayoutModel",
          "state": {
            "_model_module": "@jupyter-widgets/base",
            "_model_module_version": "1.2.0",
            "_model_name": "LayoutModel",
            "_view_count": null,
            "_view_module": "@jupyter-widgets/base",
            "_view_module_version": "1.2.0",
            "_view_name": "LayoutView",
            "align_content": null,
            "align_items": null,
            "align_self": null,
            "border": null,
            "bottom": null,
            "display": null,
            "flex": null,
            "flex_flow": null,
            "grid_area": null,
            "grid_auto_columns": null,
            "grid_auto_flow": null,
            "grid_auto_rows": null,
            "grid_column": null,
            "grid_gap": null,
            "grid_row": null,
            "grid_template_areas": null,
            "grid_template_columns": null,
            "grid_template_rows": null,
            "height": null,
            "justify_content": null,
            "justify_items": null,
            "left": null,
            "margin": null,
            "max_height": null,
            "max_width": null,
            "min_height": null,
            "min_width": null,
            "object_fit": null,
            "object_position": null,
            "order": null,
            "overflow": null,
            "overflow_x": null,
            "overflow_y": null,
            "padding": null,
            "right": null,
            "top": null,
            "visibility": null,
            "width": null
          }
        },
        "d78d6ac528604f8d97ed9ff3d77da3c2": {
          "model_module": "@jupyter-widgets/base",
          "model_module_version": "1.2.0",
          "model_name": "LayoutModel",
          "state": {
            "_model_module": "@jupyter-widgets/base",
            "_model_module_version": "1.2.0",
            "_model_name": "LayoutModel",
            "_view_count": null,
            "_view_module": "@jupyter-widgets/base",
            "_view_module_version": "1.2.0",
            "_view_name": "LayoutView",
            "align_content": null,
            "align_items": null,
            "align_self": null,
            "border": null,
            "bottom": null,
            "display": null,
            "flex": null,
            "flex_flow": null,
            "grid_area": null,
            "grid_auto_columns": null,
            "grid_auto_flow": null,
            "grid_auto_rows": null,
            "grid_column": null,
            "grid_gap": null,
            "grid_row": null,
            "grid_template_areas": null,
            "grid_template_columns": null,
            "grid_template_rows": null,
            "height": null,
            "justify_content": null,
            "justify_items": null,
            "left": null,
            "margin": null,
            "max_height": null,
            "max_width": null,
            "min_height": null,
            "min_width": null,
            "object_fit": null,
            "object_position": null,
            "order": null,
            "overflow": null,
            "overflow_x": null,
            "overflow_y": null,
            "padding": null,
            "right": null,
            "top": null,
            "visibility": null,
            "width": null
          }
        },
        "d959c1a3770f4cc1b9941a507f355071": {
          "model_module": "@jupyter-widgets/controls",
          "model_module_version": "1.5.0",
          "model_name": "ProgressStyleModel",
          "state": {
            "_model_module": "@jupyter-widgets/controls",
            "_model_module_version": "1.5.0",
            "_model_name": "ProgressStyleModel",
            "_view_count": null,
            "_view_module": "@jupyter-widgets/base",
            "_view_module_version": "1.2.0",
            "_view_name": "StyleView",
            "bar_color": null,
            "description_width": ""
          }
        },
        "de367a29f25e4140b2456023d193155e": {
          "model_module": "@jupyter-widgets/controls",
          "model_module_version": "1.5.0",
          "model_name": "HBoxModel",
          "state": {
            "_dom_classes": [],
            "_model_module": "@jupyter-widgets/controls",
            "_model_module_version": "1.5.0",
            "_model_name": "HBoxModel",
            "_view_count": null,
            "_view_module": "@jupyter-widgets/controls",
            "_view_module_version": "1.5.0",
            "_view_name": "HBoxView",
            "box_style": "",
            "children": [
              "IPY_MODEL_935e303119de47ed911802ce9948d4af",
              "IPY_MODEL_234ae72b3bd149cf8e1050d0741bff61",
              "IPY_MODEL_bd3149f2a88f41959ee4c408f89b77a6"
            ],
            "layout": "IPY_MODEL_8c35eee24f6044c5aa4f0145ec57e713"
          }
        },
        "de8579ea6cb844f997716ce312bff1f0": {
          "model_module": "@jupyter-widgets/controls",
          "model_module_version": "1.5.0",
          "model_name": "DescriptionStyleModel",
          "state": {
            "_model_module": "@jupyter-widgets/controls",
            "_model_module_version": "1.5.0",
            "_model_name": "DescriptionStyleModel",
            "_view_count": null,
            "_view_module": "@jupyter-widgets/base",
            "_view_module_version": "1.2.0",
            "_view_name": "StyleView",
            "description_width": ""
          }
        },
        "e13bf5931b5a4247a8b326081866c6a5": {
          "model_module": "@jupyter-widgets/controls",
          "model_module_version": "1.5.0",
          "model_name": "DescriptionStyleModel",
          "state": {
            "_model_module": "@jupyter-widgets/controls",
            "_model_module_version": "1.5.0",
            "_model_name": "DescriptionStyleModel",
            "_view_count": null,
            "_view_module": "@jupyter-widgets/base",
            "_view_module_version": "1.2.0",
            "_view_name": "StyleView",
            "description_width": ""
          }
        },
        "e71e0accf16b4ce0b5be7d3170ffcc68": {
          "model_module": "@jupyter-widgets/controls",
          "model_module_version": "1.5.0",
          "model_name": "HTMLModel",
          "state": {
            "_dom_classes": [],
            "_model_module": "@jupyter-widgets/controls",
            "_model_module_version": "1.5.0",
            "_model_name": "HTMLModel",
            "_view_count": null,
            "_view_module": "@jupyter-widgets/controls",
            "_view_module_version": "1.5.0",
            "_view_name": "HTMLView",
            "description": "",
            "description_tooltip": null,
            "layout": "IPY_MODEL_3bf6f352041945308bda7166279290c0",
            "placeholder": "​",
            "style": "IPY_MODEL_5ad2fdd930a44820b1b3a96035c412d4",
            "value": " 592/592 [00:00&lt;00:00, 16.5kB/s]"
          }
        },
        "f546bddf28f64a4ab6ee2d1e1c73c019": {
          "model_module": "@jupyter-widgets/base",
          "model_module_version": "1.2.0",
          "model_name": "LayoutModel",
          "state": {
            "_model_module": "@jupyter-widgets/base",
            "_model_module_version": "1.2.0",
            "_model_name": "LayoutModel",
            "_view_count": null,
            "_view_module": "@jupyter-widgets/base",
            "_view_module_version": "1.2.0",
            "_view_name": "LayoutView",
            "align_content": null,
            "align_items": null,
            "align_self": null,
            "border": null,
            "bottom": null,
            "display": null,
            "flex": null,
            "flex_flow": null,
            "grid_area": null,
            "grid_auto_columns": null,
            "grid_auto_flow": null,
            "grid_auto_rows": null,
            "grid_column": null,
            "grid_gap": null,
            "grid_row": null,
            "grid_template_areas": null,
            "grid_template_columns": null,
            "grid_template_rows": null,
            "height": null,
            "justify_content": null,
            "justify_items": null,
            "left": null,
            "margin": null,
            "max_height": null,
            "max_width": null,
            "min_height": null,
            "min_width": null,
            "object_fit": null,
            "object_position": null,
            "order": null,
            "overflow": null,
            "overflow_x": null,
            "overflow_y": null,
            "padding": null,
            "right": null,
            "top": null,
            "visibility": null,
            "width": null
          }
        },
        "f7e07ebdd2ce48e3a2d596de890b6571": {
          "model_module": "@jupyter-widgets/controls",
          "model_module_version": "1.5.0",
          "model_name": "ProgressStyleModel",
          "state": {
            "_model_module": "@jupyter-widgets/controls",
            "_model_module_version": "1.5.0",
            "_model_name": "ProgressStyleModel",
            "_view_count": null,
            "_view_module": "@jupyter-widgets/base",
            "_view_module_version": "1.2.0",
            "_view_name": "StyleView",
            "bar_color": null,
            "description_width": ""
          }
        },
        "fd76525e4afa44419a7f1c6313c33988": {
          "model_module": "@jupyter-widgets/controls",
          "model_module_version": "1.5.0",
          "model_name": "HTMLModel",
          "state": {
            "_dom_classes": [],
            "_model_module": "@jupyter-widgets/controls",
            "_model_module_version": "1.5.0",
            "_model_name": "HTMLModel",
            "_view_count": null,
            "_view_module": "@jupyter-widgets/controls",
            "_view_module_version": "1.5.0",
            "_view_name": "HTMLView",
            "description": "",
            "description_tooltip": null,
            "layout": "IPY_MODEL_78965ae03c864efab26f1a87690520c7",
            "placeholder": "​",
            "style": "IPY_MODEL_9b1133ef231243da9d4a9c665cac3314",
            "value": "vocab.json: 100%"
          }
        },
        "fdec266ded4d4705b90f08cae7421a38": {
          "model_module": "@jupyter-widgets/base",
          "model_module_version": "1.2.0",
          "model_name": "LayoutModel",
          "state": {
            "_model_module": "@jupyter-widgets/base",
            "_model_module_version": "1.2.0",
            "_model_name": "LayoutModel",
            "_view_count": null,
            "_view_module": "@jupyter-widgets/base",
            "_view_module_version": "1.2.0",
            "_view_name": "LayoutView",
            "align_content": null,
            "align_items": null,
            "align_self": null,
            "border": null,
            "bottom": null,
            "display": null,
            "flex": null,
            "flex_flow": null,
            "grid_area": null,
            "grid_auto_columns": null,
            "grid_auto_flow": null,
            "grid_auto_rows": null,
            "grid_column": null,
            "grid_gap": null,
            "grid_row": null,
            "grid_template_areas": null,
            "grid_template_columns": null,
            "grid_template_rows": null,
            "height": null,
            "justify_content": null,
            "justify_items": null,
            "left": null,
            "margin": null,
            "max_height": null,
            "max_width": null,
            "min_height": null,
            "min_width": null,
            "object_fit": null,
            "object_position": null,
            "order": null,
            "overflow": null,
            "overflow_x": null,
            "overflow_y": null,
            "padding": null,
            "right": null,
            "top": null,
            "visibility": null,
            "width": null
          }
        }
      }
    }
  },
  "nbformat": 4,
  "nbformat_minor": 0
}
